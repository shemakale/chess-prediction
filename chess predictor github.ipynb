{
 "cells": [
  {
   "cell_type": "markdown",
   "metadata": {},
   "source": [
    "# Предсказание моих шахматных результатов. Ход конём"
   ]
  },
  {
   "cell_type": "markdown",
   "metadata": {},
   "source": [
    "Приветствую всех! Что собственно говоря, происходит?"
   ]
  },
  {
   "cell_type": "markdown",
   "metadata": {},
   "source": [
    "Меня зовут Максим, и я шахматист. Я играю в шахматы с 3 лет, и это был мой осознанный выбор (нет). Я имею звание КМС и очень люблю играть в шахматы онлайн. Я сейчас играю на одном из лучших сайтов для игры онлайн - lichess.com. На апрель 2021 года у меня было сыграно около 2000 партий, в основном это блиц (blitz, контроль времени 3-5 минут на партию) или пуля (bullet, контроль времени 1-2 минуты на партию). Мне стало интересно, возможно ли предсказать с достаточной точностью, выиграю ли я определенную партию или нет, исходя из данных, которые можно собрать с сайта lichess? Я скачал базу моих партий на этом сайте и начал разбираться..."
   ]
  },
  {
   "cell_type": "markdown",
   "metadata": {},
   "source": [
    "## 1. Постановка задачи. Обзор имеющихся данных"
   ]
  },
  {
   "cell_type": "markdown",
   "metadata": {},
   "source": [
    "Загружаем нужные библиотеки для начала"
   ]
  },
  {
   "cell_type": "code",
   "execution_count": 1,
   "metadata": {},
   "outputs": [],
   "source": [
    "%matplotlib inline\n",
    "import re\n",
    "import pandas as pd\n",
    "import numpy as np\n",
    "import datetime\n",
    "import matplotlib.pyplot as plt\n",
    "import seaborn as sns\n",
    "from sklearn.tree import DecisionTreeClassifier\n",
    "from sklearn.model_selection import GridSearchCV, RandomizedSearchCV\n",
    "from sklearn.metrics import roc_curve, auc\n",
    "from sklearn.ensemble import RandomForestClassifier\n",
    "from chess_lib import create_df_from_pgn, statistics_eco, create_X, create_my_result, plot_auc_roc\n",
    "from sklearn.linear_model import LogisticRegression\n",
    "from itertools import combinations"
   ]
  },
  {
   "cell_type": "markdown",
   "metadata": {},
   "source": [
    "Здесь библиотека chess_lib - это файл, который я создал сам. В нём все функции для парсинга pgn файлов и создания из них Dataframe-ов, создания фичей и формирования из них train и test Dataframe-ов, создания Series для целевой переменной и прочее. Но об этом позже..."
   ]
  },
  {
   "cell_type": "markdown",
   "metadata": {},
   "source": [
    "База данных партий хранится в файле формата .pgn (это такой стандарт для шахматных баз данных). Это по сути текстовый файл, отформатированный определенным образом. Давайте взглянем на его кусочек."
   ]
  },
  {
   "cell_type": "code",
   "execution_count": 2,
   "metadata": {},
   "outputs": [
    {
     "name": "stdout",
     "output_type": "stream",
     "text": [
      "[Event \"Rated Bullet game\"]\n",
      "[Site \"https://lichess.org/XvR2rQFZ\"]\n",
      "[Date \"2021.04.20\"]\n",
      "[White \"AlexanderChetverik\"]\n",
      "[Black \"shahmatpatblog\"]\n",
      "[Result \"1-0\"]\n",
      "[UTCDate \"2021.04.20\"]\n",
      "[UTCTime \"08:27:29\"]\n",
      "[WhiteElo \"2058\"]\n",
      "[BlackElo \"2194\"]\n",
      "[WhiteRatingDiff \"+8\"]\n",
      "[BlackRatingDiff \"-7\"]\n",
      "[Variant \"Standard\"]\n",
      "[TimeControl \"120+1\"]\n",
      "[ECO \"A45\"]\n",
      "[Termination \"Normal\"]\n",
      "\n",
      "1. d4 Nf6 2. f4 d5 3. Nf3 c5 4. e3 Nc6 5. b3 g6 6. dxc5 Bg7 7. Bb2 Qa5+ 8. Nbd2 Qxc5 9. Nd4 Bg4 10. Be2 Bxe2 11. Qxe2 O-O 12. O-O Nxd4 13. Bxd4 Qxc2 14. Rfc1 Qf5 15. Rc7 b6 16. Rxe7 Rfe8 17. Rxe8+ Rxe8 18. Qb5 Qd7 19. Qxd7 Nxd7 20. Bxg7 Kxg7 21. Kf2 Nc5 22. Rd1 a5 23. g4 f6 24. Kf3 Kf7 25. Nb1 Ke6 26. Nc3 Rd8 27. h4 h6 28. Nb5 Rd7 29. Nd4+ Kf7 30. f5 g5 31. h5 Ne4 32. Nb5 Ke7 33. Rd3 Nc5 34. Rd4 Rd8 35. Nc3 Rd6 36. Nxd5+ Kf7 37. Nc3 Rxd4 38. exd4 Nb7 39. Ke4 Ke7 40. Nb5 Kd7 41. d5 Nc5+ 42. Kd4 Nb7 43. Nc3 Nd6 44. Ne4 Nb5+ 45. Kc4 Na3+ 46. Kd3 b5 47. Nxf6+ Kd6 48. Ne4+ Kxd5 49. Nf6+ Ke5 50. Ng8 Kf4 51. Nxh6 b4 52. f6 Nb5 53. f7 1-0\n",
      "\n",
      "\n"
     ]
    }
   ],
   "source": [
    "with open('C:\\python\\ML_coursera\\Data Science\\lichess_base\\lichess_shahmatpatblog_2021-04-20.pgn', 'r', encoding='utf-8') as f:\n",
    "    text_file = f.read()\n",
    "print(text_file[:1000])"
   ]
  },
  {
   "cell_type": "markdown",
   "metadata": {},
   "source": [
    "Здесь отображена информация о последних (по хронометражу) двух играх. Вначале идёт заголовок партии, затем ходы партии. Как мы видим, мы можем воспользоваться следующей информацией:"
   ]
  },
  {
   "cell_type": "markdown",
   "metadata": {},
   "source": [
    "Event - тип события. Может быть обычная блиц партия, обычная пуля-партия, какой-нибудь турнир (если сыграна в турнире)"
   ]
  },
  {
   "cell_type": "markdown",
   "metadata": {},
   "source": [
    "Site - ссылка на страничку партии"
   ]
  },
  {
   "cell_type": "markdown",
   "metadata": {},
   "source": [
    "Date - дата партии"
   ]
  },
  {
   "cell_type": "markdown",
   "metadata": {},
   "source": [
    "White - никнейм игрока, играющего белыми"
   ]
  },
  {
   "cell_type": "markdown",
   "metadata": {},
   "source": [
    "Black - никнейм игрока, играющего черными"
   ]
  },
  {
   "cell_type": "markdown",
   "metadata": {},
   "source": [
    "Result - результат партии (1-0, 0-1, 1/2-1/2)"
   ]
  },
  {
   "cell_type": "markdown",
   "metadata": {},
   "source": [
    "UTCDate - дата UTC"
   ]
  },
  {
   "cell_type": "markdown",
   "metadata": {},
   "source": [
    "UTCTime - время UTC (-4 часа от моего часового пояса)"
   ]
  },
  {
   "cell_type": "markdown",
   "metadata": {},
   "source": [
    "WhiteElo - рейтинг (Elo) белых"
   ]
  },
  {
   "cell_type": "markdown",
   "metadata": {},
   "source": [
    "BlackElo - рейтинг (Elo) черных"
   ]
  },
  {
   "cell_type": "markdown",
   "metadata": {},
   "source": [
    "WhiteRatingDiff - изменение рейтинга белых по результату данной партии"
   ]
  },
  {
   "cell_type": "markdown",
   "metadata": {},
   "source": [
    "BlackRatingDiff - изменение рейтинга черных по результату данной партии"
   ]
  },
  {
   "cell_type": "markdown",
   "metadata": {},
   "source": [
    "Variant - тип выбранного режима игры (обычные, шахматы Фишера, поддавки и т.п.). Я играю только обычные (Standard)"
   ]
  },
  {
   "cell_type": "markdown",
   "metadata": {},
   "source": [
    "TimeControl - контроль времени. \"180+2\" например, значит, что контроль времени 3 минуты (180 с) с добавлением 2 с на ход."
   ]
  },
  {
   "cell_type": "markdown",
   "metadata": {},
   "source": [
    "ECO - дебютный индекс партии. Определяет, какой дебют был разыгран в партии"
   ]
  },
  {
   "cell_type": "markdown",
   "metadata": {},
   "source": [
    "Termination - тип окончания партии. Нормальное значит кто-то сдался, или мат, или согласились на ничью. Может быть еще просрочка времени"
   ]
  },
  {
   "cell_type": "markdown",
   "metadata": {},
   "source": [
    "Набор ходов партии в виде стандартной шахматной нотации"
   ]
  },
  {
   "cell_type": "code",
   "execution_count": 3,
   "metadata": {},
   "outputs": [],
   "source": [
    "path_to_file = 'C:\\python\\ML_coursera\\Data Science\\lichess_base\\lichess_shahmatpatblog_2021-04-20.pgn'\n",
    "feature_names = ['Event', 'White', 'Black', 'Result', 'UTCDate', 'UTCTime', 'WhiteElo', 'BlackElo', 'TimeControl', 'ECO']"
   ]
  },
  {
   "cell_type": "markdown",
   "metadata": {},
   "source": [
    "Я скачал базу данных своих партий на 20.04.2021 в формате .pgn, которая содержит в текстовом виде информацию о сыгранных мной партиях на сайте lichess.com. Она содержит 1037 партий за период 05.2020 - 04.2021. Часть этих партий будет использоваться для обучения, другая часть - для проверки модели. Выше я прописал путь к файлу и задал список параметров, которые я хочу выдернуть из базы данных. Мне нужны далеко не все из имеющихся данных."
   ]
  },
  {
   "cell_type": "markdown",
   "metadata": {},
   "source": [
    "Моя задача - предсказать результат партий из тестового набора игр (разобью базу данных при помощи train_test_split позже). Предсказание заключается в определении, выиграю ли я эту партию или нет. Это задача бинарной классификации. Для упрощения задачи, ничейные результаты принимаются за поражения (ничьи в блиц бывают редко и их очень трудно предсказать)."
   ]
  },
  {
   "cell_type": "markdown",
   "metadata": {},
   "source": [
    "## 2. Предобработка данных"
   ]
  },
  {
   "cell_type": "markdown",
   "metadata": {},
   "source": [
    "Для просмотра кода моих функций см. файл chess_lib.py. Функция create_df_from_pgn() преобразует файл .pgn в датафрейм с указанным набором параметров (тот, который feature_names). Переменная raw_data, таким образом, это стартовый датафрейм, готорый я буду анализировать и разбирать, чтобы создать набор данных для обучения и проверки модели."
   ]
  },
  {
   "cell_type": "code",
   "execution_count": 4,
   "metadata": {},
   "outputs": [],
   "source": [
    "raw_data = create_df_from_pgn(path_to_file, feature_names)"
   ]
  },
  {
   "cell_type": "code",
   "execution_count": 5,
   "metadata": {
    "scrolled": false
   },
   "outputs": [
    {
     "name": "stdout",
     "output_type": "stream",
     "text": [
      "Размерность исходного датасета: (1952, 10)\n"
     ]
    },
    {
     "data": {
      "text/html": [
       "<div>\n",
       "<style scoped>\n",
       "    .dataframe tbody tr th:only-of-type {\n",
       "        vertical-align: middle;\n",
       "    }\n",
       "\n",
       "    .dataframe tbody tr th {\n",
       "        vertical-align: top;\n",
       "    }\n",
       "\n",
       "    .dataframe thead th {\n",
       "        text-align: right;\n",
       "    }\n",
       "</style>\n",
       "<table border=\"1\" class=\"dataframe\">\n",
       "  <thead>\n",
       "    <tr style=\"text-align: right;\">\n",
       "      <th></th>\n",
       "      <th>Event</th>\n",
       "      <th>White</th>\n",
       "      <th>Black</th>\n",
       "      <th>Result</th>\n",
       "      <th>UTCDate</th>\n",
       "      <th>UTCTime</th>\n",
       "      <th>WhiteElo</th>\n",
       "      <th>BlackElo</th>\n",
       "      <th>TimeControl</th>\n",
       "      <th>ECO</th>\n",
       "    </tr>\n",
       "  </thead>\n",
       "  <tbody>\n",
       "    <tr>\n",
       "      <th>0</th>\n",
       "      <td>Rated Bullet game</td>\n",
       "      <td>AlexanderChetverik</td>\n",
       "      <td>shahmatpatblog</td>\n",
       "      <td>1-0</td>\n",
       "      <td>2021.04.20</td>\n",
       "      <td>08:27:29</td>\n",
       "      <td>2058</td>\n",
       "      <td>2194</td>\n",
       "      <td>120+1</td>\n",
       "      <td>A45</td>\n",
       "    </tr>\n",
       "    <tr>\n",
       "      <th>1</th>\n",
       "      <td>Rated Bullet game</td>\n",
       "      <td>shahmatpatblog</td>\n",
       "      <td>voldemar70</td>\n",
       "      <td>1-0</td>\n",
       "      <td>2021.04.20</td>\n",
       "      <td>08:25:05</td>\n",
       "      <td>2190</td>\n",
       "      <td>2089</td>\n",
       "      <td>120+1</td>\n",
       "      <td>C41</td>\n",
       "    </tr>\n",
       "    <tr>\n",
       "      <th>2</th>\n",
       "      <td>Rated Bullet game</td>\n",
       "      <td>keres123</td>\n",
       "      <td>shahmatpatblog</td>\n",
       "      <td>1/2-1/2</td>\n",
       "      <td>2021.04.20</td>\n",
       "      <td>08:18:42</td>\n",
       "      <td>2191</td>\n",
       "      <td>2190</td>\n",
       "      <td>120+1</td>\n",
       "      <td>C56</td>\n",
       "    </tr>\n",
       "    <tr>\n",
       "      <th>3</th>\n",
       "      <td>WFM Chess Blondinka Stream Arena</td>\n",
       "      <td>shahmatpatblog</td>\n",
       "      <td>Valera200707</td>\n",
       "      <td>1-0</td>\n",
       "      <td>2021.04.19</td>\n",
       "      <td>18:04:41</td>\n",
       "      <td>2342</td>\n",
       "      <td>2273</td>\n",
       "      <td>180+0</td>\n",
       "      <td>A45</td>\n",
       "    </tr>\n",
       "    <tr>\n",
       "      <th>4</th>\n",
       "      <td>WFM Chess Blondinka Stream Arena</td>\n",
       "      <td>Santexnik</td>\n",
       "      <td>shahmatpatblog</td>\n",
       "      <td>0-1</td>\n",
       "      <td>2021.04.19</td>\n",
       "      <td>18:04:12</td>\n",
       "      <td>1595</td>\n",
       "      <td>2342</td>\n",
       "      <td>180+0</td>\n",
       "      <td>?</td>\n",
       "    </tr>\n",
       "  </tbody>\n",
       "</table>\n",
       "</div>"
      ],
      "text/plain": [
       "                              Event               White           Black  \\\n",
       "0                 Rated Bullet game  AlexanderChetverik  shahmatpatblog   \n",
       "1                 Rated Bullet game      shahmatpatblog      voldemar70   \n",
       "2                 Rated Bullet game            keres123  shahmatpatblog   \n",
       "3  WFM Chess Blondinka Stream Arena      shahmatpatblog    Valera200707   \n",
       "4  WFM Chess Blondinka Stream Arena           Santexnik  shahmatpatblog   \n",
       "\n",
       "    Result     UTCDate   UTCTime WhiteElo BlackElo TimeControl  ECO  \n",
       "0      1-0  2021.04.20  08:27:29     2058     2194       120+1  A45  \n",
       "1      1-0  2021.04.20  08:25:05     2190     2089       120+1  C41  \n",
       "2  1/2-1/2  2021.04.20  08:18:42     2191     2190       120+1  C56  \n",
       "3      1-0  2021.04.19  18:04:41     2342     2273       180+0  A45  \n",
       "4      0-1  2021.04.19  18:04:12     1595     2342       180+0    ?  "
      ]
     },
     "execution_count": 5,
     "metadata": {},
     "output_type": "execute_result"
    }
   ],
   "source": [
    "print('Размерность исходного датасета:', raw_data.shape)\n",
    "raw_data.head()"
   ]
  },
  {
   "cell_type": "markdown",
   "metadata": {},
   "source": [
    "Да, кстати. Мой никнейм - shahmatpatblog. Он будет в каждой партии, так как это моя база партий."
   ]
  },
  {
   "cell_type": "code",
   "execution_count": 6,
   "metadata": {},
   "outputs": [
    {
     "name": "stdout",
     "output_type": "stream",
     "text": [
      "<class 'pandas.core.frame.DataFrame'>\n",
      "RangeIndex: 1952 entries, 0 to 1951\n",
      "Data columns (total 10 columns):\n",
      " #   Column       Non-Null Count  Dtype \n",
      "---  ------       --------------  ----- \n",
      " 0   Event        1952 non-null   object\n",
      " 1   White        1952 non-null   object\n",
      " 2   Black        1952 non-null   object\n",
      " 3   Result       1952 non-null   object\n",
      " 4   UTCDate      1952 non-null   object\n",
      " 5   UTCTime      1952 non-null   object\n",
      " 6   WhiteElo     1952 non-null   object\n",
      " 7   BlackElo     1952 non-null   object\n",
      " 8   TimeControl  1952 non-null   object\n",
      " 9   ECO          1952 non-null   object\n",
      "dtypes: object(10)\n",
      "memory usage: 76.3+ KB\n"
     ]
    }
   ],
   "source": [
    "raw_data.info()"
   ]
  },
  {
   "cell_type": "markdown",
   "metadata": {},
   "source": [
    "Т.к. данные парсились из текстового файла, то все поля в таблице имеют тип 'object'. Это строковые объекты (str). Пропусков данных нет"
   ]
  },
  {
   "cell_type": "code",
   "execution_count": 7,
   "metadata": {
    "scrolled": true
   },
   "outputs": [
    {
     "data": {
      "text/html": [
       "<div>\n",
       "<style scoped>\n",
       "    .dataframe tbody tr th:only-of-type {\n",
       "        vertical-align: middle;\n",
       "    }\n",
       "\n",
       "    .dataframe tbody tr th {\n",
       "        vertical-align: top;\n",
       "    }\n",
       "\n",
       "    .dataframe thead th {\n",
       "        text-align: right;\n",
       "    }\n",
       "</style>\n",
       "<table border=\"1\" class=\"dataframe\">\n",
       "  <thead>\n",
       "    <tr style=\"text-align: right;\">\n",
       "      <th></th>\n",
       "      <th>Event</th>\n",
       "      <th>White</th>\n",
       "      <th>Black</th>\n",
       "      <th>Result</th>\n",
       "      <th>UTCDate</th>\n",
       "      <th>UTCTime</th>\n",
       "      <th>WhiteElo</th>\n",
       "      <th>BlackElo</th>\n",
       "      <th>TimeControl</th>\n",
       "      <th>ECO</th>\n",
       "    </tr>\n",
       "  </thead>\n",
       "  <tbody>\n",
       "    <tr>\n",
       "      <th>count</th>\n",
       "      <td>1952</td>\n",
       "      <td>1952</td>\n",
       "      <td>1952</td>\n",
       "      <td>1952</td>\n",
       "      <td>1952</td>\n",
       "      <td>1952</td>\n",
       "      <td>1952</td>\n",
       "      <td>1952</td>\n",
       "      <td>1952</td>\n",
       "      <td>1952</td>\n",
       "    </tr>\n",
       "    <tr>\n",
       "      <th>unique</th>\n",
       "      <td>47</td>\n",
       "      <td>917</td>\n",
       "      <td>928</td>\n",
       "      <td>3</td>\n",
       "      <td>255</td>\n",
       "      <td>1909</td>\n",
       "      <td>538</td>\n",
       "      <td>543</td>\n",
       "      <td>10</td>\n",
       "      <td>198</td>\n",
       "    </tr>\n",
       "    <tr>\n",
       "      <th>top</th>\n",
       "      <td>Rated Blitz game</td>\n",
       "      <td>shahmatpatblog</td>\n",
       "      <td>shahmatpatblog</td>\n",
       "      <td>1-0</td>\n",
       "      <td>2021.03.21</td>\n",
       "      <td>14:06:45</td>\n",
       "      <td>2217</td>\n",
       "      <td>2251</td>\n",
       "      <td>180+2</td>\n",
       "      <td>A45</td>\n",
       "    </tr>\n",
       "    <tr>\n",
       "      <th>freq</th>\n",
       "      <td>1019</td>\n",
       "      <td>974</td>\n",
       "      <td>978</td>\n",
       "      <td>928</td>\n",
       "      <td>48</td>\n",
       "      <td>3</td>\n",
       "      <td>16</td>\n",
       "      <td>15</td>\n",
       "      <td>1038</td>\n",
       "      <td>378</td>\n",
       "    </tr>\n",
       "  </tbody>\n",
       "</table>\n",
       "</div>"
      ],
      "text/plain": [
       "                   Event           White           Black Result     UTCDate  \\\n",
       "count               1952            1952            1952   1952        1952   \n",
       "unique                47             917             928      3         255   \n",
       "top     Rated Blitz game  shahmatpatblog  shahmatpatblog    1-0  2021.03.21   \n",
       "freq                1019             974             978    928          48   \n",
       "\n",
       "         UTCTime WhiteElo BlackElo TimeControl   ECO  \n",
       "count       1952     1952     1952        1952  1952  \n",
       "unique      1909      538      543          10   198  \n",
       "top     14:06:45     2217     2251       180+2   A45  \n",
       "freq           3       16       15        1038   378  "
      ]
     },
     "execution_count": 7,
     "metadata": {},
     "output_type": "execute_result"
    }
   ],
   "source": [
    "raw_data.describe()"
   ]
  },
  {
   "cell_type": "markdown",
   "metadata": {},
   "source": [
    "Наиболее часто играемые события (Event) - Rated Blitz game (не турнирная блиц-игра). Чаще всего выигрывают белые (Result = 1-0). Наиболее предпочитаемый мной контроль времени (TimeControl) - 180+2. Чаще всего из дебютов (ECO) встречается A45 (он же Атака Тромповского)"
   ]
  },
  {
   "cell_type": "markdown",
   "metadata": {},
   "source": [
    "#### Создам датафрейм chess_df, в который буду закидывать сгенерированные на основе анализа raw_data фичи для обучения классификатора. Для удобства буду называть его основной датафрейм"
   ]
  },
  {
   "cell_type": "code",
   "execution_count": 5,
   "metadata": {},
   "outputs": [],
   "source": [
    "chess_df = pd.DataFrame()"
   ]
  },
  {
   "cell_type": "markdown",
   "metadata": {},
   "source": [
    "#### Для начала полезно будет добавить в наш датафрейм признаки даты и времени"
   ]
  },
  {
   "cell_type": "code",
   "execution_count": 6,
   "metadata": {
    "scrolled": true
   },
   "outputs": [
    {
     "name": "stdout",
     "output_type": "stream",
     "text": [
      "Размерность основного датафрейма: (1952, 2)\n"
     ]
    },
    {
     "data": {
      "text/html": [
       "<div>\n",
       "<style scoped>\n",
       "    .dataframe tbody tr th:only-of-type {\n",
       "        vertical-align: middle;\n",
       "    }\n",
       "\n",
       "    .dataframe tbody tr th {\n",
       "        vertical-align: top;\n",
       "    }\n",
       "\n",
       "    .dataframe thead th {\n",
       "        text-align: right;\n",
       "    }\n",
       "</style>\n",
       "<table border=\"1\" class=\"dataframe\">\n",
       "  <thead>\n",
       "    <tr style=\"text-align: right;\">\n",
       "      <th></th>\n",
       "      <th>Date_Time</th>\n",
       "      <th>date_</th>\n",
       "    </tr>\n",
       "  </thead>\n",
       "  <tbody>\n",
       "    <tr>\n",
       "      <th>0</th>\n",
       "      <td>2021-04-20 08:27:29</td>\n",
       "      <td>2021-04-20</td>\n",
       "    </tr>\n",
       "    <tr>\n",
       "      <th>1</th>\n",
       "      <td>2021-04-20 08:25:05</td>\n",
       "      <td>2021-04-20</td>\n",
       "    </tr>\n",
       "    <tr>\n",
       "      <th>2</th>\n",
       "      <td>2021-04-20 08:18:42</td>\n",
       "      <td>2021-04-20</td>\n",
       "    </tr>\n",
       "    <tr>\n",
       "      <th>3</th>\n",
       "      <td>2021-04-19 18:04:41</td>\n",
       "      <td>2021-04-19</td>\n",
       "    </tr>\n",
       "    <tr>\n",
       "      <th>4</th>\n",
       "      <td>2021-04-19 18:04:12</td>\n",
       "      <td>2021-04-19</td>\n",
       "    </tr>\n",
       "  </tbody>\n",
       "</table>\n",
       "</div>"
      ],
      "text/plain": [
       "            Date_Time      date_\n",
       "0 2021-04-20 08:27:29 2021-04-20\n",
       "1 2021-04-20 08:25:05 2021-04-20\n",
       "2 2021-04-20 08:18:42 2021-04-20\n",
       "3 2021-04-19 18:04:41 2021-04-19\n",
       "4 2021-04-19 18:04:12 2021-04-19"
      ]
     },
     "execution_count": 6,
     "metadata": {},
     "output_type": "execute_result"
    }
   ],
   "source": [
    "chess_df['Date_Time'] = raw_data['UTCDate'] + ' ' + raw_data['UTCTime']\n",
    "chess_df[['Date_Time']] = chess_df[['Date_Time']].applymap(lambda x: datetime.datetime.strptime(x, '%Y.%m.%d %H:%M:%S'))\n",
    "chess_df[['date_']] = raw_data[['UTCDate']].applymap(lambda x: datetime.datetime.strptime(x, '%Y.%m.%d'))\n",
    "print('Размерность основного датафрейма:', chess_df.shape)\n",
    "chess_df.head()"
   ]
  },
  {
   "cell_type": "markdown",
   "metadata": {},
   "source": [
    "#### Далее в основной датафрейм добавлю целевую переменную - результат моей игры. 1- я выиграл, 0 - не выиграл."
   ]
  },
  {
   "cell_type": "markdown",
   "metadata": {},
   "source": [
    "Столбцы White, Black и Result пригодятся для создания целевой переменной. Для этого я прописал функцию create_my_result (см. файл chess_lib.py), которая создает помимо прочего, фичу my_color - цвет, которым я играл: белыми (1) или черными (0)"
   ]
  },
  {
   "cell_type": "code",
   "execution_count": 7,
   "metadata": {},
   "outputs": [],
   "source": [
    "color_and_result = create_my_result(raw_data)\n",
    "chess_df['my_result'] = color_and_result['my_result']\n",
    "chess_df['my_color'] = color_and_result['my_color']"
   ]
  },
  {
   "cell_type": "code",
   "execution_count": 8,
   "metadata": {
    "scrolled": false
   },
   "outputs": [
    {
     "name": "stdout",
     "output_type": "stream",
     "text": [
      "Размерность основного датафрейма: (1952, 4)\n"
     ]
    },
    {
     "data": {
      "text/html": [
       "<div>\n",
       "<style scoped>\n",
       "    .dataframe tbody tr th:only-of-type {\n",
       "        vertical-align: middle;\n",
       "    }\n",
       "\n",
       "    .dataframe tbody tr th {\n",
       "        vertical-align: top;\n",
       "    }\n",
       "\n",
       "    .dataframe thead th {\n",
       "        text-align: right;\n",
       "    }\n",
       "</style>\n",
       "<table border=\"1\" class=\"dataframe\">\n",
       "  <thead>\n",
       "    <tr style=\"text-align: right;\">\n",
       "      <th></th>\n",
       "      <th>Date_Time</th>\n",
       "      <th>date_</th>\n",
       "      <th>my_result</th>\n",
       "      <th>my_color</th>\n",
       "    </tr>\n",
       "  </thead>\n",
       "  <tbody>\n",
       "    <tr>\n",
       "      <th>0</th>\n",
       "      <td>2021-04-20 08:27:29</td>\n",
       "      <td>2021-04-20</td>\n",
       "      <td>0</td>\n",
       "      <td>0</td>\n",
       "    </tr>\n",
       "    <tr>\n",
       "      <th>1</th>\n",
       "      <td>2021-04-20 08:25:05</td>\n",
       "      <td>2021-04-20</td>\n",
       "      <td>1</td>\n",
       "      <td>1</td>\n",
       "    </tr>\n",
       "    <tr>\n",
       "      <th>2</th>\n",
       "      <td>2021-04-20 08:18:42</td>\n",
       "      <td>2021-04-20</td>\n",
       "      <td>0</td>\n",
       "      <td>0</td>\n",
       "    </tr>\n",
       "    <tr>\n",
       "      <th>3</th>\n",
       "      <td>2021-04-19 18:04:41</td>\n",
       "      <td>2021-04-19</td>\n",
       "      <td>1</td>\n",
       "      <td>1</td>\n",
       "    </tr>\n",
       "    <tr>\n",
       "      <th>4</th>\n",
       "      <td>2021-04-19 18:04:12</td>\n",
       "      <td>2021-04-19</td>\n",
       "      <td>1</td>\n",
       "      <td>0</td>\n",
       "    </tr>\n",
       "  </tbody>\n",
       "</table>\n",
       "</div>"
      ],
      "text/plain": [
       "            Date_Time      date_  my_result  my_color\n",
       "0 2021-04-20 08:27:29 2021-04-20          0         0\n",
       "1 2021-04-20 08:25:05 2021-04-20          1         1\n",
       "2 2021-04-20 08:18:42 2021-04-20          0         0\n",
       "3 2021-04-19 18:04:41 2021-04-19          1         1\n",
       "4 2021-04-19 18:04:12 2021-04-19          1         0"
      ]
     },
     "execution_count": 8,
     "metadata": {},
     "output_type": "execute_result"
    }
   ],
   "source": [
    "print('Размерность основного датафрейма:', chess_df.shape)\n",
    "chess_df.head()"
   ]
  },
  {
   "cell_type": "code",
   "execution_count": 9,
   "metadata": {
    "scrolled": true
   },
   "outputs": [
    {
     "data": {
      "text/plain": [
       "<AxesSubplot:xlabel='percent_of_wins', ylabel='my_color'>"
      ]
     },
     "execution_count": 9,
     "metadata": {},
     "output_type": "execute_result"
    },
    {
     "data": {
      "image/png": "[encoded data removed]",
      "text/plain": [
       "<Figure size 432x288 with 1 Axes>"
      ]
     },
     "metadata": {
      "needs_background": "light"
     },
     "output_type": "display_data"
    }
   ],
   "source": [
    "a = chess_df.groupby('my_color').agg({'my_result': 'mean'}).reset_index()\n",
    "a = a.replace({0: 'black', 1: 'white'})\n",
    "a.my_result = a.my_result * 100\n",
    "a = a.rename(columns={'my_result': 'percent_of_wins'})\n",
    "sns.barplot(x=a.percent_of_wins, y=a.my_color, orient='h')"
   ]
  },
  {
   "cell_type": "markdown",
   "metadata": {},
   "source": [
    "Статистика говорит, что белым цветом я выигрываю почаще (55% партий), чем черными (52%)"
   ]
  },
  {
   "cell_type": "markdown",
   "metadata": {},
   "source": [
    "#### Далее проанализируем и преобразуем колонку Events"
   ]
  },
  {
   "cell_type": "code",
   "execution_count": 10,
   "metadata": {},
   "outputs": [
    {
     "data": {
      "text/plain": [
       "<AxesSubplot:xlabel='Event', ylabel='index'>"
      ]
     },
     "execution_count": 10,
     "metadata": {},
     "output_type": "execute_result"
    },
    {
     "data": {
      "image/png": "[encoded data removed]",
      "text/plain": [
       "<Figure size 432x288 with 1 Axes>"
      ]
     },
     "metadata": {
      "needs_background": "light"
     },
     "output_type": "display_data"
    }
   ],
   "source": [
    "events = raw_data.Event.value_counts().to_frame().reset_index().head(20)\n",
    "sns.barplot(data=events, x='Event', y='index')"
   ]
  },
  {
   "cell_type": "markdown",
   "metadata": {},
   "source": [
    "Наиболее часто встречаемые события - не турнирные игры (Rated Blitz game, Rated Bullet game). Остальное - это игры, сыгранные в различных турнирах. На основании этого предлагаю сделать категориальную переменную Event, где 0 - это не турнирные игры, 1 - турнирные (все остальные). Разделять Blitz game и Bullet game не вижу смысла, так как это разделение будет в переменной, отвечающей за контроль времени."
   ]
  },
  {
   "cell_type": "code",
   "execution_count": 11,
   "metadata": {},
   "outputs": [],
   "source": [
    "chess_df['event'] = raw_data.Event.replace(['Rated Blitz game', 'Rated Bullet game', 'Casual Blitz game'], 0)\n",
    "chess_df.loc[chess_df.event != 0, 'event'] = 1\n",
    "chess_df['event'] = chess_df['event'].astype('int32')"
   ]
  },
  {
   "cell_type": "code",
   "execution_count": 14,
   "metadata": {
    "scrolled": false
   },
   "outputs": [
    {
     "name": "stdout",
     "output_type": "stream",
     "text": [
      "Размерность основного датафрейма: (1952, 5)\n"
     ]
    },
    {
     "data": {
      "text/html": [
       "<div>\n",
       "<style scoped>\n",
       "    .dataframe tbody tr th:only-of-type {\n",
       "        vertical-align: middle;\n",
       "    }\n",
       "\n",
       "    .dataframe tbody tr th {\n",
       "        vertical-align: top;\n",
       "    }\n",
       "\n",
       "    .dataframe thead th {\n",
       "        text-align: right;\n",
       "    }\n",
       "</style>\n",
       "<table border=\"1\" class=\"dataframe\">\n",
       "  <thead>\n",
       "    <tr style=\"text-align: right;\">\n",
       "      <th></th>\n",
       "      <th>Date_Time</th>\n",
       "      <th>date_</th>\n",
       "      <th>my_result</th>\n",
       "      <th>my_color</th>\n",
       "      <th>event</th>\n",
       "    </tr>\n",
       "  </thead>\n",
       "  <tbody>\n",
       "    <tr>\n",
       "      <th>0</th>\n",
       "      <td>2021-04-20 08:27:29</td>\n",
       "      <td>2021-04-20</td>\n",
       "      <td>0</td>\n",
       "      <td>0</td>\n",
       "      <td>0</td>\n",
       "    </tr>\n",
       "    <tr>\n",
       "      <th>1</th>\n",
       "      <td>2021-04-20 08:25:05</td>\n",
       "      <td>2021-04-20</td>\n",
       "      <td>1</td>\n",
       "      <td>1</td>\n",
       "      <td>0</td>\n",
       "    </tr>\n",
       "    <tr>\n",
       "      <th>2</th>\n",
       "      <td>2021-04-20 08:18:42</td>\n",
       "      <td>2021-04-20</td>\n",
       "      <td>0</td>\n",
       "      <td>0</td>\n",
       "      <td>0</td>\n",
       "    </tr>\n",
       "    <tr>\n",
       "      <th>3</th>\n",
       "      <td>2021-04-19 18:04:41</td>\n",
       "      <td>2021-04-19</td>\n",
       "      <td>1</td>\n",
       "      <td>1</td>\n",
       "      <td>1</td>\n",
       "    </tr>\n",
       "    <tr>\n",
       "      <th>4</th>\n",
       "      <td>2021-04-19 18:04:12</td>\n",
       "      <td>2021-04-19</td>\n",
       "      <td>1</td>\n",
       "      <td>0</td>\n",
       "      <td>1</td>\n",
       "    </tr>\n",
       "  </tbody>\n",
       "</table>\n",
       "</div>"
      ],
      "text/plain": [
       "            Date_Time      date_  my_result  my_color  event\n",
       "0 2021-04-20 08:27:29 2021-04-20          0         0      0\n",
       "1 2021-04-20 08:25:05 2021-04-20          1         1      0\n",
       "2 2021-04-20 08:18:42 2021-04-20          0         0      0\n",
       "3 2021-04-19 18:04:41 2021-04-19          1         1      1\n",
       "4 2021-04-19 18:04:12 2021-04-19          1         0      1"
      ]
     },
     "execution_count": 14,
     "metadata": {},
     "output_type": "execute_result"
    }
   ],
   "source": [
    "print('Размерность основного датафрейма:', chess_df.shape)\n",
    "chess_df.head()"
   ]
  },
  {
   "cell_type": "markdown",
   "metadata": {
    "scrolled": false
   },
   "source": [
    "#### Добавляю переменные my_rating (мой текущий рейтинг) и rating_diff (разница между моим рейтингом и рейтингом соперника)"
   ]
  },
  {
   "cell_type": "code",
   "execution_count": 12,
   "metadata": {},
   "outputs": [],
   "source": [
    "chess_df['my_rating'] = raw_data['WhiteElo'].where(raw_data['White'] == 'shahmatpatblog', raw_data['BlackElo']).astype('int32')"
   ]
  },
  {
   "cell_type": "code",
   "execution_count": 13,
   "metadata": {},
   "outputs": [],
   "source": [
    "chess_df['rating_diff'] = raw_data['WhiteElo'].astype('int32') - raw_data['BlackElo'].astype('int32')\n",
    "chess_df['rating_diff'] = chess_df['rating_diff'].where(chess_df['my_color'] == 1, -chess_df['rating_diff'])"
   ]
  },
  {
   "cell_type": "code",
   "execution_count": 17,
   "metadata": {
    "scrolled": false
   },
   "outputs": [
    {
     "name": "stdout",
     "output_type": "stream",
     "text": [
      "Размерность основного датафрейма: (1952, 7)\n"
     ]
    },
    {
     "data": {
      "text/html": [
       "<div>\n",
       "<style scoped>\n",
       "    .dataframe tbody tr th:only-of-type {\n",
       "        vertical-align: middle;\n",
       "    }\n",
       "\n",
       "    .dataframe tbody tr th {\n",
       "        vertical-align: top;\n",
       "    }\n",
       "\n",
       "    .dataframe thead th {\n",
       "        text-align: right;\n",
       "    }\n",
       "</style>\n",
       "<table border=\"1\" class=\"dataframe\">\n",
       "  <thead>\n",
       "    <tr style=\"text-align: right;\">\n",
       "      <th></th>\n",
       "      <th>Date_Time</th>\n",
       "      <th>date_</th>\n",
       "      <th>my_result</th>\n",
       "      <th>my_color</th>\n",
       "      <th>event</th>\n",
       "      <th>my_rating</th>\n",
       "      <th>rating_diff</th>\n",
       "    </tr>\n",
       "  </thead>\n",
       "  <tbody>\n",
       "    <tr>\n",
       "      <th>0</th>\n",
       "      <td>2021-04-20 08:27:29</td>\n",
       "      <td>2021-04-20</td>\n",
       "      <td>0</td>\n",
       "      <td>0</td>\n",
       "      <td>0</td>\n",
       "      <td>2194</td>\n",
       "      <td>136</td>\n",
       "    </tr>\n",
       "    <tr>\n",
       "      <th>1</th>\n",
       "      <td>2021-04-20 08:25:05</td>\n",
       "      <td>2021-04-20</td>\n",
       "      <td>1</td>\n",
       "      <td>1</td>\n",
       "      <td>0</td>\n",
       "      <td>2190</td>\n",
       "      <td>101</td>\n",
       "    </tr>\n",
       "    <tr>\n",
       "      <th>2</th>\n",
       "      <td>2021-04-20 08:18:42</td>\n",
       "      <td>2021-04-20</td>\n",
       "      <td>0</td>\n",
       "      <td>0</td>\n",
       "      <td>0</td>\n",
       "      <td>2190</td>\n",
       "      <td>-1</td>\n",
       "    </tr>\n",
       "    <tr>\n",
       "      <th>3</th>\n",
       "      <td>2021-04-19 18:04:41</td>\n",
       "      <td>2021-04-19</td>\n",
       "      <td>1</td>\n",
       "      <td>1</td>\n",
       "      <td>1</td>\n",
       "      <td>2342</td>\n",
       "      <td>69</td>\n",
       "    </tr>\n",
       "    <tr>\n",
       "      <th>4</th>\n",
       "      <td>2021-04-19 18:04:12</td>\n",
       "      <td>2021-04-19</td>\n",
       "      <td>1</td>\n",
       "      <td>0</td>\n",
       "      <td>1</td>\n",
       "      <td>2342</td>\n",
       "      <td>747</td>\n",
       "    </tr>\n",
       "  </tbody>\n",
       "</table>\n",
       "</div>"
      ],
      "text/plain": [
       "            Date_Time      date_  my_result  my_color  event  my_rating  \\\n",
       "0 2021-04-20 08:27:29 2021-04-20          0         0      0       2194   \n",
       "1 2021-04-20 08:25:05 2021-04-20          1         1      0       2190   \n",
       "2 2021-04-20 08:18:42 2021-04-20          0         0      0       2190   \n",
       "3 2021-04-19 18:04:41 2021-04-19          1         1      1       2342   \n",
       "4 2021-04-19 18:04:12 2021-04-19          1         0      1       2342   \n",
       "\n",
       "   rating_diff  \n",
       "0          136  \n",
       "1          101  \n",
       "2           -1  \n",
       "3           69  \n",
       "4          747  "
      ]
     },
     "execution_count": 17,
     "metadata": {},
     "output_type": "execute_result"
    }
   ],
   "source": [
    "print('Размерность основного датафрейма:', chess_df.shape)\n",
    "chess_df.head()"
   ]
  },
  {
   "cell_type": "markdown",
   "metadata": {},
   "source": [
    "Значение текущего рейтинга и разность моего рейтинга с соперником - весьма сильные признаки. Давайте взглянем на их скэттер плот в зависимости от результата партии "
   ]
  },
  {
   "cell_type": "code",
   "execution_count": 23,
   "metadata": {},
   "outputs": [
    {
     "data": {
      "image/png": "[encoded data removed]",
      "text/plain": [
       "<Figure size 596.875x360 with 1 Axes>"
      ]
     },
     "metadata": {
      "needs_background": "light"
     },
     "output_type": "display_data"
    }
   ],
   "source": [
    "ax = sns.lmplot(x='my_rating', y='rating_diff', data=chess_df, hue='my_result', fit_reg=False, markers='.', aspect=1.5)\n",
    "plt.title('Scatter plot: My rating & Rating difference distribution')\n",
    "plt.grid()\n",
    "plt.xlim([1500, 2350])\n",
    "plt.ylim([-600, 1000]);"
   ]
  },
  {
   "cell_type": "markdown",
   "metadata": {},
   "source": [
    "Как мы видим, чем больше мой рейтинг над рейтингом соперника (rating_diff > 0), тем чаще я побеждаю, и наоборот. Что, собственно говоря, предельно логично"
   ]
  },
  {
   "cell_type": "markdown",
   "metadata": {},
   "source": [
    "#### На основе анализа колонки TimeControl создаю категориальную переменную time_control, указывающую тип контроля времени"
   ]
  },
  {
   "cell_type": "code",
   "execution_count": 27,
   "metadata": {},
   "outputs": [
    {
     "data": {
      "image/png": "[encoded data removed]",
      "text/plain": [
       "<Figure size 432x288 with 1 Axes>"
      ]
     },
     "metadata": {
      "needs_background": "light"
     },
     "output_type": "display_data"
    }
   ],
   "source": [
    "sns.barplot(data=raw_data.TimeControl.value_counts().to_frame().reset_index(), x='TimeControl', y='index')\n",
    "plt.grid(axis='x')"
   ]
  },
  {
   "cell_type": "markdown",
   "metadata": {},
   "source": [
    "Давайте разбираться в контролях времени. Больше половины партий я сыграл с контролем 180+2 (3 минуты с добавлением 2 с на ход). Немало партий в пулю - 120+1 (т.н \"ленивая пуля\") и 60+0 (\"обычная пуля\"). Предлагаю близкие по таймингу типы контроля времени объединить в две основные группы - пуля (0) и блиц (1). Таким образом для переменной time_contol, которую я создаю следующие категории: 0 - 60+0, 60+1, 120+0, 120+1, 1 - 180+0, 180+1, 180+2, 300+0, 300+2, 300+3"
   ]
  },
  {
   "cell_type": "code",
   "execution_count": 14,
   "metadata": {},
   "outputs": [],
   "source": [
    "chess_df['time_control'] = raw_data.TimeControl.replace(['60+0', '60+1', '120+0', '120+1'], 0) \\\n",
    "                                    .replace(['180+0', '180+1', '180+2', '300+0', '300+2', '300+3'], 1)\n",
    "chess_df['time_control'] = chess_df['time_control'].astype('int32')"
   ]
  },
  {
   "cell_type": "code",
   "execution_count": 35,
   "metadata": {
    "scrolled": true
   },
   "outputs": [
    {
     "name": "stdout",
     "output_type": "stream",
     "text": [
      "Размерность основного датафрейма: (1952, 8)\n"
     ]
    },
    {
     "data": {
      "text/html": [
       "<div>\n",
       "<style scoped>\n",
       "    .dataframe tbody tr th:only-of-type {\n",
       "        vertical-align: middle;\n",
       "    }\n",
       "\n",
       "    .dataframe tbody tr th {\n",
       "        vertical-align: top;\n",
       "    }\n",
       "\n",
       "    .dataframe thead th {\n",
       "        text-align: right;\n",
       "    }\n",
       "</style>\n",
       "<table border=\"1\" class=\"dataframe\">\n",
       "  <thead>\n",
       "    <tr style=\"text-align: right;\">\n",
       "      <th></th>\n",
       "      <th>Date_Time</th>\n",
       "      <th>date_</th>\n",
       "      <th>my_result</th>\n",
       "      <th>my_color</th>\n",
       "      <th>event</th>\n",
       "      <th>my_rating</th>\n",
       "      <th>rating_diff</th>\n",
       "      <th>time_control</th>\n",
       "    </tr>\n",
       "  </thead>\n",
       "  <tbody>\n",
       "    <tr>\n",
       "      <th>0</th>\n",
       "      <td>2021-04-20 08:27:29</td>\n",
       "      <td>2021-04-20</td>\n",
       "      <td>0</td>\n",
       "      <td>0</td>\n",
       "      <td>0</td>\n",
       "      <td>2194</td>\n",
       "      <td>136</td>\n",
       "      <td>0</td>\n",
       "    </tr>\n",
       "    <tr>\n",
       "      <th>1</th>\n",
       "      <td>2021-04-20 08:25:05</td>\n",
       "      <td>2021-04-20</td>\n",
       "      <td>1</td>\n",
       "      <td>1</td>\n",
       "      <td>0</td>\n",
       "      <td>2190</td>\n",
       "      <td>101</td>\n",
       "      <td>0</td>\n",
       "    </tr>\n",
       "    <tr>\n",
       "      <th>2</th>\n",
       "      <td>2021-04-20 08:18:42</td>\n",
       "      <td>2021-04-20</td>\n",
       "      <td>0</td>\n",
       "      <td>0</td>\n",
       "      <td>0</td>\n",
       "      <td>2190</td>\n",
       "      <td>-1</td>\n",
       "      <td>0</td>\n",
       "    </tr>\n",
       "    <tr>\n",
       "      <th>3</th>\n",
       "      <td>2021-04-19 18:04:41</td>\n",
       "      <td>2021-04-19</td>\n",
       "      <td>1</td>\n",
       "      <td>1</td>\n",
       "      <td>1</td>\n",
       "      <td>2342</td>\n",
       "      <td>69</td>\n",
       "      <td>1</td>\n",
       "    </tr>\n",
       "    <tr>\n",
       "      <th>4</th>\n",
       "      <td>2021-04-19 18:04:12</td>\n",
       "      <td>2021-04-19</td>\n",
       "      <td>1</td>\n",
       "      <td>0</td>\n",
       "      <td>1</td>\n",
       "      <td>2342</td>\n",
       "      <td>747</td>\n",
       "      <td>1</td>\n",
       "    </tr>\n",
       "  </tbody>\n",
       "</table>\n",
       "</div>"
      ],
      "text/plain": [
       "            Date_Time      date_  my_result  my_color  event  my_rating  \\\n",
       "0 2021-04-20 08:27:29 2021-04-20          0         0      0       2194   \n",
       "1 2021-04-20 08:25:05 2021-04-20          1         1      0       2190   \n",
       "2 2021-04-20 08:18:42 2021-04-20          0         0      0       2190   \n",
       "3 2021-04-19 18:04:41 2021-04-19          1         1      1       2342   \n",
       "4 2021-04-19 18:04:12 2021-04-19          1         0      1       2342   \n",
       "\n",
       "   rating_diff  time_control  \n",
       "0          136             0  \n",
       "1          101             0  \n",
       "2           -1             0  \n",
       "3           69             1  \n",
       "4          747             1  "
      ]
     },
     "execution_count": 35,
     "metadata": {},
     "output_type": "execute_result"
    }
   ],
   "source": [
    "print('Размерность основного датафрейма:', chess_df.shape)\n",
    "chess_df.head()"
   ]
  },
  {
   "cell_type": "code",
   "execution_count": 41,
   "metadata": {},
   "outputs": [
    {
     "data": {
      "image/png": "[encoded data removed]",
      "text/plain": [
       "<Figure size 432x288 with 1 Axes>"
      ]
     },
     "metadata": {
      "needs_background": "light"
     },
     "output_type": "display_data"
    }
   ],
   "source": [
    "b = chess_df.groupby('time_control').agg({'my_result': 'mean'}).reset_index()\n",
    "b = b.replace({0: 'Пуля', 1: 'Блиц'})\n",
    "b.my_result = b.my_result * 100\n",
    "b = b.rename(columns={'my_result': 'percent_of_wins'})\n",
    "sns.barplot(x=b.percent_of_wins, y=b.time_control, orient='h');"
   ]
  },
  {
   "cell_type": "markdown",
   "metadata": {},
   "source": [
    "Как оказалось, в пулю процент побед у меня больше. Это можно объяснить, что пока я еще не набрал свой максимальный рейтинг в пулю, т.к. играю в нее меньше, и сильных соперников там меньше, чем в блиц."
   ]
  },
  {
   "cell_type": "markdown",
   "metadata": {},
   "source": [
    "Кстати, глянем на изменение моего рейтинга по времени. Поскольку я играю в двух режимах - блиц и пуля, рейтинга будет два"
   ]
  },
  {
   "cell_type": "code",
   "execution_count": 40,
   "metadata": {},
   "outputs": [
    {
     "data": {
      "image/png": "[encoded data removed]",
      "text/plain": [
       "<Figure size 1008x360 with 1 Axes>"
      ]
     },
     "metadata": {
      "needs_background": "light"
     },
     "output_type": "display_data"
    }
   ],
   "source": [
    "plt.figure(figsize=(14, 5))\n",
    "ax = sns.lineplot(x=chess_df.Date_Time, y=chess_df.my_rating, hue=chess_df.time_control)\n",
    "ax.xaxis.set_label_text('Date')\n",
    "plt.legend(('bullet', 'blitz'), loc='lower right')\n",
    "plt.grid()\n",
    "plt.title('My rating dynamics');"
   ]
  },
  {
   "cell_type": "markdown",
   "metadata": {},
   "source": [
    "#### Добавляю переменные - день недели и час суток игры (вдруг есть зависимость с моими результатами, например, в рабочие дни играю хуже, чем в выходные, вечером лучше, чем утром)"
   ]
  },
  {
   "cell_type": "markdown",
   "metadata": {},
   "source": [
    "Создаю: day_of_week - категориальная переменная, от 1 до 7, обозначающая день недели игры (1 - Monday, ..., 7 - Sunday)"
   ]
  },
  {
   "cell_type": "markdown",
   "metadata": {},
   "source": [
    "hour_of_game - час суток (время UTF, т.е. для получения моего времени надо прибавить +4 часа)"
   ]
  },
  {
   "cell_type": "code",
   "execution_count": 15,
   "metadata": {},
   "outputs": [],
   "source": [
    "chess_df[['day_of_week']] = chess_df[['Date_Time']].applymap(lambda x: x.isoweekday())\n",
    "chess_df[['hour_of_game']] = chess_df[['Date_Time']].applymap(lambda z: z.time().hour + 4)"
   ]
  },
  {
   "cell_type": "code",
   "execution_count": 16,
   "metadata": {
    "scrolled": true
   },
   "outputs": [
    {
     "name": "stdout",
     "output_type": "stream",
     "text": [
      "Размерность основного датафрейма: (1952, 10)\n"
     ]
    },
    {
     "data": {
      "text/html": [
       "<div>\n",
       "<style scoped>\n",
       "    .dataframe tbody tr th:only-of-type {\n",
       "        vertical-align: middle;\n",
       "    }\n",
       "\n",
       "    .dataframe tbody tr th {\n",
       "        vertical-align: top;\n",
       "    }\n",
       "\n",
       "    .dataframe thead th {\n",
       "        text-align: right;\n",
       "    }\n",
       "</style>\n",
       "<table border=\"1\" class=\"dataframe\">\n",
       "  <thead>\n",
       "    <tr style=\"text-align: right;\">\n",
       "      <th></th>\n",
       "      <th>Date_Time</th>\n",
       "      <th>date_</th>\n",
       "      <th>my_result</th>\n",
       "      <th>my_color</th>\n",
       "      <th>event</th>\n",
       "      <th>my_rating</th>\n",
       "      <th>rating_diff</th>\n",
       "      <th>time_control</th>\n",
       "      <th>day_of_week</th>\n",
       "      <th>hour_of_game</th>\n",
       "    </tr>\n",
       "  </thead>\n",
       "  <tbody>\n",
       "    <tr>\n",
       "      <th>0</th>\n",
       "      <td>2021-04-20 08:27:29</td>\n",
       "      <td>2021-04-20</td>\n",
       "      <td>0</td>\n",
       "      <td>0</td>\n",
       "      <td>0</td>\n",
       "      <td>2194</td>\n",
       "      <td>136</td>\n",
       "      <td>0</td>\n",
       "      <td>2</td>\n",
       "      <td>12</td>\n",
       "    </tr>\n",
       "    <tr>\n",
       "      <th>1</th>\n",
       "      <td>2021-04-20 08:25:05</td>\n",
       "      <td>2021-04-20</td>\n",
       "      <td>1</td>\n",
       "      <td>1</td>\n",
       "      <td>0</td>\n",
       "      <td>2190</td>\n",
       "      <td>101</td>\n",
       "      <td>0</td>\n",
       "      <td>2</td>\n",
       "      <td>12</td>\n",
       "    </tr>\n",
       "    <tr>\n",
       "      <th>2</th>\n",
       "      <td>2021-04-20 08:18:42</td>\n",
       "      <td>2021-04-20</td>\n",
       "      <td>0</td>\n",
       "      <td>0</td>\n",
       "      <td>0</td>\n",
       "      <td>2190</td>\n",
       "      <td>-1</td>\n",
       "      <td>0</td>\n",
       "      <td>2</td>\n",
       "      <td>12</td>\n",
       "    </tr>\n",
       "    <tr>\n",
       "      <th>3</th>\n",
       "      <td>2021-04-19 18:04:41</td>\n",
       "      <td>2021-04-19</td>\n",
       "      <td>1</td>\n",
       "      <td>1</td>\n",
       "      <td>1</td>\n",
       "      <td>2342</td>\n",
       "      <td>69</td>\n",
       "      <td>1</td>\n",
       "      <td>1</td>\n",
       "      <td>22</td>\n",
       "    </tr>\n",
       "    <tr>\n",
       "      <th>4</th>\n",
       "      <td>2021-04-19 18:04:12</td>\n",
       "      <td>2021-04-19</td>\n",
       "      <td>1</td>\n",
       "      <td>0</td>\n",
       "      <td>1</td>\n",
       "      <td>2342</td>\n",
       "      <td>747</td>\n",
       "      <td>1</td>\n",
       "      <td>1</td>\n",
       "      <td>22</td>\n",
       "    </tr>\n",
       "  </tbody>\n",
       "</table>\n",
       "</div>"
      ],
      "text/plain": [
       "            Date_Time      date_  my_result  my_color  event  my_rating  \\\n",
       "0 2021-04-20 08:27:29 2021-04-20          0         0      0       2194   \n",
       "1 2021-04-20 08:25:05 2021-04-20          1         1      0       2190   \n",
       "2 2021-04-20 08:18:42 2021-04-20          0         0      0       2190   \n",
       "3 2021-04-19 18:04:41 2021-04-19          1         1      1       2342   \n",
       "4 2021-04-19 18:04:12 2021-04-19          1         0      1       2342   \n",
       "\n",
       "   rating_diff  time_control  day_of_week  hour_of_game  \n",
       "0          136             0            2            12  \n",
       "1          101             0            2            12  \n",
       "2           -1             0            2            12  \n",
       "3           69             1            1            22  \n",
       "4          747             1            1            22  "
      ]
     },
     "execution_count": 16,
     "metadata": {},
     "output_type": "execute_result"
    }
   ],
   "source": [
    "print('Размерность основного датафрейма:', chess_df.shape)\n",
    "chess_df.head()"
   ]
  },
  {
   "cell_type": "markdown",
   "metadata": {},
   "source": [
    "Гистограмма распределения результатов по дням недели выгляди так:"
   ]
  },
  {
   "cell_type": "code",
   "execution_count": 21,
   "metadata": {},
   "outputs": [
    {
     "data": {
      "image/png": "[encoded data removed]",
      "text/plain": [
       "<Figure size 720x576 with 1 Axes>"
      ]
     },
     "metadata": {
      "needs_background": "light"
     },
     "output_type": "display_data"
    }
   ],
   "source": [
    "plt.figure(figsize=(10, 8))\n",
    "sns.histplot(data=chess_df, x=chess_df.day_of_week, hue='my_result', bins=7, multiple='stack', palette='Set1')\n",
    "plt.xticks(ticks=range(1, 8), labels=['Monday', 'Tuesday', 'Wednesday', 'Thursday', 'Friday', 'Saturday', 'Sunday'])\n",
    "plt.legend(('win', 'not win'), loc='upper center')\n",
    "plt.grid(axis='y', linestyle='-.')\n",
    "plt.title('My results on every week day')\n",
    "plt.plot();"
   ]
  },
  {
   "cell_type": "markdown",
   "metadata": {},
   "source": [
    "К выходным количество игр возрастает, и наибольшая доля побед именно в выходные. Логично, ведь я свеж и не отвлекаюсь на работу :)"
   ]
  },
  {
   "cell_type": "code",
   "execution_count": 22,
   "metadata": {},
   "outputs": [
    {
     "data": {
      "image/png": "[encoded data removed]",
      "text/plain": [
       "<Figure size 720x432 with 1 Axes>"
      ]
     },
     "metadata": {
      "needs_background": "light"
     },
     "output_type": "display_data"
    }
   ],
   "source": [
    "plt.figure(figsize=(10, 6))\n",
    "sns.histplot(data=chess_df, x=chess_df.hour_of_game, hue='my_result', bins=19, multiple='stack')\n",
    "plt.xticks(ticks=range(25))\n",
    "plt.legend(('win', 'not win'), loc='upper center')\n",
    "plt.grid(axis='y', linestyle='--')\n",
    "plt.title('Hourly results for all days')\n",
    "plt.plot();"
   ]
  },
  {
   "cell_type": "markdown",
   "metadata": {},
   "source": [
    "Из почасового распределения результатов можно сделать несколько интересных замечаний. Во-первых, есть несколько пиков - отрезков времени, когда я чаще всего играю. Это 12-13 часов (обеденный перерыв), 16-18 часов (окончание работы, еду домой), 20-23 (вечернее время дома). Во-вторых, есть \"плохие\" часы, когда результаты не очень (в начале дня, поздно вечером), и \"хорошие часы\", когда я чаще бываю в ударе. В-третьих, интересно посмотреть на это распределение только для рабочих дней и только для выходных."
   ]
  },
  {
   "cell_type": "code",
   "execution_count": 23,
   "metadata": {},
   "outputs": [
    {
     "data": {
      "image/png": "[encoded data removed]",
      "text/plain": [
       "<Figure size 720x432 with 1 Axes>"
      ]
     },
     "metadata": {
      "needs_background": "light"
     },
     "output_type": "display_data"
    }
   ],
   "source": [
    "weekend = chess_df[chess_df.day_of_week >= 6]\n",
    "plt.figure(figsize=(10, 6))\n",
    "sns.histplot(data=weekend, x=weekend.hour_of_game, hue='my_result', bins=18, multiple='stack')\n",
    "plt.xticks(ticks=range(25))\n",
    "plt.legend(('win', 'not win'), loc='upper left')\n",
    "plt.grid(axis='y', linestyle='--')\n",
    "plt.title('Hourly results for weekends')\n",
    "plt.plot();"
   ]
  },
  {
   "cell_type": "markdown",
   "metadata": {},
   "source": [
    "Выше показано распределение результатов на выходных (праздничные дни я не считал). В целом, оно похоже на общее, только пик в 16-17 часов более выражен. Это из-за того, что в это время часто играются воскресные турниры."
   ]
  },
  {
   "cell_type": "code",
   "execution_count": 27,
   "metadata": {},
   "outputs": [
    {
     "data": {
      "image/png": "[encoded data removed]",
      "text/plain": [
       "<Figure size 720x432 with 1 Axes>"
      ]
     },
     "metadata": {
      "needs_background": "light"
     },
     "output_type": "display_data"
    }
   ],
   "source": [
    "workdays = chess_df[chess_df.day_of_week < 6]\n",
    "plt.figure(figsize=(10, 6))\n",
    "sns.histplot(data=workdays, x=workdays.hour_of_game, hue='my_result', bins=19, multiple='stack')\n",
    "plt.xticks(ticks=range(25))\n",
    "plt.legend(('win', 'not win'), loc='upper left')\n",
    "plt.grid(axis='y', linestyle='--')\n",
    "plt.title('Hourly results for workdays')\n",
    "plt.plot();"
   ]
  },
  {
   "cell_type": "markdown",
   "metadata": {},
   "source": [
    "Пик игр по будням приходится на вечернее послерабочее время (20-23 часа). При этом процент побед очевидно меньше."
   ]
  },
  {
   "cell_type": "markdown",
   "metadata": {},
   "source": [
    "#### Создаю признак part_of_day - время дня, когда игралась партия и посмотрим, как я играю в разное время дня."
   ]
  },
  {
   "cell_type": "code",
   "execution_count": 56,
   "metadata": {},
   "outputs": [],
   "source": [
    "chess_df['part_of_day'] = chess_df.hour_of_game.replace([4, 5, 6, 7, 8, 9, 10, 11], 'morning') \\\n",
    "                                    .replace([12, 13, 14, 15], 'afternoon').replace([16, 17, 18, 19], 'evening') \\\n",
    "                                    .replace([20, 21, 22, 23, 24, 25, 26], 'night')"
   ]
  },
  {
   "cell_type": "code",
   "execution_count": 72,
   "metadata": {},
   "outputs": [
    {
     "data": {
      "image/png": "[encoded data removed]",
      "text/plain": [
       "<Figure size 864x216 with 1 Axes>"
      ]
     },
     "metadata": {
      "needs_background": "light"
     },
     "output_type": "display_data"
    }
   ],
   "source": [
    "plt.figure(figsize=(12, 3))\n",
    "sns.barplot(data=chess_df.part_of_day.value_counts().to_frame().reset_index(), x='part_of_day', y='index')\n",
    "plt.title('В какое время дня я чаще всего играю')\n",
    "plt.grid(axis='x');"
   ]
  },
  {
   "cell_type": "markdown",
   "metadata": {},
   "source": [
    "Больше всего игр я сыграл после 20 часов вечера, меньше всего - утром"
   ]
  },
  {
   "cell_type": "code",
   "execution_count": 104,
   "metadata": {},
   "outputs": [
    {
     "ename": "KeyError",
     "evalue": "'part_of_day'",
     "output_type": "error",
     "traceback": [
      "\u001b[1;31m---------------------------------------------------------------------------\u001b[0m",
      "\u001b[1;31mKeyError\u001b[0m                                  Traceback (most recent call last)",
      "\u001b[1;32m<ipython-input-104-93f8681365ca>\u001b[0m in \u001b[0;36m<module>\u001b[1;34m\u001b[0m\n\u001b[1;32m----> 1\u001b[1;33m \u001b[0mc\u001b[0m \u001b[1;33m=\u001b[0m \u001b[0mchess_df\u001b[0m\u001b[1;33m[\u001b[0m\u001b[0mchess_df\u001b[0m\u001b[1;33m.\u001b[0m\u001b[0mday_of_week\u001b[0m \u001b[1;33m>=\u001b[0m \u001b[1;36m6\u001b[0m\u001b[1;33m]\u001b[0m\u001b[1;33m.\u001b[0m\u001b[0mgroupby\u001b[0m\u001b[1;33m(\u001b[0m\u001b[1;34m'part_of_day'\u001b[0m\u001b[1;33m)\u001b[0m\u001b[1;33m.\u001b[0m\u001b[0magg\u001b[0m\u001b[1;33m(\u001b[0m\u001b[1;33m{\u001b[0m\u001b[1;34m'my_result'\u001b[0m\u001b[1;33m:\u001b[0m \u001b[1;34m'mean'\u001b[0m\u001b[1;33m}\u001b[0m\u001b[1;33m)\u001b[0m\u001b[1;33m.\u001b[0m\u001b[0mreset_index\u001b[0m\u001b[1;33m(\u001b[0m\u001b[1;33m)\u001b[0m\u001b[1;33m.\u001b[0m\u001b[0msort_values\u001b[0m\u001b[1;33m(\u001b[0m\u001b[0mby\u001b[0m\u001b[1;33m=\u001b[0m\u001b[1;34m'my_result'\u001b[0m\u001b[1;33m)\u001b[0m\u001b[1;33m\u001b[0m\u001b[1;33m\u001b[0m\u001b[0m\n\u001b[0m\u001b[0;32m      2\u001b[0m \u001b[0mc\u001b[0m\u001b[1;33m.\u001b[0m\u001b[0mmy_result\u001b[0m \u001b[1;33m=\u001b[0m \u001b[0mc\u001b[0m\u001b[1;33m.\u001b[0m\u001b[0mmy_result\u001b[0m \u001b[1;33m*\u001b[0m \u001b[1;36m100\u001b[0m\u001b[1;33m\u001b[0m\u001b[1;33m\u001b[0m\u001b[0m\n\u001b[0;32m      3\u001b[0m \u001b[0mc\u001b[0m \u001b[1;33m=\u001b[0m \u001b[0mc\u001b[0m\u001b[1;33m.\u001b[0m\u001b[0mrename\u001b[0m\u001b[1;33m(\u001b[0m\u001b[0mcolumns\u001b[0m\u001b[1;33m=\u001b[0m\u001b[1;33m{\u001b[0m\u001b[1;34m'my_result'\u001b[0m\u001b[1;33m:\u001b[0m \u001b[1;34m'percent_of_wins'\u001b[0m\u001b[1;33m}\u001b[0m\u001b[1;33m)\u001b[0m\u001b[1;33m\u001b[0m\u001b[1;33m\u001b[0m\u001b[0m\n\u001b[0;32m      4\u001b[0m \u001b[0mplt\u001b[0m\u001b[1;33m.\u001b[0m\u001b[0mfigure\u001b[0m\u001b[1;33m(\u001b[0m\u001b[0mfigsize\u001b[0m\u001b[1;33m=\u001b[0m\u001b[1;33m(\u001b[0m\u001b[1;36m12\u001b[0m\u001b[1;33m,\u001b[0m \u001b[1;36m3\u001b[0m\u001b[1;33m)\u001b[0m\u001b[1;33m)\u001b[0m\u001b[1;33m\u001b[0m\u001b[1;33m\u001b[0m\u001b[0m\n\u001b[0;32m      5\u001b[0m \u001b[0mplt\u001b[0m\u001b[1;33m.\u001b[0m\u001b[0mtitle\u001b[0m\u001b[1;33m(\u001b[0m\u001b[1;34m'Процент побед в различный период времени в выходные'\u001b[0m\u001b[1;33m)\u001b[0m\u001b[1;33m\u001b[0m\u001b[1;33m\u001b[0m\u001b[0m\n",
      "\u001b[1;32mc:\\python\\ml_coursera\\venv\\lib\\site-packages\\pandas\\core\\frame.py\u001b[0m in \u001b[0;36mgroupby\u001b[1;34m(self, by, axis, level, as_index, sort, group_keys, squeeze, observed, dropna)\u001b[0m\n\u001b[0;32m   6506\u001b[0m         \u001b[0maxis\u001b[0m \u001b[1;33m=\u001b[0m \u001b[0mself\u001b[0m\u001b[1;33m.\u001b[0m\u001b[0m_get_axis_number\u001b[0m\u001b[1;33m(\u001b[0m\u001b[0maxis\u001b[0m\u001b[1;33m)\u001b[0m\u001b[1;33m\u001b[0m\u001b[1;33m\u001b[0m\u001b[0m\n\u001b[0;32m   6507\u001b[0m \u001b[1;33m\u001b[0m\u001b[0m\n\u001b[1;32m-> 6508\u001b[1;33m         return DataFrameGroupBy(\n\u001b[0m\u001b[0;32m   6509\u001b[0m             \u001b[0mobj\u001b[0m\u001b[1;33m=\u001b[0m\u001b[0mself\u001b[0m\u001b[1;33m,\u001b[0m\u001b[1;33m\u001b[0m\u001b[1;33m\u001b[0m\u001b[0m\n\u001b[0;32m   6510\u001b[0m             \u001b[0mkeys\u001b[0m\u001b[1;33m=\u001b[0m\u001b[0mby\u001b[0m\u001b[1;33m,\u001b[0m\u001b[1;33m\u001b[0m\u001b[1;33m\u001b[0m\u001b[0m\n",
      "\u001b[1;32mc:\\python\\ml_coursera\\venv\\lib\\site-packages\\pandas\\core\\groupby\\groupby.py\u001b[0m in \u001b[0;36m__init__\u001b[1;34m(self, obj, keys, axis, level, grouper, exclusions, selection, as_index, sort, group_keys, squeeze, observed, mutated, dropna)\u001b[0m\n\u001b[0;32m    523\u001b[0m             \u001b[1;32mfrom\u001b[0m \u001b[0mpandas\u001b[0m\u001b[1;33m.\u001b[0m\u001b[0mcore\u001b[0m\u001b[1;33m.\u001b[0m\u001b[0mgroupby\u001b[0m\u001b[1;33m.\u001b[0m\u001b[0mgrouper\u001b[0m \u001b[1;32mimport\u001b[0m \u001b[0mget_grouper\u001b[0m\u001b[1;33m\u001b[0m\u001b[1;33m\u001b[0m\u001b[0m\n\u001b[0;32m    524\u001b[0m \u001b[1;33m\u001b[0m\u001b[0m\n\u001b[1;32m--> 525\u001b[1;33m             grouper, exclusions, obj = get_grouper(\n\u001b[0m\u001b[0;32m    526\u001b[0m                 \u001b[0mobj\u001b[0m\u001b[1;33m,\u001b[0m\u001b[1;33m\u001b[0m\u001b[1;33m\u001b[0m\u001b[0m\n\u001b[0;32m    527\u001b[0m                 \u001b[0mkeys\u001b[0m\u001b[1;33m,\u001b[0m\u001b[1;33m\u001b[0m\u001b[1;33m\u001b[0m\u001b[0m\n",
      "\u001b[1;32mc:\\python\\ml_coursera\\venv\\lib\\site-packages\\pandas\\core\\groupby\\grouper.py\u001b[0m in \u001b[0;36mget_grouper\u001b[1;34m(obj, key, axis, level, sort, observed, mutated, validate, dropna)\u001b[0m\n\u001b[0;32m    774\u001b[0m                 \u001b[0min_axis\u001b[0m\u001b[1;33m,\u001b[0m \u001b[0mname\u001b[0m\u001b[1;33m,\u001b[0m \u001b[0mlevel\u001b[0m\u001b[1;33m,\u001b[0m \u001b[0mgpr\u001b[0m \u001b[1;33m=\u001b[0m \u001b[1;32mFalse\u001b[0m\u001b[1;33m,\u001b[0m \u001b[1;32mNone\u001b[0m\u001b[1;33m,\u001b[0m \u001b[0mgpr\u001b[0m\u001b[1;33m,\u001b[0m \u001b[1;32mNone\u001b[0m\u001b[1;33m\u001b[0m\u001b[1;33m\u001b[0m\u001b[0m\n\u001b[0;32m    775\u001b[0m             \u001b[1;32melse\u001b[0m\u001b[1;33m:\u001b[0m\u001b[1;33m\u001b[0m\u001b[1;33m\u001b[0m\u001b[0m\n\u001b[1;32m--> 776\u001b[1;33m                 \u001b[1;32mraise\u001b[0m \u001b[0mKeyError\u001b[0m\u001b[1;33m(\u001b[0m\u001b[0mgpr\u001b[0m\u001b[1;33m)\u001b[0m\u001b[1;33m\u001b[0m\u001b[1;33m\u001b[0m\u001b[0m\n\u001b[0m\u001b[0;32m    777\u001b[0m         \u001b[1;32melif\u001b[0m \u001b[0misinstance\u001b[0m\u001b[1;33m(\u001b[0m\u001b[0mgpr\u001b[0m\u001b[1;33m,\u001b[0m \u001b[0mGrouper\u001b[0m\u001b[1;33m)\u001b[0m \u001b[1;32mand\u001b[0m \u001b[0mgpr\u001b[0m\u001b[1;33m.\u001b[0m\u001b[0mkey\u001b[0m \u001b[1;32mis\u001b[0m \u001b[1;32mnot\u001b[0m \u001b[1;32mNone\u001b[0m\u001b[1;33m:\u001b[0m\u001b[1;33m\u001b[0m\u001b[1;33m\u001b[0m\u001b[0m\n\u001b[0;32m    778\u001b[0m             \u001b[1;31m# Add key to exclusions\u001b[0m\u001b[1;33m\u001b[0m\u001b[1;33m\u001b[0m\u001b[1;33m\u001b[0m\u001b[0m\n",
      "\u001b[1;31mKeyError\u001b[0m: 'part_of_day'"
     ]
    }
   ],
   "source": [
    "c = chess_df[chess_df.day_of_week >= 6].groupby('part_of_day').agg({'my_result': 'mean'}).reset_index().sort_values(by='my_result')\n",
    "c.my_result = c.my_result * 100\n",
    "c = c.rename(columns={'my_result': 'percent_of_wins'})\n",
    "plt.figure(figsize=(12, 3))\n",
    "plt.title('Процент побед в различный период времени в выходные')\n",
    "sns.barplot(x=c.percent_of_wins, y=c.part_of_day, orient='h');"
   ]
  },
  {
   "cell_type": "markdown",
   "metadata": {},
   "source": [
    "В выходные наиболее успешное время для меня - вечер, но не слишком поздно. После 20 часов результаты падают"
   ]
  },
  {
   "cell_type": "code",
   "execution_count": 75,
   "metadata": {},
   "outputs": [
    {
     "data": {
      "image/png": "[encoded data removed]",
      "text/plain": [
       "<Figure size 864x216 with 1 Axes>"
      ]
     },
     "metadata": {
      "needs_background": "light"
     },
     "output_type": "display_data"
    }
   ],
   "source": [
    "d = chess_df[chess_df.day_of_week < 6].groupby('part_of_day').agg({'my_result': 'mean'}).reset_index().sort_values(by='my_result')\n",
    "d.my_result = d.my_result * 100\n",
    "d = d.rename(columns={'my_result': 'percent_of_wins'})\n",
    "plt.figure(figsize=(12, 3))\n",
    "plt.title('Процент побед по времени дня в будние дни')\n",
    "sns.barplot(x=d.percent_of_wins, y=d.part_of_day, orient='h');"
   ]
  },
  {
   "cell_type": "markdown",
   "metadata": {},
   "source": [
    "В рабочие дни ситация почти противоположная. После 20 часов я играю успешно, а вот вечер с 16 по 20 часов не очень хорошее время. Получается, сразу после работы лучше не играть"
   ]
  },
  {
   "cell_type": "markdown",
   "metadata": {},
   "source": [
    "#### Проанализировав полученные данные, я решил оставить данные part_of_day, только обработаю эту переменную dummy-кодированием, чтобы получить 4 категориальные переменные, в какое время я играл. Также создам категориальную переменную its_weekend, принимающую значения 0 - будний день, 1 - выходной. Соответственно, признак hour_of_game можно будет удалить"
   ]
  },
  {
   "cell_type": "code",
   "execution_count": 76,
   "metadata": {},
   "outputs": [],
   "source": [
    "chess_df = pd.get_dummies(data=chess_df)"
   ]
  },
  {
   "cell_type": "code",
   "execution_count": 77,
   "metadata": {},
   "outputs": [
    {
     "name": "stdout",
     "output_type": "stream",
     "text": [
      "Размерность основного датафрейма: (1952, 14)\n"
     ]
    },
    {
     "data": {
      "text/html": [
       "<div>\n",
       "<style scoped>\n",
       "    .dataframe tbody tr th:only-of-type {\n",
       "        vertical-align: middle;\n",
       "    }\n",
       "\n",
       "    .dataframe tbody tr th {\n",
       "        vertical-align: top;\n",
       "    }\n",
       "\n",
       "    .dataframe thead th {\n",
       "        text-align: right;\n",
       "    }\n",
       "</style>\n",
       "<table border=\"1\" class=\"dataframe\">\n",
       "  <thead>\n",
       "    <tr style=\"text-align: right;\">\n",
       "      <th></th>\n",
       "      <th>Date_Time</th>\n",
       "      <th>date_</th>\n",
       "      <th>my_result</th>\n",
       "      <th>my_color</th>\n",
       "      <th>event</th>\n",
       "      <th>my_rating</th>\n",
       "      <th>rating_diff</th>\n",
       "      <th>time_control</th>\n",
       "      <th>day_of_week</th>\n",
       "      <th>hour_of_game</th>\n",
       "      <th>part_of_day_afternoon</th>\n",
       "      <th>part_of_day_evening</th>\n",
       "      <th>part_of_day_morning</th>\n",
       "      <th>part_of_day_night</th>\n",
       "    </tr>\n",
       "  </thead>\n",
       "  <tbody>\n",
       "    <tr>\n",
       "      <th>0</th>\n",
       "      <td>2021-04-20 08:27:29</td>\n",
       "      <td>2021-04-20</td>\n",
       "      <td>0</td>\n",
       "      <td>0</td>\n",
       "      <td>0</td>\n",
       "      <td>2194</td>\n",
       "      <td>136</td>\n",
       "      <td>0</td>\n",
       "      <td>2</td>\n",
       "      <td>12</td>\n",
       "      <td>1</td>\n",
       "      <td>0</td>\n",
       "      <td>0</td>\n",
       "      <td>0</td>\n",
       "    </tr>\n",
       "    <tr>\n",
       "      <th>1</th>\n",
       "      <td>2021-04-20 08:25:05</td>\n",
       "      <td>2021-04-20</td>\n",
       "      <td>1</td>\n",
       "      <td>1</td>\n",
       "      <td>0</td>\n",
       "      <td>2190</td>\n",
       "      <td>101</td>\n",
       "      <td>0</td>\n",
       "      <td>2</td>\n",
       "      <td>12</td>\n",
       "      <td>1</td>\n",
       "      <td>0</td>\n",
       "      <td>0</td>\n",
       "      <td>0</td>\n",
       "    </tr>\n",
       "    <tr>\n",
       "      <th>2</th>\n",
       "      <td>2021-04-20 08:18:42</td>\n",
       "      <td>2021-04-20</td>\n",
       "      <td>0</td>\n",
       "      <td>0</td>\n",
       "      <td>0</td>\n",
       "      <td>2190</td>\n",
       "      <td>-1</td>\n",
       "      <td>0</td>\n",
       "      <td>2</td>\n",
       "      <td>12</td>\n",
       "      <td>1</td>\n",
       "      <td>0</td>\n",
       "      <td>0</td>\n",
       "      <td>0</td>\n",
       "    </tr>\n",
       "    <tr>\n",
       "      <th>3</th>\n",
       "      <td>2021-04-19 18:04:41</td>\n",
       "      <td>2021-04-19</td>\n",
       "      <td>1</td>\n",
       "      <td>1</td>\n",
       "      <td>1</td>\n",
       "      <td>2342</td>\n",
       "      <td>69</td>\n",
       "      <td>1</td>\n",
       "      <td>1</td>\n",
       "      <td>22</td>\n",
       "      <td>0</td>\n",
       "      <td>0</td>\n",
       "      <td>0</td>\n",
       "      <td>1</td>\n",
       "    </tr>\n",
       "    <tr>\n",
       "      <th>4</th>\n",
       "      <td>2021-04-19 18:04:12</td>\n",
       "      <td>2021-04-19</td>\n",
       "      <td>1</td>\n",
       "      <td>0</td>\n",
       "      <td>1</td>\n",
       "      <td>2342</td>\n",
       "      <td>747</td>\n",
       "      <td>1</td>\n",
       "      <td>1</td>\n",
       "      <td>22</td>\n",
       "      <td>0</td>\n",
       "      <td>0</td>\n",
       "      <td>0</td>\n",
       "      <td>1</td>\n",
       "    </tr>\n",
       "  </tbody>\n",
       "</table>\n",
       "</div>"
      ],
      "text/plain": [
       "            Date_Time      date_  my_result  my_color  event  my_rating  \\\n",
       "0 2021-04-20 08:27:29 2021-04-20          0         0      0       2194   \n",
       "1 2021-04-20 08:25:05 2021-04-20          1         1      0       2190   \n",
       "2 2021-04-20 08:18:42 2021-04-20          0         0      0       2190   \n",
       "3 2021-04-19 18:04:41 2021-04-19          1         1      1       2342   \n",
       "4 2021-04-19 18:04:12 2021-04-19          1         0      1       2342   \n",
       "\n",
       "   rating_diff  time_control  day_of_week  hour_of_game  \\\n",
       "0          136             0            2            12   \n",
       "1          101             0            2            12   \n",
       "2           -1             0            2            12   \n",
       "3           69             1            1            22   \n",
       "4          747             1            1            22   \n",
       "\n",
       "   part_of_day_afternoon  part_of_day_evening  part_of_day_morning  \\\n",
       "0                      1                    0                    0   \n",
       "1                      1                    0                    0   \n",
       "2                      1                    0                    0   \n",
       "3                      0                    0                    0   \n",
       "4                      0                    0                    0   \n",
       "\n",
       "   part_of_day_night  \n",
       "0                  0  \n",
       "1                  0  \n",
       "2                  0  \n",
       "3                  1  \n",
       "4                  1  "
      ]
     },
     "execution_count": 77,
     "metadata": {},
     "output_type": "execute_result"
    }
   ],
   "source": [
    "print('Размерность основного датафрейма:', chess_df.shape)\n",
    "chess_df.head()"
   ]
  },
  {
   "cell_type": "code",
   "execution_count": 93,
   "metadata": {},
   "outputs": [],
   "source": [
    "chess_df['its_weekend'] = chess_df.day_of_week.replace([1, 2, 3, 4, 5], 0).replace([6, 7], 1).astype('int32')"
   ]
  },
  {
   "cell_type": "code",
   "execution_count": 90,
   "metadata": {},
   "outputs": [],
   "source": [
    "chess_df = chess_df.drop(columns=['hour_of_game'])"
   ]
  },
  {
   "cell_type": "code",
   "execution_count": 94,
   "metadata": {
    "scrolled": false
   },
   "outputs": [
    {
     "name": "stdout",
     "output_type": "stream",
     "text": [
      "Размерность основного датафрейма: (1952, 14)\n"
     ]
    },
    {
     "data": {
      "text/html": [
       "<div>\n",
       "<style scoped>\n",
       "    .dataframe tbody tr th:only-of-type {\n",
       "        vertical-align: middle;\n",
       "    }\n",
       "\n",
       "    .dataframe tbody tr th {\n",
       "        vertical-align: top;\n",
       "    }\n",
       "\n",
       "    .dataframe thead th {\n",
       "        text-align: right;\n",
       "    }\n",
       "</style>\n",
       "<table border=\"1\" class=\"dataframe\">\n",
       "  <thead>\n",
       "    <tr style=\"text-align: right;\">\n",
       "      <th></th>\n",
       "      <th>Date_Time</th>\n",
       "      <th>date_</th>\n",
       "      <th>my_result</th>\n",
       "      <th>my_color</th>\n",
       "      <th>event</th>\n",
       "      <th>my_rating</th>\n",
       "      <th>rating_diff</th>\n",
       "      <th>time_control</th>\n",
       "      <th>day_of_week</th>\n",
       "      <th>part_of_day_afternoon</th>\n",
       "      <th>part_of_day_evening</th>\n",
       "      <th>part_of_day_morning</th>\n",
       "      <th>part_of_day_night</th>\n",
       "      <th>its_weekend</th>\n",
       "    </tr>\n",
       "  </thead>\n",
       "  <tbody>\n",
       "    <tr>\n",
       "      <th>0</th>\n",
       "      <td>2021-04-20 08:27:29</td>\n",
       "      <td>2021-04-20</td>\n",
       "      <td>0</td>\n",
       "      <td>0</td>\n",
       "      <td>0</td>\n",
       "      <td>2194</td>\n",
       "      <td>136</td>\n",
       "      <td>0</td>\n",
       "      <td>2</td>\n",
       "      <td>1</td>\n",
       "      <td>0</td>\n",
       "      <td>0</td>\n",
       "      <td>0</td>\n",
       "      <td>0</td>\n",
       "    </tr>\n",
       "    <tr>\n",
       "      <th>1</th>\n",
       "      <td>2021-04-20 08:25:05</td>\n",
       "      <td>2021-04-20</td>\n",
       "      <td>1</td>\n",
       "      <td>1</td>\n",
       "      <td>0</td>\n",
       "      <td>2190</td>\n",
       "      <td>101</td>\n",
       "      <td>0</td>\n",
       "      <td>2</td>\n",
       "      <td>1</td>\n",
       "      <td>0</td>\n",
       "      <td>0</td>\n",
       "      <td>0</td>\n",
       "      <td>0</td>\n",
       "    </tr>\n",
       "    <tr>\n",
       "      <th>2</th>\n",
       "      <td>2021-04-20 08:18:42</td>\n",
       "      <td>2021-04-20</td>\n",
       "      <td>0</td>\n",
       "      <td>0</td>\n",
       "      <td>0</td>\n",
       "      <td>2190</td>\n",
       "      <td>-1</td>\n",
       "      <td>0</td>\n",
       "      <td>2</td>\n",
       "      <td>1</td>\n",
       "      <td>0</td>\n",
       "      <td>0</td>\n",
       "      <td>0</td>\n",
       "      <td>0</td>\n",
       "    </tr>\n",
       "    <tr>\n",
       "      <th>3</th>\n",
       "      <td>2021-04-19 18:04:41</td>\n",
       "      <td>2021-04-19</td>\n",
       "      <td>1</td>\n",
       "      <td>1</td>\n",
       "      <td>1</td>\n",
       "      <td>2342</td>\n",
       "      <td>69</td>\n",
       "      <td>1</td>\n",
       "      <td>1</td>\n",
       "      <td>0</td>\n",
       "      <td>0</td>\n",
       "      <td>0</td>\n",
       "      <td>1</td>\n",
       "      <td>0</td>\n",
       "    </tr>\n",
       "    <tr>\n",
       "      <th>4</th>\n",
       "      <td>2021-04-19 18:04:12</td>\n",
       "      <td>2021-04-19</td>\n",
       "      <td>1</td>\n",
       "      <td>0</td>\n",
       "      <td>1</td>\n",
       "      <td>2342</td>\n",
       "      <td>747</td>\n",
       "      <td>1</td>\n",
       "      <td>1</td>\n",
       "      <td>0</td>\n",
       "      <td>0</td>\n",
       "      <td>0</td>\n",
       "      <td>1</td>\n",
       "      <td>0</td>\n",
       "    </tr>\n",
       "  </tbody>\n",
       "</table>\n",
       "</div>"
      ],
      "text/plain": [
       "            Date_Time      date_  my_result  my_color  event  my_rating  \\\n",
       "0 2021-04-20 08:27:29 2021-04-20          0         0      0       2194   \n",
       "1 2021-04-20 08:25:05 2021-04-20          1         1      0       2190   \n",
       "2 2021-04-20 08:18:42 2021-04-20          0         0      0       2190   \n",
       "3 2021-04-19 18:04:41 2021-04-19          1         1      1       2342   \n",
       "4 2021-04-19 18:04:12 2021-04-19          1         0      1       2342   \n",
       "\n",
       "   rating_diff  time_control  day_of_week  part_of_day_afternoon  \\\n",
       "0          136             0            2                      1   \n",
       "1          101             0            2                      1   \n",
       "2           -1             0            2                      1   \n",
       "3           69             1            1                      0   \n",
       "4          747             1            1                      0   \n",
       "\n",
       "   part_of_day_evening  part_of_day_morning  part_of_day_night  its_weekend  \n",
       "0                    0                    0                  0            0  \n",
       "1                    0                    0                  0            0  \n",
       "2                    0                    0                  0            0  \n",
       "3                    0                    0                  1            0  \n",
       "4                    0                    0                  1            0  "
      ]
     },
     "execution_count": 94,
     "metadata": {},
     "output_type": "execute_result"
    }
   ],
   "source": [
    "print('Размерность основного датафрейма:', chess_df.shape)\n",
    "chess_df.head()"
   ]
  },
  {
   "cell_type": "markdown",
   "metadata": {},
   "source": [
    "Судя по статистике, на выходных я играю лучше. Но, возможно, это связано с тем, что я чаще играю в турнирах на выходных, где мне попадаются соперники с меньшим рейтингом, отсюда больше побед. Давайте сравним разницу рейтинга в моих партиях в выходные и в будни"
   ]
  },
  {
   "cell_type": "code",
   "execution_count": 174,
   "metadata": {},
   "outputs": [
    {
     "data": {
      "image/png": "[encoded data removed]",
      "text/plain": [
       "<Figure size 720x432 with 1 Axes>"
      ]
     },
     "metadata": {
      "needs_background": "light"
     },
     "output_type": "display_data"
    }
   ],
   "source": [
    "plt.figure(figsize=(10, 6))\n",
    "sns.kdeplot(chess_df[chess_df['its_weekend'] == 1].rating_diff, lw=3, color='darkgreen', fill=True)\n",
    "plt.xticks(ticks=range(-800, 801, 200))\n",
    "plt.xlim([-1000, 1000])\n",
    "plt.ylim([0, 0.005])\n",
    "plt.grid(linestyle='-')\n",
    "plt.title('Распределение разности рейтингов между мной и соперниками по выходным')\n",
    "plt.plot();"
   ]
  },
  {
   "cell_type": "code",
   "execution_count": 175,
   "metadata": {},
   "outputs": [
    {
     "data": {
      "image/png": "[encoded data removed]",
      "text/plain": [
       "<Figure size 720x432 with 1 Axes>"
      ]
     },
     "metadata": {
      "needs_background": "light"
     },
     "output_type": "display_data"
    }
   ],
   "source": [
    "plt.figure(figsize=(10, 6))\n",
    "sns.kdeplot(chess_df[chess_df['its_weekend'] == 0].rating_diff, lw=3, color='darkgreen', fill=True)\n",
    "plt.xticks(ticks=range(-800, 801, 200))\n",
    "plt.xlim([-1000, 1000])\n",
    "plt.ylim([0, 0.005])\n",
    "plt.grid(linestyle='-')\n",
    "plt.title('Распределение разности рейтингов между мной и соперниками по будням')\n",
    "plt.plot();"
   ]
  },
  {
   "cell_type": "markdown",
   "metadata": {},
   "source": [
    "Из графиков распределений можно сделать вывод, что рейтинги моих соперников не сильно разнятся в будни и в выходные. В выходные разброс рейтингов больше, опять-таки из-за турниров, где самый различный контингент. Можно также подсчитать среднюю разность рейтингов для выходных и будней"
   ]
  },
  {
   "cell_type": "code",
   "execution_count": 178,
   "metadata": {
    "scrolled": true
   },
   "outputs": [
    {
     "name": "stdout",
     "output_type": "stream",
     "text": [
      "Среднее различие рейтинга с соперником по выходным =  86.28698224852072\n",
      "Среднее различие рейтинга с соперником по будням =  47.77664576802508\n"
     ]
    }
   ],
   "source": [
    "print('Среднее различие рейтинга с соперником по выходным = ', chess_df[chess_df['its_weekend'] == 1].rating_diff.mean())\n",
    "print('Среднее различие рейтинга с соперником по будням = ', chess_df[chess_df['its_weekend'] == 0].rating_diff.mean())"
   ]
  },
  {
   "cell_type": "markdown",
   "metadata": {},
   "source": [
    "В целом, в выходные чаще попадаются менее рейтинговые соперники"
   ]
  },
  {
   "cell_type": "markdown",
   "metadata": {},
   "source": [
    "#### Создаю переменные, которые содержат информацию: сколько партий я сыграл за последние 7 дней (last_7days_games) и какой процент побед в этих партиях (last_7days_win_rate)"
   ]
  },
  {
   "cell_type": "code",
   "execution_count": 112,
   "metadata": {},
   "outputs": [
    {
     "data": {
      "text/html": [
       "<div>\n",
       "<style scoped>\n",
       "    .dataframe tbody tr th:only-of-type {\n",
       "        vertical-align: middle;\n",
       "    }\n",
       "\n",
       "    .dataframe tbody tr th {\n",
       "        vertical-align: top;\n",
       "    }\n",
       "\n",
       "    .dataframe thead th {\n",
       "        text-align: right;\n",
       "    }\n",
       "</style>\n",
       "<table border=\"1\" class=\"dataframe\">\n",
       "  <thead>\n",
       "    <tr style=\"text-align: right;\">\n",
       "      <th></th>\n",
       "      <th>date_</th>\n",
       "      <th>last_7days_games</th>\n",
       "      <th>last_7days_wins</th>\n",
       "    </tr>\n",
       "  </thead>\n",
       "  <tbody>\n",
       "    <tr>\n",
       "      <th>0</th>\n",
       "      <td>2020-05-26</td>\n",
       "      <td>0.0</td>\n",
       "      <td>0.0</td>\n",
       "    </tr>\n",
       "    <tr>\n",
       "      <th>1</th>\n",
       "      <td>2020-05-27</td>\n",
       "      <td>10.0</td>\n",
       "      <td>8.0</td>\n",
       "    </tr>\n",
       "    <tr>\n",
       "      <th>2</th>\n",
       "      <td>2020-05-28</td>\n",
       "      <td>15.0</td>\n",
       "      <td>10.0</td>\n",
       "    </tr>\n",
       "    <tr>\n",
       "      <th>3</th>\n",
       "      <td>2020-05-29</td>\n",
       "      <td>18.0</td>\n",
       "      <td>13.0</td>\n",
       "    </tr>\n",
       "    <tr>\n",
       "      <th>4</th>\n",
       "      <td>2020-05-30</td>\n",
       "      <td>31.0</td>\n",
       "      <td>20.0</td>\n",
       "    </tr>\n",
       "    <tr>\n",
       "      <th>...</th>\n",
       "      <td>...</td>\n",
       "      <td>...</td>\n",
       "      <td>...</td>\n",
       "    </tr>\n",
       "    <tr>\n",
       "      <th>325</th>\n",
       "      <td>2021-04-16</td>\n",
       "      <td>48.0</td>\n",
       "      <td>22.0</td>\n",
       "    </tr>\n",
       "    <tr>\n",
       "      <th>326</th>\n",
       "      <td>2021-04-17</td>\n",
       "      <td>73.0</td>\n",
       "      <td>38.0</td>\n",
       "    </tr>\n",
       "    <tr>\n",
       "      <th>327</th>\n",
       "      <td>2021-04-18</td>\n",
       "      <td>70.0</td>\n",
       "      <td>37.0</td>\n",
       "    </tr>\n",
       "    <tr>\n",
       "      <th>328</th>\n",
       "      <td>2021-04-19</td>\n",
       "      <td>83.0</td>\n",
       "      <td>51.0</td>\n",
       "    </tr>\n",
       "    <tr>\n",
       "      <th>329</th>\n",
       "      <td>2021-04-20</td>\n",
       "      <td>78.0</td>\n",
       "      <td>52.0</td>\n",
       "    </tr>\n",
       "  </tbody>\n",
       "</table>\n",
       "<p>330 rows × 3 columns</p>\n",
       "</div>"
      ],
      "text/plain": [
       "         date_  last_7days_games  last_7days_wins\n",
       "0   2020-05-26               0.0              0.0\n",
       "1   2020-05-27              10.0              8.0\n",
       "2   2020-05-28              15.0             10.0\n",
       "3   2020-05-29              18.0             13.0\n",
       "4   2020-05-30              31.0             20.0\n",
       "..         ...               ...              ...\n",
       "325 2021-04-16              48.0             22.0\n",
       "326 2021-04-17              73.0             38.0\n",
       "327 2021-04-18              70.0             37.0\n",
       "328 2021-04-19              83.0             51.0\n",
       "329 2021-04-20              78.0             52.0\n",
       "\n",
       "[330 rows x 3 columns]"
      ]
     },
     "execution_count": 112,
     "metadata": {},
     "output_type": "execute_result"
    }
   ],
   "source": [
    "dated_X = chess_df.sort_values(by='Date_Time').set_index('date_') #создаю датафрейм с DateTime индексом\n",
    "#создаю датафрейм, где каждому дню соответствует, сколько партий я сыграл за последние 7 дней\n",
    "last_7d_stats = dated_X[['my_result']].resample('d').count().rolling(8, min_periods=1).sum() - dated_X[['my_result']].resample('d').count()\n",
    "my_wins = dated_X[['my_result']].loc[ dated_X['my_result'] == 1] #для подсчете моих побед\n",
    "#создаю датафрейм, где каждому дню соответствует, сколько партий я выиграл за последние 7 дней\n",
    "last_7d_wins = my_wins.resample('d').count().rolling(8, min_periods=1).sum() - my_wins.resample('d').count()\n",
    "#объединяю два датафрейма в один\n",
    "last_7d_stats = last_7d_stats.merge(last_7d_wins, left_index=True, right_index=True, how='inner')\n",
    "last_7d_stats = last_7d_stats.reset_index().rename(columns={'my_result_x': 'last_7days_games',\n",
    "                                                                 'my_result_y': 'last_7days_wins'})\n",
    "last_7d_stats\n",
    "#подсчитываю процент выигранных партий за последние 7 дней - отношение кол-ва побед к кол-ву игр\n",
    "#для этого есть вспомогательная функция в библиотеке chess_lib - count_rate"
   ]
  },
  {
   "cell_type": "code",
   "execution_count": 117,
   "metadata": {},
   "outputs": [],
   "source": [
    "def count_rate(winned, played):\n",
    "    '''\n",
    "    Считает отношение количества побед к общему количеству игр, в случае, если игр не было сыграно, отношение принимается = 0\n",
    "    '''\n",
    "    try:\n",
    "        answer = winned / played\n",
    "    except ZeroDivisionError:\n",
    "        answer = 0\n",
    "    return answer.fillna(0).round(3)"
   ]
  },
  {
   "cell_type": "code",
   "execution_count": 172,
   "metadata": {
    "scrolled": true
   },
   "outputs": [
    {
     "name": "stdout",
     "output_type": "stream",
     "text": [
      "Размерность датафрейма статистики за 7 последних дней: (330, 4)\n"
     ]
    },
    {
     "data": {
      "text/html": [
       "<div>\n",
       "<style scoped>\n",
       "    .dataframe tbody tr th:only-of-type {\n",
       "        vertical-align: middle;\n",
       "    }\n",
       "\n",
       "    .dataframe tbody tr th {\n",
       "        vertical-align: top;\n",
       "    }\n",
       "\n",
       "    .dataframe thead th {\n",
       "        text-align: right;\n",
       "    }\n",
       "</style>\n",
       "<table border=\"1\" class=\"dataframe\">\n",
       "  <thead>\n",
       "    <tr style=\"text-align: right;\">\n",
       "      <th></th>\n",
       "      <th>date_</th>\n",
       "      <th>last_7days_games</th>\n",
       "      <th>last_7days_wins</th>\n",
       "      <th>last_7days_win_rate</th>\n",
       "    </tr>\n",
       "  </thead>\n",
       "  <tbody>\n",
       "    <tr>\n",
       "      <th>0</th>\n",
       "      <td>2020-05-26</td>\n",
       "      <td>0</td>\n",
       "      <td>0</td>\n",
       "      <td>0.000</td>\n",
       "    </tr>\n",
       "    <tr>\n",
       "      <th>1</th>\n",
       "      <td>2020-05-27</td>\n",
       "      <td>10</td>\n",
       "      <td>8</td>\n",
       "      <td>0.800</td>\n",
       "    </tr>\n",
       "    <tr>\n",
       "      <th>2</th>\n",
       "      <td>2020-05-28</td>\n",
       "      <td>15</td>\n",
       "      <td>10</td>\n",
       "      <td>0.667</td>\n",
       "    </tr>\n",
       "    <tr>\n",
       "      <th>3</th>\n",
       "      <td>2020-05-29</td>\n",
       "      <td>18</td>\n",
       "      <td>13</td>\n",
       "      <td>0.722</td>\n",
       "    </tr>\n",
       "    <tr>\n",
       "      <th>4</th>\n",
       "      <td>2020-05-30</td>\n",
       "      <td>31</td>\n",
       "      <td>20</td>\n",
       "      <td>0.645</td>\n",
       "    </tr>\n",
       "  </tbody>\n",
       "</table>\n",
       "</div>"
      ],
      "text/plain": [
       "       date_  last_7days_games  last_7days_wins  last_7days_win_rate\n",
       "0 2020-05-26                 0                0                0.000\n",
       "1 2020-05-27                10                8                0.800\n",
       "2 2020-05-28                15               10                0.667\n",
       "3 2020-05-29                18               13                0.722\n",
       "4 2020-05-30                31               20                0.645"
      ]
     },
     "execution_count": 172,
     "metadata": {},
     "output_type": "execute_result"
    }
   ],
   "source": [
    "last_7d_stats['last_7days_win_rate'] = count_rate(last_7d_stats.last_7days_wins, last_7d_stats.last_7days_games)\n",
    "last_7d_stats[['last_7days_games', 'last_7days_wins']] = last_7d_stats[['last_7days_games', 'last_7days_wins']].astype('int32')\n",
    "print('Размерность датафрейма статистики за 7 последних дней:', last_7d_stats.shape)\n",
    "last_7d_stats.head()"
   ]
  },
  {
   "cell_type": "markdown",
   "metadata": {},
   "source": [
    "Данные статистики за последние 7 дней для каждой игры получены. Можно глянуть на мой прогресс по количеству игр и побед во времени, а затем соединить эти данные с основным датафреймом"
   ]
  },
  {
   "cell_type": "code",
   "execution_count": 173,
   "metadata": {},
   "outputs": [
    {
     "data": {
      "image/png": "[encoded data removed]",
      "text/plain": [
       "<Figure size 720x432 with 1 Axes>"
      ]
     },
     "metadata": {
      "needs_background": "light"
     },
     "output_type": "display_data"
    }
   ],
   "source": [
    "fig, ax1 = plt.subplots(figsize=(10, 6))\n",
    "ax1.plot(last_7d_stats.date_, last_7d_stats.last_7days_games)\n",
    "ax1.plot(last_7d_stats.date_, last_7d_stats.last_7days_wins, linestyle='--')\n",
    "ax1.xaxis.set_label_text('Date')\n",
    "ax1.yaxis.set_label_text('Number of games')\n",
    "ax1.legend(('games', 'winned games'), loc='upper left')\n",
    "plt.grid()\n",
    "plt.title('How i played last 7 days before');"
   ]
  },
  {
   "cell_type": "code",
   "execution_count": 169,
   "metadata": {},
   "outputs": [],
   "source": [
    "chess_df = pd.merge(left=chess_df, right=last_7d_stats, on='date_', how='inner')"
   ]
  },
  {
   "cell_type": "code",
   "execution_count": 170,
   "metadata": {},
   "outputs": [
    {
     "name": "stdout",
     "output_type": "stream",
     "text": [
      "Размерность основного датафрейма: (1952, 17)\n"
     ]
    },
    {
     "data": {
      "text/html": [
       "<div>\n",
       "<style scoped>\n",
       "    .dataframe tbody tr th:only-of-type {\n",
       "        vertical-align: middle;\n",
       "    }\n",
       "\n",
       "    .dataframe tbody tr th {\n",
       "        vertical-align: top;\n",
       "    }\n",
       "\n",
       "    .dataframe thead th {\n",
       "        text-align: right;\n",
       "    }\n",
       "</style>\n",
       "<table border=\"1\" class=\"dataframe\">\n",
       "  <thead>\n",
       "    <tr style=\"text-align: right;\">\n",
       "      <th></th>\n",
       "      <th>Date_Time</th>\n",
       "      <th>date_</th>\n",
       "      <th>my_result</th>\n",
       "      <th>my_color</th>\n",
       "      <th>event</th>\n",
       "      <th>my_rating</th>\n",
       "      <th>rating_diff</th>\n",
       "      <th>time_control</th>\n",
       "      <th>day_of_week</th>\n",
       "      <th>part_of_day_afternoon</th>\n",
       "      <th>part_of_day_evening</th>\n",
       "      <th>part_of_day_morning</th>\n",
       "      <th>part_of_day_night</th>\n",
       "      <th>its_weekend</th>\n",
       "      <th>last_7days_games</th>\n",
       "      <th>last_7days_wins</th>\n",
       "      <th>last_7days_win_rate</th>\n",
       "    </tr>\n",
       "  </thead>\n",
       "  <tbody>\n",
       "    <tr>\n",
       "      <th>0</th>\n",
       "      <td>2021-04-20 08:27:29</td>\n",
       "      <td>2021-04-20</td>\n",
       "      <td>0</td>\n",
       "      <td>0</td>\n",
       "      <td>0</td>\n",
       "      <td>2194</td>\n",
       "      <td>136</td>\n",
       "      <td>0</td>\n",
       "      <td>2</td>\n",
       "      <td>1</td>\n",
       "      <td>0</td>\n",
       "      <td>0</td>\n",
       "      <td>0</td>\n",
       "      <td>0</td>\n",
       "      <td>78.0</td>\n",
       "      <td>52.0</td>\n",
       "      <td>0.667</td>\n",
       "    </tr>\n",
       "    <tr>\n",
       "      <th>1</th>\n",
       "      <td>2021-04-20 08:25:05</td>\n",
       "      <td>2021-04-20</td>\n",
       "      <td>1</td>\n",
       "      <td>1</td>\n",
       "      <td>0</td>\n",
       "      <td>2190</td>\n",
       "      <td>101</td>\n",
       "      <td>0</td>\n",
       "      <td>2</td>\n",
       "      <td>1</td>\n",
       "      <td>0</td>\n",
       "      <td>0</td>\n",
       "      <td>0</td>\n",
       "      <td>0</td>\n",
       "      <td>78.0</td>\n",
       "      <td>52.0</td>\n",
       "      <td>0.667</td>\n",
       "    </tr>\n",
       "    <tr>\n",
       "      <th>2</th>\n",
       "      <td>2021-04-20 08:18:42</td>\n",
       "      <td>2021-04-20</td>\n",
       "      <td>0</td>\n",
       "      <td>0</td>\n",
       "      <td>0</td>\n",
       "      <td>2190</td>\n",
       "      <td>-1</td>\n",
       "      <td>0</td>\n",
       "      <td>2</td>\n",
       "      <td>1</td>\n",
       "      <td>0</td>\n",
       "      <td>0</td>\n",
       "      <td>0</td>\n",
       "      <td>0</td>\n",
       "      <td>78.0</td>\n",
       "      <td>52.0</td>\n",
       "      <td>0.667</td>\n",
       "    </tr>\n",
       "    <tr>\n",
       "      <th>3</th>\n",
       "      <td>2021-04-19 18:04:41</td>\n",
       "      <td>2021-04-19</td>\n",
       "      <td>1</td>\n",
       "      <td>1</td>\n",
       "      <td>1</td>\n",
       "      <td>2342</td>\n",
       "      <td>69</td>\n",
       "      <td>1</td>\n",
       "      <td>1</td>\n",
       "      <td>0</td>\n",
       "      <td>0</td>\n",
       "      <td>0</td>\n",
       "      <td>1</td>\n",
       "      <td>0</td>\n",
       "      <td>83.0</td>\n",
       "      <td>51.0</td>\n",
       "      <td>0.614</td>\n",
       "    </tr>\n",
       "    <tr>\n",
       "      <th>4</th>\n",
       "      <td>2021-04-19 18:04:12</td>\n",
       "      <td>2021-04-19</td>\n",
       "      <td>1</td>\n",
       "      <td>0</td>\n",
       "      <td>1</td>\n",
       "      <td>2342</td>\n",
       "      <td>747</td>\n",
       "      <td>1</td>\n",
       "      <td>1</td>\n",
       "      <td>0</td>\n",
       "      <td>0</td>\n",
       "      <td>0</td>\n",
       "      <td>1</td>\n",
       "      <td>0</td>\n",
       "      <td>83.0</td>\n",
       "      <td>51.0</td>\n",
       "      <td>0.614</td>\n",
       "    </tr>\n",
       "  </tbody>\n",
       "</table>\n",
       "</div>"
      ],
      "text/plain": [
       "            Date_Time      date_  my_result  my_color  event  my_rating  \\\n",
       "0 2021-04-20 08:27:29 2021-04-20          0         0      0       2194   \n",
       "1 2021-04-20 08:25:05 2021-04-20          1         1      0       2190   \n",
       "2 2021-04-20 08:18:42 2021-04-20          0         0      0       2190   \n",
       "3 2021-04-19 18:04:41 2021-04-19          1         1      1       2342   \n",
       "4 2021-04-19 18:04:12 2021-04-19          1         0      1       2342   \n",
       "\n",
       "   rating_diff  time_control  day_of_week  part_of_day_afternoon  \\\n",
       "0          136             0            2                      1   \n",
       "1          101             0            2                      1   \n",
       "2           -1             0            2                      1   \n",
       "3           69             1            1                      0   \n",
       "4          747             1            1                      0   \n",
       "\n",
       "   part_of_day_evening  part_of_day_morning  part_of_day_night  its_weekend  \\\n",
       "0                    0                    0                  0            0   \n",
       "1                    0                    0                  0            0   \n",
       "2                    0                    0                  0            0   \n",
       "3                    0                    0                  1            0   \n",
       "4                    0                    0                  1            0   \n",
       "\n",
       "   last_7days_games  last_7days_wins  last_7days_win_rate  \n",
       "0              78.0             52.0                0.667  \n",
       "1              78.0             52.0                0.667  \n",
       "2              78.0             52.0                0.667  \n",
       "3              83.0             51.0                0.614  \n",
       "4              83.0             51.0                0.614  "
      ]
     },
     "execution_count": 170,
     "metadata": {},
     "output_type": "execute_result"
    }
   ],
   "source": [
    "print('Размерность основного датафрейма:', chess_df.shape)\n",
    "chess_df.head()"
   ]
  },
  {
   "cell_type": "code",
   "execution_count": 171,
   "metadata": {},
   "outputs": [
    {
     "name": "stdout",
     "output_type": "stream",
     "text": [
      "<class 'pandas.core.frame.DataFrame'>\n",
      "Int64Index: 1952 entries, 0 to 1951\n",
      "Data columns (total 17 columns):\n",
      " #   Column                 Non-Null Count  Dtype         \n",
      "---  ------                 --------------  -----         \n",
      " 0   Date_Time              1952 non-null   datetime64[ns]\n",
      " 1   date_                  1952 non-null   datetime64[ns]\n",
      " 2   my_result              1952 non-null   int32         \n",
      " 3   my_color               1952 non-null   int32         \n",
      " 4   event                  1952 non-null   int32         \n",
      " 5   my_rating              1952 non-null   int32         \n",
      " 6   rating_diff            1952 non-null   int32         \n",
      " 7   time_control           1952 non-null   int32         \n",
      " 8   day_of_week            1952 non-null   int64         \n",
      " 9   part_of_day_afternoon  1952 non-null   uint8         \n",
      " 10  part_of_day_evening    1952 non-null   uint8         \n",
      " 11  part_of_day_morning    1952 non-null   uint8         \n",
      " 12  part_of_day_night      1952 non-null   uint8         \n",
      " 13  its_weekend            1952 non-null   int32         \n",
      " 14  last_7days_games       1952 non-null   float64       \n",
      " 15  last_7days_wins        1952 non-null   float64       \n",
      " 16  last_7days_win_rate    1952 non-null   float64       \n",
      "dtypes: datetime64[ns](2), float64(3), int32(7), int64(1), uint8(4)\n",
      "memory usage: 167.8 KB\n"
     ]
    }
   ],
   "source": [
    "chess_df.info()"
   ]
  },
  {
   "cell_type": "code",
   "execution_count": null,
   "metadata": {},
   "outputs": [],
   "source": []
  },
  {
   "cell_type": "code",
   "execution_count": null,
   "metadata": {},
   "outputs": [],
   "source": []
  },
  {
   "cell_type": "code",
   "execution_count": null,
   "metadata": {},
   "outputs": [],
   "source": []
  },
  {
   "cell_type": "code",
   "execution_count": null,
   "metadata": {},
   "outputs": [],
   "source": []
  },
  {
   "cell_type": "code",
   "execution_count": null,
   "metadata": {},
   "outputs": [],
   "source": []
  },
  {
   "cell_type": "code",
   "execution_count": null,
   "metadata": {},
   "outputs": [],
   "source": []
  },
  {
   "cell_type": "code",
   "execution_count": null,
   "metadata": {},
   "outputs": [],
   "source": []
  },
  {
   "cell_type": "code",
   "execution_count": null,
   "metadata": {},
   "outputs": [],
   "source": []
  },
  {
   "cell_type": "code",
   "execution_count": null,
   "metadata": {},
   "outputs": [],
   "source": []
  },
  {
   "cell_type": "code",
   "execution_count": null,
   "metadata": {},
   "outputs": [],
   "source": []
  },
  {
   "cell_type": "code",
   "execution_count": null,
   "metadata": {},
   "outputs": [],
   "source": []
  },
  {
   "cell_type": "code",
   "execution_count": null,
   "metadata": {},
   "outputs": [],
   "source": []
  },
  {
   "cell_type": "code",
   "execution_count": null,
   "metadata": {},
   "outputs": [],
   "source": [
    "clf = LogisticRegression(random_state=28)"
   ]
  },
  {
   "cell_type": "markdown",
   "metadata": {
    "scrolled": true
   },
   "source": [
    "print('Logistic regression for all combinations of features')\n",
    "list_scores, list_feat_names = [], []\n",
    "for n_features in range(2, 16):\n",
    "    iterator_ = combinations(range(15), n_features)\n",
    "    for i in iterator_:\n",
    "        #print (X_test.iloc[:, list(i)].columns)\n",
    "        X_train = X_train_big.iloc[:, list(i)]\n",
    "        X_test = X_test_big.iloc[:, list(i)]\n",
    "        clf.fit(X_train, y_train)\n",
    "        list_scores.append(clf.score(X_test, y_test))\n",
    "        list_feat_names.append(list(X_test.columns))\n",
    "        print('-'*50)\n",
    "        print('Score = {:.3f} при {} фичах'.format(clf.score(X_test, y_test), len(X_test.columns)))\n",
    "        print('Для обучения взяты фичи:\\n{0}'.format(list(X_test.columns)))"
   ]
  },
  {
   "cell_type": "code",
   "execution_count": null,
   "metadata": {},
   "outputs": [],
   "source": [
    "index_best = list_scores.index(max(list_scores))\n",
    "print('Максимальный score = {:.3f} с набором фичей {}'.format(max(list_scores), list_feat_names[index_best]))"
   ]
  },
  {
   "cell_type": "markdown",
   "metadata": {},
   "source": [
    "У одного единственного набора фичей наилучший score = 0.684!"
   ]
  },
  {
   "cell_type": "code",
   "execution_count": null,
   "metadata": {
    "scrolled": true
   },
   "outputs": [],
   "source": [
    "df_scores_logit = pd.DataFrame({'score': list_scores, 'features': list_feat_names})\n",
    "df_scores_logit.sort_values(by='score', ascending=False).head(20)"
   ]
  },
  {
   "cell_type": "markdown",
   "metadata": {},
   "source": [
    "### Лучший классификатор: logit (score = 0.684) с набором фичей ['my_color', 'elo_diff', 'event', 'time_control', 'day_of_week', 'last_7days_wins', 'count_today_games', 'win_rate_today_games', 'ECO_games', 'ECO_win_rate']"
   ]
  },
  {
   "cell_type": "code",
   "execution_count": null,
   "metadata": {},
   "outputs": [],
   "source": []
  }
 ],
 "metadata": {
  "kernelspec": {
   "display_name": "Python 3",
   "language": "python",
   "name": "python3"
  },
  "language_info": {
   "codemirror_mode": {
    "name": "ipython",
    "version": 3
   },
   "file_extension": ".py",
   "mimetype": "text/x-python",
   "name": "python",
   "nbconvert_exporter": "python",
   "pygments_lexer": "ipython3",
   "version": "3.8.2"
  }
 },
 "nbformat": 4,
 "nbformat_minor": 4
}
