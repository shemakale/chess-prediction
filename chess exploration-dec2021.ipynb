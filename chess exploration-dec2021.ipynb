{
 "cells": [
  {
   "cell_type": "markdown",
   "metadata": {},
   "source": [
    "# Предсказание моих шахматных результатов. Ход конём"
   ]
  },
  {
   "cell_type": "markdown",
   "metadata": {},
   "source": [
    "Приветствую всех! Что собственно говоря, происходит?"
   ]
  },
  {
   "cell_type": "markdown",
   "metadata": {},
   "source": [
    "Меня зовут Максим, и я шахматист. Я играю в шахматы с 3 лет, и это был мой осознанный выбор (конечно же нет). Я имею звание КМС и очень люблю играть в шахматы онлайн. Я сейчас играю на одном из лучших сайтов для игры в шахматы онлайн - lichess.org. На апрель 2021 года у меня было сыграно около 2000 партий, в основном это блиц (blitz, контроль времени 3-5 минут на партию) или пуля (bullet, контроль времени 1-2 минуты на партию). Мне стало интересно, возможно ли предсказать с достаточной точностью, выиграю ли я определенную партию или нет, исходя из данных, которые можно собрать с сайта lichess? Я скачал базу моих партий с этого сайта и начал разбираться..."
   ]
  },
  {
   "cell_type": "markdown",
   "metadata": {},
   "source": [
    "## 1. Постановка задачи. Обзор имеющихся данных"
   ]
  },
  {
   "cell_type": "markdown",
   "metadata": {},
   "source": [
    "Загружаем нужные библиотеки для начала"
   ]
  },
  {
   "cell_type": "code",
   "execution_count": 114,
   "metadata": {},
   "outputs": [],
   "source": [
    "%matplotlib inline\n",
    "import re\n",
    "import pandas as pd\n",
    "import numpy as np\n",
    "import datetime\n",
    "import matplotlib.pyplot as plt\n",
    "import seaborn as sns\n",
    "from sklearn.linear_model import LogisticRegression, LogisticRegressionCV\n",
    "from sklearn.model_selection import GridSearchCV, train_test_split, KFold, cross_val_score\n",
    "from sklearn.preprocessing import StandardScaler, PolynomialFeatures\n",
    "from sklearn.metrics import accuracy_score, roc_curve, auc\n",
    "from chess_lib import create_df_from_pgn, create_my_result, plot_auc_roc, count_rate, fit_model\n",
    "import pickle\n",
    "from scipy.stats import norm\n",
    "import warnings\n",
    "warnings.filterwarnings('ignore')\n",
    "\n",
    "pd.set_option('display.float_format', lambda x: '%.3f' % x)\n",
    "pd.options.display.max_rows = 1000\n",
    "pd.options.display.max_columns = 12"
   ]
  },
  {
   "cell_type": "markdown",
   "metadata": {},
   "source": [
    "Здесь библиотека chess_lib - это файл, который я создал сам. В нём содержатся функции для парсинга pgn файла и создания из его содержимого Dataframe, создания целевой переменной и прочие вспомогательные функции. Когда я буду пользоваться функцией из этой библиотечки, я укажу это в тексте"
   ]
  },
  {
   "cell_type": "markdown",
   "metadata": {},
   "source": [
    "База данных партий хранится в файле формата .pgn (это такой стандарт для шахматных баз данных). Это по сути, текстовый файл, отформатированный определенным образом. Давайте взглянем на его кусочек."
   ]
  },
  {
   "cell_type": "code",
   "execution_count": 2,
   "metadata": {},
   "outputs": [
    {
     "name": "stdout",
     "output_type": "stream",
     "text": [
      "[Event \"Rated Blitz game\"]\n",
      "[Site \"https://lichess.org/QKbPbAnL\"]\n",
      "[Date \"2021.12.15\"]\n",
      "[White \"MichalPawlak\"]\n",
      "[Black \"shahmatpatblog\"]\n",
      "[Result \"1-0\"]\n",
      "[UTCDate \"2021.12.15\"]\n",
      "[UTCTime \"08:15:19\"]\n",
      "[WhiteElo \"2281\"]\n",
      "[BlackElo \"2298\"]\n",
      "[WhiteRatingDiff \"+6\"]\n",
      "[BlackRatingDiff \"-6\"]\n",
      "[Variant \"Standard\"]\n",
      "[TimeControl \"180+2\"]\n",
      "[ECO \"E10\"]\n",
      "[Opening \"Blumenfeld Countergambit\"]\n",
      "[Termination \"Time forfeit\"]\n",
      "\n",
      "1. d4 { [%clk 0:03:00] } 1... Nf6 { [%clk 0:03:00] } 2. c4 { [%clk 0:03:00] } 2... c5 { [%clk 0:03:01] } 3. d5 { [%clk 0:03:01] } 3... b5 { [%clk 0:03:01] } 4. Nf3 { [%clk 0:03:01] } 4... e6 { [%clk 0:02:52] } 5. Bf4 { [%clk 0:02:24] } 5... bxc4 { [%clk 0:02:37] } 6. Nc3 { [%clk 0:02:00] } 6... Bb7 { [%clk 0:02:33] } 7. e4 { [%clk 0:02:00] } 7... Qa5 { [%clk 0:02:23] } 8. Bd2 { [%clk 0:01:55] } 8... Qb6 { [%clk 0:01:44] } 9. Qc2 { [%clk 0:01:51] } 9... d6 { [%clk 0:01:36] } 10. Bxc4 { [%clk 0:01:50] } 10... e5 { [%clk 0:01:33] } 11. O-O { [%clk 0:01:49] } 11... Be7 { [%clk 0:01:33] } 12. Rfb1 { [%\n"
     ]
    }
   ],
   "source": [
    "with open('C:\\python\\ML_coursera\\Data Science\\lichess_base\\lichess_shahmatpatblog_2021-12-17.pgn', 'r', encoding='utf-8') as f:\n",
    "    text_file = f.read()\n",
    "print(text_file[:1000])"
   ]
  },
  {
   "cell_type": "markdown",
   "metadata": {},
   "source": [
    "Здесь, для примера, отображена информация о последней (по хронометражу) игре. Данным образом форматируется каждая партия в базе. Структура следующая: вначале идёт заголовок партии, затем ходы партии, затем предыдущая партия и т.д. Мы можем воспользоваться следующей информацией:"
   ]
  },
  {
   "cell_type": "markdown",
   "metadata": {},
   "source": [
    "Event - тип события. Может быть обычная блиц партия, обычная пуля-партия, какой-нибудь турнир (если сыграна в турнире)"
   ]
  },
  {
   "cell_type": "markdown",
   "metadata": {},
   "source": [
    "Site - ссылка на страничку партии"
   ]
  },
  {
   "cell_type": "markdown",
   "metadata": {},
   "source": [
    "Date - дата партии"
   ]
  },
  {
   "cell_type": "markdown",
   "metadata": {},
   "source": [
    "White - никнейм игрока, играющего белыми"
   ]
  },
  {
   "cell_type": "markdown",
   "metadata": {},
   "source": [
    "Black - никнейм игрока, играющего черными"
   ]
  },
  {
   "cell_type": "markdown",
   "metadata": {},
   "source": [
    "Result - результат партии (1-0, 0-1, 1/2-1/2)"
   ]
  },
  {
   "cell_type": "markdown",
   "metadata": {},
   "source": [
    "UTCDate - дата UTC"
   ]
  },
  {
   "cell_type": "markdown",
   "metadata": {},
   "source": [
    "UTCTime - время UTC (-4 часа от моего часового пояса)"
   ]
  },
  {
   "cell_type": "markdown",
   "metadata": {},
   "source": [
    "WhiteElo - рейтинг (Elo) белых"
   ]
  },
  {
   "cell_type": "markdown",
   "metadata": {},
   "source": [
    "BlackElo - рейтинг (Elo) черных"
   ]
  },
  {
   "cell_type": "markdown",
   "metadata": {},
   "source": [
    "WhiteRatingDiff - изменение рейтинга белых по результату данной партии"
   ]
  },
  {
   "cell_type": "markdown",
   "metadata": {},
   "source": [
    "BlackRatingDiff - изменение рейтинга черных по результату данной партии"
   ]
  },
  {
   "cell_type": "markdown",
   "metadata": {},
   "source": [
    "Variant - тип выбранного режима игры (обычные, шахматы Фишера, поддавки и т.п.). Я играю только обычные (Standard)"
   ]
  },
  {
   "cell_type": "markdown",
   "metadata": {},
   "source": [
    "TimeControl - контроль времени. \"180+2\" например, значит, что контроль времени 3 минуты (180 с) с добавлением 2 с на ход."
   ]
  },
  {
   "cell_type": "markdown",
   "metadata": {},
   "source": [
    "ECO - дебютный индекс партии. Определяет, какой дебют был разыгран в партии"
   ]
  },
  {
   "cell_type": "markdown",
   "metadata": {},
   "source": [
    "Termination - тип окончания партии. Нормальное значит кто-то сдался, или мат, или согласились на ничью. Может быть еще просрочка времени"
   ]
  },
  {
   "cell_type": "markdown",
   "metadata": {},
   "source": [
    "Набор ходов партии в виде стандартной шахматной нотации"
   ]
  },
  {
   "cell_type": "code",
   "execution_count": 3,
   "metadata": {},
   "outputs": [],
   "source": [
    "path_to_file = 'C:\\python\\ML_coursera\\Data Science\\lichess_base\\lichess_shahmatpatblog_2021-12-17.pgn'\n",
    "feature_names = ['Event', 'White', 'Black', 'Result', 'UTCDate', 'UTCTime', 'WhiteElo', 'BlackElo',\\\n",
    "                 'Variant', 'TimeControl', 'ECO']"
   ]
  },
  {
   "cell_type": "markdown",
   "metadata": {},
   "source": [
    "Я скачал базу данных своих партий на 20.04.2021 в формате .pgn, которая содержит в текстовом виде информацию о сыгранных мной партиях на сайте lichess.org. Она содержит 1952 партий за период 05.2020 - 04.2021. Часть этих партий будет использоваться для обучения, другая часть - для проверки модели. Выше я прописал путь к файлу и задал список параметров, которые я хочу выдернуть из базы данных. Мне нужны далеко не все из имеющихся данных."
   ]
  },
  {
   "cell_type": "markdown",
   "metadata": {},
   "source": [
    "Моя задача - предсказать результат партий из тестового набора игр (разобью базу данных при помощи train_test_split позже). Предсказание заключается в определении, выиграю ли я эту партию или нет. Это задача бинарной классификации. Для упрощения задачи, ничейные результаты принимаются за поражения (ничьи в блиц бывают редко и их очень трудно предсказать)."
   ]
  },
  {
   "cell_type": "markdown",
   "metadata": {},
   "source": [
    "## 2. Предобработка данных"
   ]
  },
  {
   "cell_type": "markdown",
   "metadata": {},
   "source": [
    "Для просмотра кода моих функций см. файл chess_lib.py. Функция create_df_from_pgn() преобразует файл .pgn в датафрейм с указанным набором параметров (тот, который feature_names). Переменная raw_data, таким образом, это стартовый датафрейм, готорый я буду анализировать и разбирать, чтобы создать набор данных для обучения и проверки модели."
   ]
  },
  {
   "cell_type": "code",
   "execution_count": 4,
   "metadata": {},
   "outputs": [],
   "source": [
    "raw_data = create_df_from_pgn(path_to_file, feature_names)"
   ]
  },
  {
   "cell_type": "code",
   "execution_count": 5,
   "metadata": {
    "scrolled": false
   },
   "outputs": [
    {
     "name": "stdout",
     "output_type": "stream",
     "text": [
      "Размерность исходного датасета: (3690, 11)\n"
     ]
    },
    {
     "data": {
      "text/html": [
       "<div>\n",
       "<style scoped>\n",
       "    .dataframe tbody tr th:only-of-type {\n",
       "        vertical-align: middle;\n",
       "    }\n",
       "\n",
       "    .dataframe tbody tr th {\n",
       "        vertical-align: top;\n",
       "    }\n",
       "\n",
       "    .dataframe thead th {\n",
       "        text-align: right;\n",
       "    }\n",
       "</style>\n",
       "<table border=\"1\" class=\"dataframe\">\n",
       "  <thead>\n",
       "    <tr style=\"text-align: right;\">\n",
       "      <th></th>\n",
       "      <th>Event</th>\n",
       "      <th>White</th>\n",
       "      <th>Black</th>\n",
       "      <th>Result</th>\n",
       "      <th>UTCDate</th>\n",
       "      <th>UTCTime</th>\n",
       "      <th>WhiteElo</th>\n",
       "      <th>BlackElo</th>\n",
       "      <th>Variant</th>\n",
       "      <th>TimeControl</th>\n",
       "      <th>ECO</th>\n",
       "    </tr>\n",
       "  </thead>\n",
       "  <tbody>\n",
       "    <tr>\n",
       "      <th>0</th>\n",
       "      <td>Rated Blitz game</td>\n",
       "      <td>MichalPawlak</td>\n",
       "      <td>shahmatpatblog</td>\n",
       "      <td>1-0</td>\n",
       "      <td>2021.12.15</td>\n",
       "      <td>08:15:19</td>\n",
       "      <td>2281</td>\n",
       "      <td>2298</td>\n",
       "      <td>Standard</td>\n",
       "      <td>180+2</td>\n",
       "      <td>E10</td>\n",
       "    </tr>\n",
       "    <tr>\n",
       "      <th>1</th>\n",
       "      <td>Rated Blitz game</td>\n",
       "      <td>shahmatpatblog</td>\n",
       "      <td>yakov_sagalovich</td>\n",
       "      <td>1-0</td>\n",
       "      <td>2021.12.15</td>\n",
       "      <td>08:12:19</td>\n",
       "      <td>2291</td>\n",
       "      <td>2347</td>\n",
       "      <td>Standard</td>\n",
       "      <td>180+2</td>\n",
       "      <td>A45</td>\n",
       "    </tr>\n",
       "    <tr>\n",
       "      <th>2</th>\n",
       "      <td>Rated Blitz game</td>\n",
       "      <td>tareksaqr</td>\n",
       "      <td>shahmatpatblog</td>\n",
       "      <td>1/2-1/2</td>\n",
       "      <td>2021.12.15</td>\n",
       "      <td>08:00:26</td>\n",
       "      <td>2345</td>\n",
       "      <td>2290</td>\n",
       "      <td>Standard</td>\n",
       "      <td>180+2</td>\n",
       "      <td>B50</td>\n",
       "    </tr>\n",
       "    <tr>\n",
       "      <th>3</th>\n",
       "      <td>Rated Blitz game</td>\n",
       "      <td>shahmatpatblog</td>\n",
       "      <td>moulhoute</td>\n",
       "      <td>0-1</td>\n",
       "      <td>2021.12.14</td>\n",
       "      <td>18:47:54</td>\n",
       "      <td>2296</td>\n",
       "      <td>2290</td>\n",
       "      <td>Standard</td>\n",
       "      <td>180+2</td>\n",
       "      <td>E94</td>\n",
       "    </tr>\n",
       "    <tr>\n",
       "      <th>4</th>\n",
       "      <td>Rated Blitz game</td>\n",
       "      <td>Bulletzberg</td>\n",
       "      <td>shahmatpatblog</td>\n",
       "      <td>1-0</td>\n",
       "      <td>2021.12.13</td>\n",
       "      <td>17:38:15</td>\n",
       "      <td>2250</td>\n",
       "      <td>2302</td>\n",
       "      <td>Standard</td>\n",
       "      <td>180+2</td>\n",
       "      <td>E06</td>\n",
       "    </tr>\n",
       "  </tbody>\n",
       "</table>\n",
       "</div>"
      ],
      "text/plain": [
       "              Event           White             Black   Result     UTCDate  \\\n",
       "0  Rated Blitz game    MichalPawlak    shahmatpatblog      1-0  2021.12.15   \n",
       "1  Rated Blitz game  shahmatpatblog  yakov_sagalovich      1-0  2021.12.15   \n",
       "2  Rated Blitz game       tareksaqr    shahmatpatblog  1/2-1/2  2021.12.15   \n",
       "3  Rated Blitz game  shahmatpatblog         moulhoute      0-1  2021.12.14   \n",
       "4  Rated Blitz game     Bulletzberg    shahmatpatblog      1-0  2021.12.13   \n",
       "\n",
       "    UTCTime WhiteElo BlackElo   Variant TimeControl  ECO  \n",
       "0  08:15:19     2281     2298  Standard       180+2  E10  \n",
       "1  08:12:19     2291     2347  Standard       180+2  A45  \n",
       "2  08:00:26     2345     2290  Standard       180+2  B50  \n",
       "3  18:47:54     2296     2290  Standard       180+2  E94  \n",
       "4  17:38:15     2250     2302  Standard       180+2  E06  "
      ]
     },
     "execution_count": 5,
     "metadata": {},
     "output_type": "execute_result"
    }
   ],
   "source": [
    "print('Размерность исходного датасета:', raw_data.shape)\n",
    "raw_data.head()"
   ]
  },
  {
   "cell_type": "markdown",
   "metadata": {},
   "source": [
    "Да, кстати. Мой никнейм - shahmatpatblog. Он будет в каждой партии, так как это моя база партий."
   ]
  },
  {
   "cell_type": "code",
   "execution_count": 6,
   "metadata": {},
   "outputs": [
    {
     "name": "stdout",
     "output_type": "stream",
     "text": [
      "<class 'pandas.core.frame.DataFrame'>\n",
      "RangeIndex: 3690 entries, 0 to 3689\n",
      "Data columns (total 11 columns):\n",
      " #   Column       Non-Null Count  Dtype \n",
      "---  ------       --------------  ----- \n",
      " 0   Event        3690 non-null   object\n",
      " 1   White        3690 non-null   object\n",
      " 2   Black        3690 non-null   object\n",
      " 3   Result       3690 non-null   object\n",
      " 4   UTCDate      3690 non-null   object\n",
      " 5   UTCTime      3690 non-null   object\n",
      " 6   WhiteElo     3690 non-null   object\n",
      " 7   BlackElo     3690 non-null   object\n",
      " 8   Variant      3690 non-null   object\n",
      " 9   TimeControl  3690 non-null   object\n",
      " 10  ECO          3690 non-null   object\n",
      "dtypes: object(11)\n",
      "memory usage: 158.6+ KB\n"
     ]
    }
   ],
   "source": [
    "raw_data.info()"
   ]
  },
  {
   "cell_type": "markdown",
   "metadata": {},
   "source": [
    "Т.к. данные парсились из текстового файла, то все поля в таблице имеют тип 'object'. Это строковые объекты (str). Пропусков данных нет"
   ]
  },
  {
   "cell_type": "code",
   "execution_count": 7,
   "metadata": {
    "scrolled": true
   },
   "outputs": [
    {
     "data": {
      "text/html": [
       "<div>\n",
       "<style scoped>\n",
       "    .dataframe tbody tr th:only-of-type {\n",
       "        vertical-align: middle;\n",
       "    }\n",
       "\n",
       "    .dataframe tbody tr th {\n",
       "        vertical-align: top;\n",
       "    }\n",
       "\n",
       "    .dataframe thead th {\n",
       "        text-align: right;\n",
       "    }\n",
       "</style>\n",
       "<table border=\"1\" class=\"dataframe\">\n",
       "  <thead>\n",
       "    <tr style=\"text-align: right;\">\n",
       "      <th></th>\n",
       "      <th>Event</th>\n",
       "      <th>White</th>\n",
       "      <th>Black</th>\n",
       "      <th>Result</th>\n",
       "      <th>UTCDate</th>\n",
       "      <th>UTCTime</th>\n",
       "      <th>WhiteElo</th>\n",
       "      <th>BlackElo</th>\n",
       "      <th>Variant</th>\n",
       "      <th>TimeControl</th>\n",
       "      <th>ECO</th>\n",
       "    </tr>\n",
       "  </thead>\n",
       "  <tbody>\n",
       "    <tr>\n",
       "      <th>count</th>\n",
       "      <td>3690</td>\n",
       "      <td>3690</td>\n",
       "      <td>3690</td>\n",
       "      <td>3690</td>\n",
       "      <td>3690</td>\n",
       "      <td>3690</td>\n",
       "      <td>3690</td>\n",
       "      <td>3690</td>\n",
       "      <td>3690</td>\n",
       "      <td>3690</td>\n",
       "      <td>3690</td>\n",
       "    </tr>\n",
       "    <tr>\n",
       "      <th>unique</th>\n",
       "      <td>88</td>\n",
       "      <td>1696</td>\n",
       "      <td>1699</td>\n",
       "      <td>3</td>\n",
       "      <td>442</td>\n",
       "      <td>3558</td>\n",
       "      <td>739</td>\n",
       "      <td>748</td>\n",
       "      <td>2</td>\n",
       "      <td>12</td>\n",
       "      <td>280</td>\n",
       "    </tr>\n",
       "    <tr>\n",
       "      <th>top</th>\n",
       "      <td>Rated Blitz game</td>\n",
       "      <td>shahmatpatblog</td>\n",
       "      <td>shahmatpatblog</td>\n",
       "      <td>1-0</td>\n",
       "      <td>2021.03.21</td>\n",
       "      <td>07:38:13</td>\n",
       "      <td>2204</td>\n",
       "      <td>2204</td>\n",
       "      <td>Standard</td>\n",
       "      <td>180+2</td>\n",
       "      <td>A45</td>\n",
       "    </tr>\n",
       "    <tr>\n",
       "      <th>freq</th>\n",
       "      <td>1594</td>\n",
       "      <td>1834</td>\n",
       "      <td>1856</td>\n",
       "      <td>1804</td>\n",
       "      <td>48</td>\n",
       "      <td>3</td>\n",
       "      <td>24</td>\n",
       "      <td>25</td>\n",
       "      <td>3658</td>\n",
       "      <td>1605</td>\n",
       "      <td>633</td>\n",
       "    </tr>\n",
       "  </tbody>\n",
       "</table>\n",
       "</div>"
      ],
      "text/plain": [
       "                   Event           White           Black Result     UTCDate  \\\n",
       "count               3690            3690            3690   3690        3690   \n",
       "unique                88            1696            1699      3         442   \n",
       "top     Rated Blitz game  shahmatpatblog  shahmatpatblog    1-0  2021.03.21   \n",
       "freq                1594            1834            1856   1804          48   \n",
       "\n",
       "         UTCTime WhiteElo BlackElo   Variant TimeControl   ECO  \n",
       "count       3690     3690     3690      3690        3690  3690  \n",
       "unique      3558      739      748         2          12   280  \n",
       "top     07:38:13     2204     2204  Standard       180+2   A45  \n",
       "freq           3       24       25      3658        1605   633  "
      ]
     },
     "execution_count": 7,
     "metadata": {},
     "output_type": "execute_result"
    }
   ],
   "source": [
    "raw_data.describe()"
   ]
  },
  {
   "cell_type": "markdown",
   "metadata": {},
   "source": [
    "Наиболее часто играемые события (Event) - Rated Blitz game (не турнирная блиц-игра). Чаще всего выигрывают белые (Result = 1-0). Наиболее предпочитаемый мной контроль времени (TimeControl) - 180+2. Чаще всего из дебютов (ECO) встречается A45 (он же Атака Тромповского)"
   ]
  },
  {
   "cell_type": "code",
   "execution_count": 8,
   "metadata": {},
   "outputs": [
    {
     "data": {
      "text/plain": [
       "Standard         3658\n",
       "From Position      32\n",
       "Name: Variant, dtype: int64"
      ]
     },
     "execution_count": 8,
     "metadata": {},
     "output_type": "execute_result"
    }
   ],
   "source": [
    "raw_data.Variant.value_counts()"
   ]
  },
  {
   "cell_type": "code",
   "execution_count": 9,
   "metadata": {},
   "outputs": [
    {
     "data": {
      "text/html": [
       "<div>\n",
       "<style scoped>\n",
       "    .dataframe tbody tr th:only-of-type {\n",
       "        vertical-align: middle;\n",
       "    }\n",
       "\n",
       "    .dataframe tbody tr th {\n",
       "        vertical-align: top;\n",
       "    }\n",
       "\n",
       "    .dataframe thead th {\n",
       "        text-align: right;\n",
       "    }\n",
       "</style>\n",
       "<table border=\"1\" class=\"dataframe\">\n",
       "  <thead>\n",
       "    <tr style=\"text-align: right;\">\n",
       "      <th></th>\n",
       "      <th>Event</th>\n",
       "      <th>White</th>\n",
       "      <th>Black</th>\n",
       "      <th>Result</th>\n",
       "      <th>UTCDate</th>\n",
       "      <th>UTCTime</th>\n",
       "      <th>WhiteElo</th>\n",
       "      <th>BlackElo</th>\n",
       "      <th>Variant</th>\n",
       "      <th>TimeControl</th>\n",
       "      <th>ECO</th>\n",
       "    </tr>\n",
       "  </thead>\n",
       "  <tbody>\n",
       "    <tr>\n",
       "      <th>1227</th>\n",
       "      <td>Nimzo-Indian Defence SuperBlitz Arena</td>\n",
       "      <td>HarpFluffy</td>\n",
       "      <td>shahmatpatblog</td>\n",
       "      <td>1-0</td>\n",
       "      <td>2021.06.21</td>\n",
       "      <td>04:11:22</td>\n",
       "      <td>1897</td>\n",
       "      <td>2283</td>\n",
       "      <td>From Position</td>\n",
       "      <td>180+0</td>\n",
       "      <td>?</td>\n",
       "    </tr>\n",
       "    <tr>\n",
       "      <th>1265</th>\n",
       "      <td>Blackmar Gambit Blitz Arena</td>\n",
       "      <td>shahmatpatblog</td>\n",
       "      <td>Verdie_jwk</td>\n",
       "      <td>1-0</td>\n",
       "      <td>2021.06.16</td>\n",
       "      <td>13:54:20</td>\n",
       "      <td>2325</td>\n",
       "      <td>1869</td>\n",
       "      <td>From Position</td>\n",
       "      <td>180+2</td>\n",
       "      <td>?</td>\n",
       "    </tr>\n",
       "    <tr>\n",
       "      <th>1266</th>\n",
       "      <td>Blackmar Gambit Blitz Arena</td>\n",
       "      <td>shahmatpatblog</td>\n",
       "      <td>Oralbek</td>\n",
       "      <td>1-0</td>\n",
       "      <td>2021.06.16</td>\n",
       "      <td>13:50:43</td>\n",
       "      <td>2323</td>\n",
       "      <td>1993</td>\n",
       "      <td>From Position</td>\n",
       "      <td>180+2</td>\n",
       "      <td>?</td>\n",
       "    </tr>\n",
       "    <tr>\n",
       "      <th>1267</th>\n",
       "      <td>Blackmar Gambit Blitz Arena</td>\n",
       "      <td>Patolfo</td>\n",
       "      <td>shahmatpatblog</td>\n",
       "      <td>0-1</td>\n",
       "      <td>2021.06.16</td>\n",
       "      <td>13:42:52</td>\n",
       "      <td>1778</td>\n",
       "      <td>2323</td>\n",
       "      <td>From Position</td>\n",
       "      <td>180+2</td>\n",
       "      <td>?</td>\n",
       "    </tr>\n",
       "    <tr>\n",
       "      <th>1268</th>\n",
       "      <td>Blackmar Gambit Blitz Arena</td>\n",
       "      <td>petpan</td>\n",
       "      <td>shahmatpatblog</td>\n",
       "      <td>0-1</td>\n",
       "      <td>2021.06.16</td>\n",
       "      <td>13:33:57</td>\n",
       "      <td>1876</td>\n",
       "      <td>2322</td>\n",
       "      <td>From Position</td>\n",
       "      <td>180+2</td>\n",
       "      <td>?</td>\n",
       "    </tr>\n",
       "  </tbody>\n",
       "</table>\n",
       "</div>"
      ],
      "text/plain": [
       "                                      Event           White           Black  \\\n",
       "1227  Nimzo-Indian Defence SuperBlitz Arena      HarpFluffy  shahmatpatblog   \n",
       "1265            Blackmar Gambit Blitz Arena  shahmatpatblog      Verdie_jwk   \n",
       "1266            Blackmar Gambit Blitz Arena  shahmatpatblog         Oralbek   \n",
       "1267            Blackmar Gambit Blitz Arena         Patolfo  shahmatpatblog   \n",
       "1268            Blackmar Gambit Blitz Arena          petpan  shahmatpatblog   \n",
       "\n",
       "     Result     UTCDate   UTCTime WhiteElo BlackElo        Variant  \\\n",
       "1227    1-0  2021.06.21  04:11:22     1897     2283  From Position   \n",
       "1265    1-0  2021.06.16  13:54:20     2325     1869  From Position   \n",
       "1266    1-0  2021.06.16  13:50:43     2323     1993  From Position   \n",
       "1267    0-1  2021.06.16  13:42:52     1778     2323  From Position   \n",
       "1268    0-1  2021.06.16  13:33:57     1876     2322  From Position   \n",
       "\n",
       "     TimeControl ECO  \n",
       "1227       180+0   ?  \n",
       "1265       180+2   ?  \n",
       "1266       180+2   ?  \n",
       "1267       180+2   ?  \n",
       "1268       180+2   ?  "
      ]
     },
     "execution_count": 9,
     "metadata": {},
     "output_type": "execute_result"
    }
   ],
   "source": [
    "raw_data[raw_data['Variant'] == 'From Position'].head() #From Position значит партия начинается с какого-то дебюта"
   ]
  },
  {
   "cell_type": "markdown",
   "metadata": {},
   "source": [
    "#### Создам датафрейм chess_df, в который буду закидывать сгенерированные на основе анализа raw_data фичи для обучения классификатора. Для удобства буду называть его основной датафрейм"
   ]
  },
  {
   "cell_type": "code",
   "execution_count": 10,
   "metadata": {},
   "outputs": [],
   "source": [
    "chess_df = pd.DataFrame()"
   ]
  },
  {
   "cell_type": "markdown",
   "metadata": {},
   "source": [
    "#### Для начала полезно будет добавить в наш датафрейм признаки даты и времени"
   ]
  },
  {
   "cell_type": "code",
   "execution_count": 11,
   "metadata": {
    "scrolled": true
   },
   "outputs": [
    {
     "name": "stdout",
     "output_type": "stream",
     "text": [
      "Размерность основного датафрейма: (3690, 2)\n"
     ]
    },
    {
     "data": {
      "text/html": [
       "<div>\n",
       "<style scoped>\n",
       "    .dataframe tbody tr th:only-of-type {\n",
       "        vertical-align: middle;\n",
       "    }\n",
       "\n",
       "    .dataframe tbody tr th {\n",
       "        vertical-align: top;\n",
       "    }\n",
       "\n",
       "    .dataframe thead th {\n",
       "        text-align: right;\n",
       "    }\n",
       "</style>\n",
       "<table border=\"1\" class=\"dataframe\">\n",
       "  <thead>\n",
       "    <tr style=\"text-align: right;\">\n",
       "      <th></th>\n",
       "      <th>Date_Time</th>\n",
       "      <th>date_</th>\n",
       "    </tr>\n",
       "  </thead>\n",
       "  <tbody>\n",
       "    <tr>\n",
       "      <th>0</th>\n",
       "      <td>2021-12-15 08:15:19</td>\n",
       "      <td>2021-12-15</td>\n",
       "    </tr>\n",
       "    <tr>\n",
       "      <th>1</th>\n",
       "      <td>2021-12-15 08:12:19</td>\n",
       "      <td>2021-12-15</td>\n",
       "    </tr>\n",
       "    <tr>\n",
       "      <th>2</th>\n",
       "      <td>2021-12-15 08:00:26</td>\n",
       "      <td>2021-12-15</td>\n",
       "    </tr>\n",
       "    <tr>\n",
       "      <th>3</th>\n",
       "      <td>2021-12-14 18:47:54</td>\n",
       "      <td>2021-12-14</td>\n",
       "    </tr>\n",
       "    <tr>\n",
       "      <th>4</th>\n",
       "      <td>2021-12-13 17:38:15</td>\n",
       "      <td>2021-12-13</td>\n",
       "    </tr>\n",
       "  </tbody>\n",
       "</table>\n",
       "</div>"
      ],
      "text/plain": [
       "            Date_Time      date_\n",
       "0 2021-12-15 08:15:19 2021-12-15\n",
       "1 2021-12-15 08:12:19 2021-12-15\n",
       "2 2021-12-15 08:00:26 2021-12-15\n",
       "3 2021-12-14 18:47:54 2021-12-14\n",
       "4 2021-12-13 17:38:15 2021-12-13"
      ]
     },
     "execution_count": 11,
     "metadata": {},
     "output_type": "execute_result"
    }
   ],
   "source": [
    "chess_df['Date_Time'] = raw_data['UTCDate'] + ' ' + raw_data['UTCTime']\n",
    "chess_df[['Date_Time']] = chess_df[['Date_Time']].applymap(lambda x: datetime.datetime.strptime(x, '%Y.%m.%d %H:%M:%S'))\n",
    "chess_df[['date_']] = raw_data[['UTCDate']].applymap(lambda x: datetime.datetime.strptime(x, '%Y.%m.%d'))\n",
    "print('Размерность основного датафрейма:', chess_df.shape)\n",
    "chess_df.head()"
   ]
  },
  {
   "cell_type": "markdown",
   "metadata": {},
   "source": [
    "#### Далее в основной датафрейм добавлю целевую переменную - результат моей игры. 1- я выиграл, 0 - не выиграл."
   ]
  },
  {
   "cell_type": "markdown",
   "metadata": {},
   "source": [
    "Столбцы White, Black и Result пригодятся для создания целевой переменной. Для этого я прописал функцию create_my_result (см. файл chess_lib.py), которая создает помимо прочего, фичу my_color - цвет, которым я играл: белыми (1) или черными (0)"
   ]
  },
  {
   "cell_type": "code",
   "execution_count": 12,
   "metadata": {},
   "outputs": [],
   "source": [
    "color_and_result = create_my_result(raw_data)\n",
    "chess_df['my_result'] = color_and_result['my_result'].astype('uint8')\n",
    "chess_df['my_color'] = color_and_result['my_color'].astype('uint8')"
   ]
  },
  {
   "cell_type": "code",
   "execution_count": 13,
   "metadata": {
    "scrolled": true
   },
   "outputs": [
    {
     "name": "stdout",
     "output_type": "stream",
     "text": [
      "Размерность основного датафрейма: (3690, 4)\n"
     ]
    },
    {
     "data": {
      "text/html": [
       "<div>\n",
       "<style scoped>\n",
       "    .dataframe tbody tr th:only-of-type {\n",
       "        vertical-align: middle;\n",
       "    }\n",
       "\n",
       "    .dataframe tbody tr th {\n",
       "        vertical-align: top;\n",
       "    }\n",
       "\n",
       "    .dataframe thead th {\n",
       "        text-align: right;\n",
       "    }\n",
       "</style>\n",
       "<table border=\"1\" class=\"dataframe\">\n",
       "  <thead>\n",
       "    <tr style=\"text-align: right;\">\n",
       "      <th></th>\n",
       "      <th>Date_Time</th>\n",
       "      <th>date_</th>\n",
       "      <th>my_result</th>\n",
       "      <th>my_color</th>\n",
       "    </tr>\n",
       "  </thead>\n",
       "  <tbody>\n",
       "    <tr>\n",
       "      <th>0</th>\n",
       "      <td>2021-12-15 08:15:19</td>\n",
       "      <td>2021-12-15</td>\n",
       "      <td>0</td>\n",
       "      <td>0</td>\n",
       "    </tr>\n",
       "    <tr>\n",
       "      <th>1</th>\n",
       "      <td>2021-12-15 08:12:19</td>\n",
       "      <td>2021-12-15</td>\n",
       "      <td>1</td>\n",
       "      <td>1</td>\n",
       "    </tr>\n",
       "    <tr>\n",
       "      <th>2</th>\n",
       "      <td>2021-12-15 08:00:26</td>\n",
       "      <td>2021-12-15</td>\n",
       "      <td>0</td>\n",
       "      <td>0</td>\n",
       "    </tr>\n",
       "    <tr>\n",
       "      <th>3</th>\n",
       "      <td>2021-12-14 18:47:54</td>\n",
       "      <td>2021-12-14</td>\n",
       "      <td>0</td>\n",
       "      <td>1</td>\n",
       "    </tr>\n",
       "    <tr>\n",
       "      <th>4</th>\n",
       "      <td>2021-12-13 17:38:15</td>\n",
       "      <td>2021-12-13</td>\n",
       "      <td>0</td>\n",
       "      <td>0</td>\n",
       "    </tr>\n",
       "  </tbody>\n",
       "</table>\n",
       "</div>"
      ],
      "text/plain": [
       "            Date_Time      date_  my_result  my_color\n",
       "0 2021-12-15 08:15:19 2021-12-15          0         0\n",
       "1 2021-12-15 08:12:19 2021-12-15          1         1\n",
       "2 2021-12-15 08:00:26 2021-12-15          0         0\n",
       "3 2021-12-14 18:47:54 2021-12-14          0         1\n",
       "4 2021-12-13 17:38:15 2021-12-13          0         0"
      ]
     },
     "execution_count": 13,
     "metadata": {},
     "output_type": "execute_result"
    }
   ],
   "source": [
    "print('Размерность основного датафрейма:', chess_df.shape)\n",
    "chess_df.head()"
   ]
  },
  {
   "cell_type": "markdown",
   "metadata": {},
   "source": [
    "Давайте взглянем на распределение целевой переменной my_result."
   ]
  },
  {
   "cell_type": "code",
   "execution_count": 14,
   "metadata": {},
   "outputs": [
    {
     "data": {
      "image/png": "[encoded data removed]",
      "text/plain": [
       "<Figure size 432x288 with 1 Axes>"
      ]
     },
     "metadata": {
      "needs_background": "light"
     },
     "output_type": "display_data"
    }
   ],
   "source": [
    "sns.countplot(x='my_result', data=chess_df);"
   ]
  },
  {
   "cell_type": "markdown",
   "metadata": {},
   "source": [
    "Как мы видим, выигрываю я почаще"
   ]
  },
  {
   "cell_type": "code",
   "execution_count": 15,
   "metadata": {},
   "outputs": [
    {
     "name": "stdout",
     "output_type": "stream",
     "text": [
      "Процент побед (класс 1) =  0.562\n"
     ]
    }
   ],
   "source": [
    "classes = chess_df.my_result.value_counts()\n",
    "percent_of_wins = round(classes[1] / classes.sum(), 3)\n",
    "print('Процент побед (класс 1) = ', percent_of_wins)"
   ]
  },
  {
   "cell_type": "markdown",
   "metadata": {},
   "source": [
    "Доля процента класса 1 равна 0.562. Т.е. если бы наша модель всегда предсказывала победу в любом случае, её accuracy score был бы равен 0.562. Желательно достичь показателя accuracy больше этого :)"
   ]
  },
  {
   "cell_type": "code",
   "execution_count": 16,
   "metadata": {
    "scrolled": true
   },
   "outputs": [
    {
     "data": {
      "text/plain": [
       "<AxesSubplot:xlabel='percent_of_wins', ylabel='my_color'>"
      ]
     },
     "execution_count": 16,
     "metadata": {},
     "output_type": "execute_result"
    },
    {
     "data": {
      "image/png": "[encoded data removed]",
      "text/plain": [
       "<Figure size 432x288 with 1 Axes>"
      ]
     },
     "metadata": {
      "needs_background": "light"
     },
     "output_type": "display_data"
    }
   ],
   "source": [
    "a = chess_df.groupby('my_color').agg({'my_result': 'mean'}).reset_index()\n",
    "a = a.replace({0: 'black', 1: 'white'})\n",
    "a.my_result = a.my_result * 100\n",
    "a = a.rename(columns={'my_result': 'percent_of_wins'})\n",
    "sns.barplot(x=a.percent_of_wins, y=a.my_color, orient='h')"
   ]
  },
  {
   "cell_type": "markdown",
   "metadata": {},
   "source": [
    "Также статистика говорит, что белым цветом я выигрываю почаще (58.5% партий), чем черными (53.8%)"
   ]
  },
  {
   "cell_type": "markdown",
   "metadata": {},
   "source": [
    "#### Далее проанализируем и преобразуем колонку Events"
   ]
  },
  {
   "cell_type": "code",
   "execution_count": 17,
   "metadata": {},
   "outputs": [
    {
     "data": {
      "image/png": "[encoded data removed]",
      "text/plain": [
       "<Figure size 432x288 with 1 Axes>"
      ]
     },
     "metadata": {
      "needs_background": "light"
     },
     "output_type": "display_data"
    }
   ],
   "source": [
    "events = raw_data.Event.value_counts().to_frame().reset_index().head(20)\n",
    "sns.barplot(data=events, x='Event', y='index');"
   ]
  },
  {
   "cell_type": "markdown",
   "metadata": {},
   "source": [
    "Наиболее часто встречаемые события - не турнирные игры (Rated Blitz game, Rated Bullet game). Остальное - это игры, сыгранные в различных турнирах. На основании этого предлагаю сделать категориальную переменную Event, где 0 - это не турнирные игры, 1 - турнирные (все остальные). Разделять Blitz game и Bullet game не вижу смысла, так как это разделение будет в переменной, отвечающей за контроль времени."
   ]
  },
  {
   "cell_type": "code",
   "execution_count": 18,
   "metadata": {},
   "outputs": [],
   "source": [
    "chess_df['event'] = raw_data.Event.replace(['Rated Blitz game', 'Rated Bullet game', 'Casual Blitz game',\\\n",
    "                                            'Rated Rapid game'], 0)\n",
    "chess_df.loc[chess_df.event != 0, 'event'] = 1\n",
    "chess_df['event'] = chess_df['event'].astype('uint8')"
   ]
  },
  {
   "cell_type": "code",
   "execution_count": 19,
   "metadata": {},
   "outputs": [
    {
     "data": {
      "text/plain": [
       "0    2493\n",
       "1    1197\n",
       "Name: event, dtype: int64"
      ]
     },
     "execution_count": 19,
     "metadata": {},
     "output_type": "execute_result"
    }
   ],
   "source": [
    "chess_df['event'].value_counts() #   0 - не турнир,   1 - турнир"
   ]
  },
  {
   "cell_type": "code",
   "execution_count": 20,
   "metadata": {
    "scrolled": false
   },
   "outputs": [
    {
     "name": "stdout",
     "output_type": "stream",
     "text": [
      "Размерность основного датафрейма: (3690, 5)\n"
     ]
    },
    {
     "data": {
      "text/html": [
       "<div>\n",
       "<style scoped>\n",
       "    .dataframe tbody tr th:only-of-type {\n",
       "        vertical-align: middle;\n",
       "    }\n",
       "\n",
       "    .dataframe tbody tr th {\n",
       "        vertical-align: top;\n",
       "    }\n",
       "\n",
       "    .dataframe thead th {\n",
       "        text-align: right;\n",
       "    }\n",
       "</style>\n",
       "<table border=\"1\" class=\"dataframe\">\n",
       "  <thead>\n",
       "    <tr style=\"text-align: right;\">\n",
       "      <th></th>\n",
       "      <th>Date_Time</th>\n",
       "      <th>date_</th>\n",
       "      <th>my_result</th>\n",
       "      <th>my_color</th>\n",
       "      <th>event</th>\n",
       "    </tr>\n",
       "  </thead>\n",
       "  <tbody>\n",
       "    <tr>\n",
       "      <th>0</th>\n",
       "      <td>2021-12-15 08:15:19</td>\n",
       "      <td>2021-12-15</td>\n",
       "      <td>0</td>\n",
       "      <td>0</td>\n",
       "      <td>0</td>\n",
       "    </tr>\n",
       "    <tr>\n",
       "      <th>1</th>\n",
       "      <td>2021-12-15 08:12:19</td>\n",
       "      <td>2021-12-15</td>\n",
       "      <td>1</td>\n",
       "      <td>1</td>\n",
       "      <td>0</td>\n",
       "    </tr>\n",
       "    <tr>\n",
       "      <th>2</th>\n",
       "      <td>2021-12-15 08:00:26</td>\n",
       "      <td>2021-12-15</td>\n",
       "      <td>0</td>\n",
       "      <td>0</td>\n",
       "      <td>0</td>\n",
       "    </tr>\n",
       "    <tr>\n",
       "      <th>3</th>\n",
       "      <td>2021-12-14 18:47:54</td>\n",
       "      <td>2021-12-14</td>\n",
       "      <td>0</td>\n",
       "      <td>1</td>\n",
       "      <td>0</td>\n",
       "    </tr>\n",
       "    <tr>\n",
       "      <th>4</th>\n",
       "      <td>2021-12-13 17:38:15</td>\n",
       "      <td>2021-12-13</td>\n",
       "      <td>0</td>\n",
       "      <td>0</td>\n",
       "      <td>0</td>\n",
       "    </tr>\n",
       "  </tbody>\n",
       "</table>\n",
       "</div>"
      ],
      "text/plain": [
       "            Date_Time      date_  my_result  my_color  event\n",
       "0 2021-12-15 08:15:19 2021-12-15          0         0      0\n",
       "1 2021-12-15 08:12:19 2021-12-15          1         1      0\n",
       "2 2021-12-15 08:00:26 2021-12-15          0         0      0\n",
       "3 2021-12-14 18:47:54 2021-12-14          0         1      0\n",
       "4 2021-12-13 17:38:15 2021-12-13          0         0      0"
      ]
     },
     "execution_count": 20,
     "metadata": {},
     "output_type": "execute_result"
    }
   ],
   "source": [
    "print('Размерность основного датафрейма:', chess_df.shape)\n",
    "chess_df.head()"
   ]
  },
  {
   "cell_type": "code",
   "execution_count": 21,
   "metadata": {
    "scrolled": true
   },
   "outputs": [
    {
     "data": {
      "image/png": "[encoded data removed]",
      "text/plain": [
       "<Figure size 432x288 with 1 Axes>"
      ]
     },
     "metadata": {
      "needs_background": "light"
     },
     "output_type": "display_data"
    }
   ],
   "source": [
    "sns.countplot(x='my_result', hue='event', data=chess_df)\n",
    "plt.title('Распределение результатов в зависимости от типа партии\\n(нетурнирная - event=0, турнирная - event=1)');"
   ]
  },
  {
   "cell_type": "markdown",
   "metadata": {},
   "source": [
    "По данной диаграмме можно сказать, что в нетурнирных партиях (синие столбики) количество побед и поражений почти одинаковое, а вот в турнирах (оранжевые столбики) доля побед значительно возрастает"
   ]
  },
  {
   "cell_type": "markdown",
   "metadata": {
    "scrolled": false
   },
   "source": [
    "#### Добавляю переменные my_rating (мой текущий рейтинг), rating_diff (разница между моим рейтингом и рейтингом соперника), opp_rating (рейтинг соперника)"
   ]
  },
  {
   "cell_type": "code",
   "execution_count": 22,
   "metadata": {},
   "outputs": [],
   "source": [
    "chess_df['my_rating'] = raw_data['WhiteElo'].where(raw_data['White'] == 'shahmatpatblog', raw_data['BlackElo']).astype('uint16')"
   ]
  },
  {
   "cell_type": "code",
   "execution_count": 23,
   "metadata": {},
   "outputs": [],
   "source": [
    "chess_df['rating_diff'] = raw_data['WhiteElo'].astype('int16') - raw_data['BlackElo'].astype('int16')\n",
    "chess_df['rating_diff'] = chess_df['rating_diff'].where(chess_df['my_color'] == 1, -chess_df['rating_diff'])"
   ]
  },
  {
   "cell_type": "markdown",
   "metadata": {},
   "source": [
    "Если rating_diff > 0, значит мой рейтинг больше рейтинга оппонента, если < 0 - значит меньше"
   ]
  },
  {
   "cell_type": "code",
   "execution_count": 24,
   "metadata": {},
   "outputs": [],
   "source": [
    "chess_df['opp_rating'] = (chess_df['my_rating'] - chess_df['rating_diff']).astype('uint16')"
   ]
  },
  {
   "cell_type": "code",
   "execution_count": 25,
   "metadata": {
    "scrolled": true
   },
   "outputs": [
    {
     "name": "stdout",
     "output_type": "stream",
     "text": [
      "Размерность основного датафрейма: (3690, 8)\n"
     ]
    },
    {
     "data": {
      "text/html": [
       "<div>\n",
       "<style scoped>\n",
       "    .dataframe tbody tr th:only-of-type {\n",
       "        vertical-align: middle;\n",
       "    }\n",
       "\n",
       "    .dataframe tbody tr th {\n",
       "        vertical-align: top;\n",
       "    }\n",
       "\n",
       "    .dataframe thead th {\n",
       "        text-align: right;\n",
       "    }\n",
       "</style>\n",
       "<table border=\"1\" class=\"dataframe\">\n",
       "  <thead>\n",
       "    <tr style=\"text-align: right;\">\n",
       "      <th></th>\n",
       "      <th>Date_Time</th>\n",
       "      <th>date_</th>\n",
       "      <th>my_result</th>\n",
       "      <th>my_color</th>\n",
       "      <th>event</th>\n",
       "      <th>my_rating</th>\n",
       "      <th>rating_diff</th>\n",
       "      <th>opp_rating</th>\n",
       "    </tr>\n",
       "  </thead>\n",
       "  <tbody>\n",
       "    <tr>\n",
       "      <th>0</th>\n",
       "      <td>2021-12-15 08:15:19</td>\n",
       "      <td>2021-12-15</td>\n",
       "      <td>0</td>\n",
       "      <td>0</td>\n",
       "      <td>0</td>\n",
       "      <td>2298</td>\n",
       "      <td>17</td>\n",
       "      <td>2281</td>\n",
       "    </tr>\n",
       "    <tr>\n",
       "      <th>1</th>\n",
       "      <td>2021-12-15 08:12:19</td>\n",
       "      <td>2021-12-15</td>\n",
       "      <td>1</td>\n",
       "      <td>1</td>\n",
       "      <td>0</td>\n",
       "      <td>2291</td>\n",
       "      <td>-56</td>\n",
       "      <td>2347</td>\n",
       "    </tr>\n",
       "    <tr>\n",
       "      <th>2</th>\n",
       "      <td>2021-12-15 08:00:26</td>\n",
       "      <td>2021-12-15</td>\n",
       "      <td>0</td>\n",
       "      <td>0</td>\n",
       "      <td>0</td>\n",
       "      <td>2290</td>\n",
       "      <td>-55</td>\n",
       "      <td>2345</td>\n",
       "    </tr>\n",
       "    <tr>\n",
       "      <th>3</th>\n",
       "      <td>2021-12-14 18:47:54</td>\n",
       "      <td>2021-12-14</td>\n",
       "      <td>0</td>\n",
       "      <td>1</td>\n",
       "      <td>0</td>\n",
       "      <td>2296</td>\n",
       "      <td>6</td>\n",
       "      <td>2290</td>\n",
       "    </tr>\n",
       "    <tr>\n",
       "      <th>4</th>\n",
       "      <td>2021-12-13 17:38:15</td>\n",
       "      <td>2021-12-13</td>\n",
       "      <td>0</td>\n",
       "      <td>0</td>\n",
       "      <td>0</td>\n",
       "      <td>2302</td>\n",
       "      <td>52</td>\n",
       "      <td>2250</td>\n",
       "    </tr>\n",
       "  </tbody>\n",
       "</table>\n",
       "</div>"
      ],
      "text/plain": [
       "            Date_Time      date_  my_result  my_color  event  my_rating  \\\n",
       "0 2021-12-15 08:15:19 2021-12-15          0         0      0       2298   \n",
       "1 2021-12-15 08:12:19 2021-12-15          1         1      0       2291   \n",
       "2 2021-12-15 08:00:26 2021-12-15          0         0      0       2290   \n",
       "3 2021-12-14 18:47:54 2021-12-14          0         1      0       2296   \n",
       "4 2021-12-13 17:38:15 2021-12-13          0         0      0       2302   \n",
       "\n",
       "   rating_diff  opp_rating  \n",
       "0           17        2281  \n",
       "1          -56        2347  \n",
       "2          -55        2345  \n",
       "3            6        2290  \n",
       "4           52        2250  "
      ]
     },
     "execution_count": 25,
     "metadata": {},
     "output_type": "execute_result"
    }
   ],
   "source": [
    "print('Размерность основного датафрейма:', chess_df.shape)\n",
    "chess_df.head()"
   ]
  },
  {
   "cell_type": "markdown",
   "metadata": {},
   "source": [
    "Значения рейтингов и разность моего рейтинга с соперником - весьма сильные признаки. Давайте взглянем на их скэттер плот в зависимости от результата партии "
   ]
  },
  {
   "cell_type": "code",
   "execution_count": 26,
   "metadata": {},
   "outputs": [
    {
     "data": {
      "image/png": "[encoded data removed]",
      "text/plain": [
       "<Figure size 776.875x360 with 1 Axes>"
      ]
     },
     "metadata": {
      "needs_background": "light"
     },
     "output_type": "display_data"
    }
   ],
   "source": [
    "ax = sns.lmplot(x='my_rating', y='rating_diff', data=chess_df, hue='my_result', fit_reg=False, markers='.', aspect=2)\n",
    "plt.title('Scatter plot: My rating & Rating difference distribution')\n",
    "plt.grid()\n",
    "plt.xlim([1500, 2350])\n",
    "plt.ylim([-600, 1000]);"
   ]
  },
  {
   "cell_type": "markdown",
   "metadata": {},
   "source": [
    "Как мы видим, чем больше мой рейтинг над рейтингом соперника (rating_diff > 0), тем чаще я побеждаю, и наоборот. Что, собственно говоря, предельно логично"
   ]
  },
  {
   "cell_type": "code",
   "execution_count": 27,
   "metadata": {},
   "outputs": [
    {
     "data": {
      "image/png": "[encoded data removed]",
      "text/plain": [
       "<Figure size 432x288 with 1 Axes>"
      ]
     },
     "metadata": {
      "needs_background": "light"
     },
     "output_type": "display_data"
    }
   ],
   "source": [
    "sns.distplot(chess_df['my_rating'], kde=False, fit=norm)\n",
    "plt.title('Распределение моих собственных рейтингов в партиях');"
   ]
  },
  {
   "cell_type": "code",
   "execution_count": 28,
   "metadata": {},
   "outputs": [
    {
     "data": {
      "image/png": "[encoded data removed]",
      "text/plain": [
       "<Figure size 432x288 with 1 Axes>"
      ]
     },
     "metadata": {
      "needs_background": "light"
     },
     "output_type": "display_data"
    }
   ],
   "source": [
    "sns.distplot(chess_df['opp_rating'], kde=False, fit=norm)\n",
    "plt.title('Распределение рейтингов соперников в партиях');"
   ]
  },
  {
   "cell_type": "code",
   "execution_count": 29,
   "metadata": {},
   "outputs": [
    {
     "data": {
      "image/png": "[encoded data removed]",
      "text/plain": [
       "<Figure size 432x288 with 1 Axes>"
      ]
     },
     "metadata": {
      "needs_background": "light"
     },
     "output_type": "display_data"
    }
   ],
   "source": [
    "sns.distplot(chess_df['rating_diff'], kde=False, fit=norm)\n",
    "plt.title('Распределение разности рейтингов между мной и соперником в партиях');"
   ]
  },
  {
   "cell_type": "markdown",
   "metadata": {},
   "source": [
    "#### На основе анализа колонки TimeControl создаю категориальную переменную time_control, указывающую тип контроля времени"
   ]
  },
  {
   "cell_type": "code",
   "execution_count": 30,
   "metadata": {},
   "outputs": [
    {
     "data": {
      "image/png": "[encoded data removed]",
      "text/plain": [
       "<Figure size 432x288 with 1 Axes>"
      ]
     },
     "metadata": {
      "needs_background": "light"
     },
     "output_type": "display_data"
    }
   ],
   "source": [
    "sns.barplot(data=raw_data.TimeControl.value_counts().to_frame().reset_index(), x='TimeControl', y='index')\n",
    "plt.grid(axis='x')"
   ]
  },
  {
   "cell_type": "markdown",
   "metadata": {},
   "source": [
    "Давайте разбираться в контролях времени. Почти половину партий от общего числа я сыграл с контролем 180+2 (3 минуты с добавлением 2 с на ход). Немало партий в пулю - 120+1 (т.н \"ленивая пуля\") и 60+0 (\"обычная пуля\"). Также есть довольно \"медленные\" контроли времени - 600+0 (рапид) и 300+3. Предлагаю создать две переменные. Первая - обычное дамми-кодирование этой переменной. Вторая - близкие по таймингу типы контроля времени объединить в две основные группы - быстрая пуля 60+0, 60+1 (0), медленная пуля 120+0, 120+1, 180+0 (1), блиц 180+1, 180+2, 300+0 (2), рапид 300+2, 300+3, 600+0, 600+5 (3)."
   ]
  },
  {
   "cell_type": "code",
   "execution_count": 31,
   "metadata": {},
   "outputs": [],
   "source": [
    "chess_df['t_ctrl'] = raw_data.TimeControl"
   ]
  },
  {
   "cell_type": "code",
   "execution_count": 32,
   "metadata": {},
   "outputs": [],
   "source": [
    "chess_df = pd.get_dummies(chess_df)"
   ]
  },
  {
   "cell_type": "code",
   "execution_count": 33,
   "metadata": {},
   "outputs": [],
   "source": [
    "chess_df['time_control'] = raw_data.TimeControl \\\n",
    "                            .replace(['60+0', '60+1'], 0) \\\n",
    "                            .replace(['120+0', '120+1', '180+0'], 1) \\\n",
    "                            .replace(['180+1', '180+2', '300+0'], 2) \\\n",
    "                            .replace(['300+2', '300+3', '600+0', '600+5'], 3)\n",
    "chess_df['time_control'] = chess_df['time_control'].astype('uint8')"
   ]
  },
  {
   "cell_type": "code",
   "execution_count": 34,
   "metadata": {
    "scrolled": true
   },
   "outputs": [
    {
     "name": "stdout",
     "output_type": "stream",
     "text": [
      "Размерность основного датафрейма: (3690, 21)\n"
     ]
    },
    {
     "data": {
      "text/html": [
       "<div>\n",
       "<style scoped>\n",
       "    .dataframe tbody tr th:only-of-type {\n",
       "        vertical-align: middle;\n",
       "    }\n",
       "\n",
       "    .dataframe tbody tr th {\n",
       "        vertical-align: top;\n",
       "    }\n",
       "\n",
       "    .dataframe thead th {\n",
       "        text-align: right;\n",
       "    }\n",
       "</style>\n",
       "<table border=\"1\" class=\"dataframe\">\n",
       "  <thead>\n",
       "    <tr style=\"text-align: right;\">\n",
       "      <th></th>\n",
       "      <th>Date_Time</th>\n",
       "      <th>date_</th>\n",
       "      <th>my_result</th>\n",
       "      <th>my_color</th>\n",
       "      <th>event</th>\n",
       "      <th>my_rating</th>\n",
       "      <th>...</th>\n",
       "      <th>t_ctrl_300+3</th>\n",
       "      <th>t_ctrl_60+0</th>\n",
       "      <th>t_ctrl_60+1</th>\n",
       "      <th>t_ctrl_600+0</th>\n",
       "      <th>t_ctrl_600+5</th>\n",
       "      <th>time_control</th>\n",
       "    </tr>\n",
       "  </thead>\n",
       "  <tbody>\n",
       "    <tr>\n",
       "      <th>0</th>\n",
       "      <td>2021-12-15 08:15:19</td>\n",
       "      <td>2021-12-15</td>\n",
       "      <td>0</td>\n",
       "      <td>0</td>\n",
       "      <td>0</td>\n",
       "      <td>2298</td>\n",
       "      <td>...</td>\n",
       "      <td>0</td>\n",
       "      <td>0</td>\n",
       "      <td>0</td>\n",
       "      <td>0</td>\n",
       "      <td>0</td>\n",
       "      <td>2</td>\n",
       "    </tr>\n",
       "    <tr>\n",
       "      <th>1</th>\n",
       "      <td>2021-12-15 08:12:19</td>\n",
       "      <td>2021-12-15</td>\n",
       "      <td>1</td>\n",
       "      <td>1</td>\n",
       "      <td>0</td>\n",
       "      <td>2291</td>\n",
       "      <td>...</td>\n",
       "      <td>0</td>\n",
       "      <td>0</td>\n",
       "      <td>0</td>\n",
       "      <td>0</td>\n",
       "      <td>0</td>\n",
       "      <td>2</td>\n",
       "    </tr>\n",
       "    <tr>\n",
       "      <th>2</th>\n",
       "      <td>2021-12-15 08:00:26</td>\n",
       "      <td>2021-12-15</td>\n",
       "      <td>0</td>\n",
       "      <td>0</td>\n",
       "      <td>0</td>\n",
       "      <td>2290</td>\n",
       "      <td>...</td>\n",
       "      <td>0</td>\n",
       "      <td>0</td>\n",
       "      <td>0</td>\n",
       "      <td>0</td>\n",
       "      <td>0</td>\n",
       "      <td>2</td>\n",
       "    </tr>\n",
       "    <tr>\n",
       "      <th>3</th>\n",
       "      <td>2021-12-14 18:47:54</td>\n",
       "      <td>2021-12-14</td>\n",
       "      <td>0</td>\n",
       "      <td>1</td>\n",
       "      <td>0</td>\n",
       "      <td>2296</td>\n",
       "      <td>...</td>\n",
       "      <td>0</td>\n",
       "      <td>0</td>\n",
       "      <td>0</td>\n",
       "      <td>0</td>\n",
       "      <td>0</td>\n",
       "      <td>2</td>\n",
       "    </tr>\n",
       "    <tr>\n",
       "      <th>4</th>\n",
       "      <td>2021-12-13 17:38:15</td>\n",
       "      <td>2021-12-13</td>\n",
       "      <td>0</td>\n",
       "      <td>0</td>\n",
       "      <td>0</td>\n",
       "      <td>2302</td>\n",
       "      <td>...</td>\n",
       "      <td>0</td>\n",
       "      <td>0</td>\n",
       "      <td>0</td>\n",
       "      <td>0</td>\n",
       "      <td>0</td>\n",
       "      <td>2</td>\n",
       "    </tr>\n",
       "  </tbody>\n",
       "</table>\n",
       "<p>5 rows × 21 columns</p>\n",
       "</div>"
      ],
      "text/plain": [
       "            Date_Time      date_  my_result  my_color  event  my_rating  ...  \\\n",
       "0 2021-12-15 08:15:19 2021-12-15          0         0      0       2298  ...   \n",
       "1 2021-12-15 08:12:19 2021-12-15          1         1      0       2291  ...   \n",
       "2 2021-12-15 08:00:26 2021-12-15          0         0      0       2290  ...   \n",
       "3 2021-12-14 18:47:54 2021-12-14          0         1      0       2296  ...   \n",
       "4 2021-12-13 17:38:15 2021-12-13          0         0      0       2302  ...   \n",
       "\n",
       "   t_ctrl_300+3  t_ctrl_60+0  t_ctrl_60+1  t_ctrl_600+0  t_ctrl_600+5  \\\n",
       "0             0            0            0             0             0   \n",
       "1             0            0            0             0             0   \n",
       "2             0            0            0             0             0   \n",
       "3             0            0            0             0             0   \n",
       "4             0            0            0             0             0   \n",
       "\n",
       "   time_control  \n",
       "0             2  \n",
       "1             2  \n",
       "2             2  \n",
       "3             2  \n",
       "4             2  \n",
       "\n",
       "[5 rows x 21 columns]"
      ]
     },
     "execution_count": 34,
     "metadata": {},
     "output_type": "execute_result"
    }
   ],
   "source": [
    "print('Размерность основного датафрейма:', chess_df.shape)\n",
    "chess_df.head()"
   ]
  },
  {
   "cell_type": "code",
   "execution_count": 35,
   "metadata": {},
   "outputs": [
    {
     "data": {
      "text/plain": [
       "2    2001\n",
       "1     874\n",
       "0     577\n",
       "3     238\n",
       "Name: time_control, dtype: int64"
      ]
     },
     "execution_count": 35,
     "metadata": {},
     "output_type": "execute_result"
    }
   ],
   "source": [
    "chess_df['time_control'].value_counts()"
   ]
  },
  {
   "cell_type": "markdown",
   "metadata": {},
   "source": [
    "Глянем, как я играю в зависимости от контроля времени"
   ]
  },
  {
   "cell_type": "code",
   "execution_count": 36,
   "metadata": {},
   "outputs": [
    {
     "data": {
      "image/png": "[encoded data removed]",
      "text/plain": [
       "<Figure size 720x432 with 1 Axes>"
      ]
     },
     "metadata": {
      "needs_background": "light"
     },
     "output_type": "display_data"
    }
   ],
   "source": [
    "b = chess_df.groupby('time_control').agg({'my_result': 'mean', 'opp_rating': 'mean'}).reset_index()\n",
    "b = b.replace({0: 'Быстрая Пуля', 1: 'Пуля', 2: 'Блиц', 3: 'Рапид'})\n",
    "b.my_result = b.my_result * 100\n",
    "b.opp_rating = b.opp_rating.round(0)\n",
    "b = b.rename(columns={'my_result': 'Процент побед', 'opp_rating': 'Средний рейтинг соперников'})\n",
    "plt.figure(figsize=(10, 6))\n",
    "sns.barplot(x=b['Процент побед'], y=b.time_control, hue=b['Средний рейтинг соперников'], orient='h')\n",
    "plt.grid(axis='x')\n",
    "plt.legend(loc='center left', title='ср. рейт. соперников', fontsize=9, title_fontsize=9);"
   ]
  },
  {
   "cell_type": "markdown",
   "metadata": {},
   "source": [
    "С разными контролями времени я играю с разным успехом. Наиболее часто я выигрываю с контролем времени \"рапид\""
   ]
  },
  {
   "cell_type": "markdown",
   "metadata": {},
   "source": [
    "#### Добавляю переменные - день недели и час суток игры (вдруг есть зависимость с моими результатами, например, в рабочие дни играю хуже, чем в выходные, вечером лучше, чем утром)"
   ]
  },
  {
   "cell_type": "markdown",
   "metadata": {},
   "source": [
    "Создаю: day_of_week - категориальная переменная, от 1 до 7, обозначающая день недели игры (1 - Monday, ..., 7 - Sunday)"
   ]
  },
  {
   "cell_type": "markdown",
   "metadata": {},
   "source": [
    "hour_of_game - час суток (время UTF, т.е. для получения моего времени надо прибавить +4 часа)"
   ]
  },
  {
   "cell_type": "code",
   "execution_count": 37,
   "metadata": {},
   "outputs": [],
   "source": [
    "chess_df[['day_of_week']] = chess_df[['Date_Time']].applymap(lambda x: x.isoweekday()).astype('uint16')\n",
    "chess_df[['hour_of_game']] = chess_df[['Date_Time']].applymap(lambda z: z.time().hour + 4).astype('uint16')"
   ]
  },
  {
   "cell_type": "code",
   "execution_count": 38,
   "metadata": {},
   "outputs": [
    {
     "data": {
      "text/plain": [
       "22    513\n",
       "21    413\n",
       "17    326\n",
       "23    318\n",
       "16    248\n",
       "20    239\n",
       "12    238\n",
       "18    217\n",
       "13    185\n",
       "19    158\n",
       "11    145\n",
       "15    143\n",
       "14    127\n",
       "0     125\n",
       "9      95\n",
       "10     93\n",
       "8      49\n",
       "1      29\n",
       "2      11\n",
       "7       8\n",
       "6       8\n",
       "3       2\n",
       "Name: hour_of_game, dtype: int64"
      ]
     },
     "execution_count": 38,
     "metadata": {},
     "output_type": "execute_result"
    }
   ],
   "source": [
    "chess_df[['hour_of_game']] = chess_df[['hour_of_game']].replace({24: 0, 25:1, 26:2, 27:3}).astype('uint16')\n",
    "chess_df['hour_of_game'].value_counts()"
   ]
  },
  {
   "cell_type": "code",
   "execution_count": 39,
   "metadata": {
    "scrolled": false
   },
   "outputs": [
    {
     "name": "stdout",
     "output_type": "stream",
     "text": [
      "Размерность основного датафрейма: (3690, 23)\n"
     ]
    },
    {
     "data": {
      "text/html": [
       "<div>\n",
       "<style scoped>\n",
       "    .dataframe tbody tr th:only-of-type {\n",
       "        vertical-align: middle;\n",
       "    }\n",
       "\n",
       "    .dataframe tbody tr th {\n",
       "        vertical-align: top;\n",
       "    }\n",
       "\n",
       "    .dataframe thead th {\n",
       "        text-align: right;\n",
       "    }\n",
       "</style>\n",
       "<table border=\"1\" class=\"dataframe\">\n",
       "  <thead>\n",
       "    <tr style=\"text-align: right;\">\n",
       "      <th></th>\n",
       "      <th>Date_Time</th>\n",
       "      <th>date_</th>\n",
       "      <th>my_result</th>\n",
       "      <th>my_color</th>\n",
       "      <th>event</th>\n",
       "      <th>my_rating</th>\n",
       "      <th>...</th>\n",
       "      <th>t_ctrl_60+1</th>\n",
       "      <th>t_ctrl_600+0</th>\n",
       "      <th>t_ctrl_600+5</th>\n",
       "      <th>time_control</th>\n",
       "      <th>day_of_week</th>\n",
       "      <th>hour_of_game</th>\n",
       "    </tr>\n",
       "  </thead>\n",
       "  <tbody>\n",
       "    <tr>\n",
       "      <th>0</th>\n",
       "      <td>2021-12-15 08:15:19</td>\n",
       "      <td>2021-12-15</td>\n",
       "      <td>0</td>\n",
       "      <td>0</td>\n",
       "      <td>0</td>\n",
       "      <td>2298</td>\n",
       "      <td>...</td>\n",
       "      <td>0</td>\n",
       "      <td>0</td>\n",
       "      <td>0</td>\n",
       "      <td>2</td>\n",
       "      <td>3</td>\n",
       "      <td>12</td>\n",
       "    </tr>\n",
       "    <tr>\n",
       "      <th>1</th>\n",
       "      <td>2021-12-15 08:12:19</td>\n",
       "      <td>2021-12-15</td>\n",
       "      <td>1</td>\n",
       "      <td>1</td>\n",
       "      <td>0</td>\n",
       "      <td>2291</td>\n",
       "      <td>...</td>\n",
       "      <td>0</td>\n",
       "      <td>0</td>\n",
       "      <td>0</td>\n",
       "      <td>2</td>\n",
       "      <td>3</td>\n",
       "      <td>12</td>\n",
       "    </tr>\n",
       "    <tr>\n",
       "      <th>2</th>\n",
       "      <td>2021-12-15 08:00:26</td>\n",
       "      <td>2021-12-15</td>\n",
       "      <td>0</td>\n",
       "      <td>0</td>\n",
       "      <td>0</td>\n",
       "      <td>2290</td>\n",
       "      <td>...</td>\n",
       "      <td>0</td>\n",
       "      <td>0</td>\n",
       "      <td>0</td>\n",
       "      <td>2</td>\n",
       "      <td>3</td>\n",
       "      <td>12</td>\n",
       "    </tr>\n",
       "    <tr>\n",
       "      <th>3</th>\n",
       "      <td>2021-12-14 18:47:54</td>\n",
       "      <td>2021-12-14</td>\n",
       "      <td>0</td>\n",
       "      <td>1</td>\n",
       "      <td>0</td>\n",
       "      <td>2296</td>\n",
       "      <td>...</td>\n",
       "      <td>0</td>\n",
       "      <td>0</td>\n",
       "      <td>0</td>\n",
       "      <td>2</td>\n",
       "      <td>2</td>\n",
       "      <td>22</td>\n",
       "    </tr>\n",
       "    <tr>\n",
       "      <th>4</th>\n",
       "      <td>2021-12-13 17:38:15</td>\n",
       "      <td>2021-12-13</td>\n",
       "      <td>0</td>\n",
       "      <td>0</td>\n",
       "      <td>0</td>\n",
       "      <td>2302</td>\n",
       "      <td>...</td>\n",
       "      <td>0</td>\n",
       "      <td>0</td>\n",
       "      <td>0</td>\n",
       "      <td>2</td>\n",
       "      <td>1</td>\n",
       "      <td>21</td>\n",
       "    </tr>\n",
       "  </tbody>\n",
       "</table>\n",
       "<p>5 rows × 23 columns</p>\n",
       "</div>"
      ],
      "text/plain": [
       "            Date_Time      date_  my_result  my_color  event  my_rating  ...  \\\n",
       "0 2021-12-15 08:15:19 2021-12-15          0         0      0       2298  ...   \n",
       "1 2021-12-15 08:12:19 2021-12-15          1         1      0       2291  ...   \n",
       "2 2021-12-15 08:00:26 2021-12-15          0         0      0       2290  ...   \n",
       "3 2021-12-14 18:47:54 2021-12-14          0         1      0       2296  ...   \n",
       "4 2021-12-13 17:38:15 2021-12-13          0         0      0       2302  ...   \n",
       "\n",
       "   t_ctrl_60+1  t_ctrl_600+0  t_ctrl_600+5  time_control  day_of_week  \\\n",
       "0            0             0             0             2            3   \n",
       "1            0             0             0             2            3   \n",
       "2            0             0             0             2            3   \n",
       "3            0             0             0             2            2   \n",
       "4            0             0             0             2            1   \n",
       "\n",
       "   hour_of_game  \n",
       "0            12  \n",
       "1            12  \n",
       "2            12  \n",
       "3            22  \n",
       "4            21  \n",
       "\n",
       "[5 rows x 23 columns]"
      ]
     },
     "execution_count": 39,
     "metadata": {},
     "output_type": "execute_result"
    }
   ],
   "source": [
    "print('Размерность основного датафрейма:', chess_df.shape)\n",
    "chess_df.head()"
   ]
  },
  {
   "cell_type": "markdown",
   "metadata": {},
   "source": [
    "Гистограмма распределения результатов по дням недели выгляди так:"
   ]
  },
  {
   "cell_type": "code",
   "execution_count": 40,
   "metadata": {},
   "outputs": [
    {
     "data": {
      "image/png": "[encoded data removed]",
      "text/plain": [
       "<Figure size 720x576 with 1 Axes>"
      ]
     },
     "metadata": {
      "needs_background": "light"
     },
     "output_type": "display_data"
    }
   ],
   "source": [
    "plt.figure(figsize=(10, 8))\n",
    "sns.histplot(data=chess_df, x=chess_df.day_of_week, hue='my_result', bins=7, multiple='stack', palette='Set1')\n",
    "plt.xticks(ticks=range(1, 8), labels=['Monday', 'Tuesday', 'Wednesday', 'Thursday', 'Friday', 'Saturday', 'Sunday'])\n",
    "plt.legend(('Выигрыши', 'Поражения и ничьи'), loc='upper center')\n",
    "plt.grid(axis='y', linestyle='-.')\n",
    "plt.title('Количество игр и результаты по дням недели')\n",
    "plt.plot();"
   ]
  },
  {
   "cell_type": "markdown",
   "metadata": {},
   "source": [
    "К выходным количество игр возрастает, и наибольшая доля побед именно в выходные. Логично, ведь я свеж и не отвлекаюсь на работу :)"
   ]
  },
  {
   "cell_type": "code",
   "execution_count": 41,
   "metadata": {},
   "outputs": [
    {
     "data": {
      "image/png": "[encoded data removed]",
      "text/plain": [
       "<Figure size 576x360 with 1 Axes>"
      ]
     },
     "metadata": {
      "needs_background": "light"
     },
     "output_type": "display_data"
    }
   ],
   "source": [
    "plt.figure(figsize=(8, 5))\n",
    "sns.histplot(data=chess_df, x=chess_df.hour_of_game, hue='my_result', bins=22, multiple='stack')\n",
    "plt.xticks(ticks=range(25))\n",
    "plt.legend(('win', 'not win'), loc='upper center')\n",
    "plt.grid(axis='y', linestyle='--')\n",
    "plt.title('Hourly results for all days')\n",
    "plt.plot();"
   ]
  },
  {
   "cell_type": "code",
   "execution_count": 42,
   "metadata": {},
   "outputs": [
    {
     "data": {
      "image/png": "[encoded data removed]",
      "text/plain": [
       "<Figure size 432x288 with 1 Axes>"
      ]
     },
     "metadata": {
      "needs_background": "light"
     },
     "output_type": "display_data"
    }
   ],
   "source": [
    "hours_stat = chess_df.groupby('hour_of_game').agg({'my_result': 'mean', 'my_color': 'count', 'opp_rating': 'mean'}).reset_index()\n",
    "hours_stat = hours_stat.rename(columns={'my_result': 'win_percent', 'my_color': 'games_played'})\n",
    "hours_stat['opp_rating'] = hours_stat['opp_rating'].astype('uint16')\n",
    "sns.barplot(x='win_percent', y='hour_of_game', data=hours_stat, orient='h');"
   ]
  },
  {
   "cell_type": "code",
   "execution_count": 43,
   "metadata": {},
   "outputs": [
    {
     "data": {
      "image/png": "[encoded data removed]",
      "text/plain": [
       "<Figure size 432x288 with 1 Axes>"
      ]
     },
     "metadata": {
      "needs_background": "light"
     },
     "output_type": "display_data"
    }
   ],
   "source": [
    "sns.barplot(x='games_played', y='hour_of_game', data=hours_stat, orient='h');"
   ]
  },
  {
   "cell_type": "markdown",
   "metadata": {},
   "source": [
    "Из почасового распределения результатов можно сделать несколько интересных замечаний. Во-первых, есть несколько пиков - отрезков времени, когда я чаще всего играю. Это 12 часов (обеденный перерыв), 17 часов (окончание работы, еду домой), 21-23 (вечернее время дома). Во-вторых, есть \"плохие\" часы, когда результаты не очень (в начале дня, поздно вечером), и \"хорошие часы\", когда я чаще бываю в ударе. В-третьих, интересно посмотреть на это распределение только для рабочих дней и только для выходных."
   ]
  },
  {
   "cell_type": "code",
   "execution_count": 44,
   "metadata": {},
   "outputs": [],
   "source": [
    "weekend = chess_df[chess_df.day_of_week >= 6]\n",
    "# plt.figure(figsize=(10, 6))\n",
    "# sns.histplot(data=weekend, x=weekend.hour_of_game, hue='my_result', bins=21, multiple='stack')\n",
    "# plt.xticks(ticks=range(25))\n",
    "# plt.legend(('win', 'not win'), loc='upper left')\n",
    "# plt.grid(axis='y', linestyle='--')\n",
    "# plt.title('Hourly results for weekends')\n",
    "# plt.plot();"
   ]
  },
  {
   "cell_type": "code",
   "execution_count": 45,
   "metadata": {},
   "outputs": [
    {
     "data": {
      "image/png": "[encoded data removed]",
      "text/plain": [
       "<Figure size 432x288 with 1 Axes>"
      ]
     },
     "metadata": {
      "needs_background": "light"
     },
     "output_type": "display_data"
    }
   ],
   "source": [
    "w_hours_stat = weekend.groupby('hour_of_game').agg({'my_result': 'mean', 'my_color': 'count', 'opp_rating': 'mean'}).reset_index()\n",
    "w_hours_stat = w_hours_stat.rename(columns={'my_result': 'win_percent', 'my_color': 'games_played'})\n",
    "w_hours_stat['opp_rating'] = w_hours_stat['opp_rating'].astype('uint16')\n",
    "sns.barplot(x='win_percent', y='hour_of_game', data=w_hours_stat, orient='h');"
   ]
  },
  {
   "cell_type": "markdown",
   "metadata": {},
   "source": [
    "Выше показано распределение результатов на выходных (праздничные дни я не считал). Распределение доли побед отличается от общей картины (по всем дням)"
   ]
  },
  {
   "cell_type": "code",
   "execution_count": 46,
   "metadata": {},
   "outputs": [],
   "source": [
    "workdays = chess_df[chess_df.day_of_week < 6]\n",
    "# plt.figure(figsize=(10, 6))\n",
    "# sns.histplot(data=workdays, x=workdays.hour_of_game, hue='my_result', bins=19, multiple='stack')\n",
    "# plt.xticks(ticks=range(25))\n",
    "# plt.legend(('win', 'not win'), loc='upper left')\n",
    "# plt.grid(axis='y', linestyle='--')\n",
    "# plt.title('Hourly results for workdays')\n",
    "# plt.plot();"
   ]
  },
  {
   "cell_type": "code",
   "execution_count": 47,
   "metadata": {},
   "outputs": [
    {
     "data": {
      "image/png": "[encoded data removed]",
      "text/plain": [
       "<Figure size 432x288 with 1 Axes>"
      ]
     },
     "metadata": {
      "needs_background": "light"
     },
     "output_type": "display_data"
    }
   ],
   "source": [
    "wo_hours_stat = workdays.groupby('hour_of_game').agg({'my_result': 'mean', 'my_color': 'count', 'opp_rating': 'mean'}).reset_index()\n",
    "wo_hours_stat = wo_hours_stat.rename(columns={'my_result': 'win_percent', 'my_color': 'games_played'})\n",
    "wo_hours_stat['opp_rating'] = wo_hours_stat['opp_rating'].astype('uint16')\n",
    "sns.barplot(x='win_percent', y='hour_of_game', data=wo_hours_stat, orient='h');"
   ]
  },
  {
   "cell_type": "markdown",
   "metadata": {},
   "source": [
    "Очевидно, что почасовая статистика по будням и по выходным разнится, поэтому нужно выделить отдельную переменную, указывающую, игралась ли партия в выходной или нет"
   ]
  },
  {
   "cell_type": "markdown",
   "metadata": {},
   "source": [
    "#### its_weekend - партия сыграна в выходной (1) или нет (0)"
   ]
  },
  {
   "cell_type": "code",
   "execution_count": 48,
   "metadata": {},
   "outputs": [],
   "source": [
    "chess_df['its_weekend'] = chess_df.day_of_week.replace([1, 2, 3, 4, 5], 0).replace([6, 7], 1).astype('uint8')"
   ]
  },
  {
   "cell_type": "code",
   "execution_count": 49,
   "metadata": {},
   "outputs": [
    {
     "name": "stdout",
     "output_type": "stream",
     "text": [
      "Размерность основного датафрейма: (3690, 24)\n"
     ]
    },
    {
     "data": {
      "text/html": [
       "<div>\n",
       "<style scoped>\n",
       "    .dataframe tbody tr th:only-of-type {\n",
       "        vertical-align: middle;\n",
       "    }\n",
       "\n",
       "    .dataframe tbody tr th {\n",
       "        vertical-align: top;\n",
       "    }\n",
       "\n",
       "    .dataframe thead th {\n",
       "        text-align: right;\n",
       "    }\n",
       "</style>\n",
       "<table border=\"1\" class=\"dataframe\">\n",
       "  <thead>\n",
       "    <tr style=\"text-align: right;\">\n",
       "      <th></th>\n",
       "      <th>Date_Time</th>\n",
       "      <th>date_</th>\n",
       "      <th>my_result</th>\n",
       "      <th>my_color</th>\n",
       "      <th>event</th>\n",
       "      <th>my_rating</th>\n",
       "      <th>...</th>\n",
       "      <th>t_ctrl_600+0</th>\n",
       "      <th>t_ctrl_600+5</th>\n",
       "      <th>time_control</th>\n",
       "      <th>day_of_week</th>\n",
       "      <th>hour_of_game</th>\n",
       "      <th>its_weekend</th>\n",
       "    </tr>\n",
       "  </thead>\n",
       "  <tbody>\n",
       "    <tr>\n",
       "      <th>0</th>\n",
       "      <td>2021-12-15 08:15:19</td>\n",
       "      <td>2021-12-15</td>\n",
       "      <td>0</td>\n",
       "      <td>0</td>\n",
       "      <td>0</td>\n",
       "      <td>2298</td>\n",
       "      <td>...</td>\n",
       "      <td>0</td>\n",
       "      <td>0</td>\n",
       "      <td>2</td>\n",
       "      <td>3</td>\n",
       "      <td>12</td>\n",
       "      <td>0</td>\n",
       "    </tr>\n",
       "    <tr>\n",
       "      <th>1</th>\n",
       "      <td>2021-12-15 08:12:19</td>\n",
       "      <td>2021-12-15</td>\n",
       "      <td>1</td>\n",
       "      <td>1</td>\n",
       "      <td>0</td>\n",
       "      <td>2291</td>\n",
       "      <td>...</td>\n",
       "      <td>0</td>\n",
       "      <td>0</td>\n",
       "      <td>2</td>\n",
       "      <td>3</td>\n",
       "      <td>12</td>\n",
       "      <td>0</td>\n",
       "    </tr>\n",
       "    <tr>\n",
       "      <th>2</th>\n",
       "      <td>2021-12-15 08:00:26</td>\n",
       "      <td>2021-12-15</td>\n",
       "      <td>0</td>\n",
       "      <td>0</td>\n",
       "      <td>0</td>\n",
       "      <td>2290</td>\n",
       "      <td>...</td>\n",
       "      <td>0</td>\n",
       "      <td>0</td>\n",
       "      <td>2</td>\n",
       "      <td>3</td>\n",
       "      <td>12</td>\n",
       "      <td>0</td>\n",
       "    </tr>\n",
       "    <tr>\n",
       "      <th>3</th>\n",
       "      <td>2021-12-14 18:47:54</td>\n",
       "      <td>2021-12-14</td>\n",
       "      <td>0</td>\n",
       "      <td>1</td>\n",
       "      <td>0</td>\n",
       "      <td>2296</td>\n",
       "      <td>...</td>\n",
       "      <td>0</td>\n",
       "      <td>0</td>\n",
       "      <td>2</td>\n",
       "      <td>2</td>\n",
       "      <td>22</td>\n",
       "      <td>0</td>\n",
       "    </tr>\n",
       "    <tr>\n",
       "      <th>4</th>\n",
       "      <td>2021-12-13 17:38:15</td>\n",
       "      <td>2021-12-13</td>\n",
       "      <td>0</td>\n",
       "      <td>0</td>\n",
       "      <td>0</td>\n",
       "      <td>2302</td>\n",
       "      <td>...</td>\n",
       "      <td>0</td>\n",
       "      <td>0</td>\n",
       "      <td>2</td>\n",
       "      <td>1</td>\n",
       "      <td>21</td>\n",
       "      <td>0</td>\n",
       "    </tr>\n",
       "  </tbody>\n",
       "</table>\n",
       "<p>5 rows × 24 columns</p>\n",
       "</div>"
      ],
      "text/plain": [
       "            Date_Time      date_  my_result  my_color  event  my_rating  ...  \\\n",
       "0 2021-12-15 08:15:19 2021-12-15          0         0      0       2298  ...   \n",
       "1 2021-12-15 08:12:19 2021-12-15          1         1      0       2291  ...   \n",
       "2 2021-12-15 08:00:26 2021-12-15          0         0      0       2290  ...   \n",
       "3 2021-12-14 18:47:54 2021-12-14          0         1      0       2296  ...   \n",
       "4 2021-12-13 17:38:15 2021-12-13          0         0      0       2302  ...   \n",
       "\n",
       "   t_ctrl_600+0  t_ctrl_600+5  time_control  day_of_week  hour_of_game  \\\n",
       "0             0             0             2            3            12   \n",
       "1             0             0             2            3            12   \n",
       "2             0             0             2            3            12   \n",
       "3             0             0             2            2            22   \n",
       "4             0             0             2            1            21   \n",
       "\n",
       "   its_weekend  \n",
       "0            0  \n",
       "1            0  \n",
       "2            0  \n",
       "3            0  \n",
       "4            0  \n",
       "\n",
       "[5 rows x 24 columns]"
      ]
     },
     "execution_count": 49,
     "metadata": {},
     "output_type": "execute_result"
    }
   ],
   "source": [
    "print('Размерность основного датафрейма:', chess_df.shape)\n",
    "chess_df.head()"
   ]
  },
  {
   "cell_type": "markdown",
   "metadata": {},
   "source": [
    "#### Создаю признак part_of_day - время дня, когда игралась партия и посмотрим, как я играю в разное время дня."
   ]
  },
  {
   "cell_type": "code",
   "execution_count": 50,
   "metadata": {},
   "outputs": [],
   "source": [
    "chess_df['part_of_day'] = chess_df.hour_of_game.replace([4, 5, 6, 7, 8, 9, 10, 11], 'morning') \\\n",
    "                                    .replace([12, 13, 14, 15, 16, 17, 18], 'afternoon') \\\n",
    "                                    .replace([19, 20, 21, 22, 23, 0, 1, 2, 3], 'evening')"
   ]
  },
  {
   "cell_type": "code",
   "execution_count": 51,
   "metadata": {},
   "outputs": [
    {
     "data": {
      "image/png": "[encoded data removed]",
      "text/plain": [
       "<Figure size 864x216 with 1 Axes>"
      ]
     },
     "metadata": {
      "needs_background": "light"
     },
     "output_type": "display_data"
    }
   ],
   "source": [
    "plt.figure(figsize=(12, 3))\n",
    "sns.barplot(data=chess_df.part_of_day.value_counts().to_frame().reset_index(), x='part_of_day', y='index')\n",
    "plt.title('В какое время дня я чаще всего играю')\n",
    "plt.grid(axis='x');"
   ]
  },
  {
   "cell_type": "code",
   "execution_count": 52,
   "metadata": {},
   "outputs": [
    {
     "data": {
      "image/png": "[encoded data removed]",
      "text/plain": [
       "<Figure size 864x216 with 1 Axes>"
      ]
     },
     "metadata": {
      "needs_background": "light"
     },
     "output_type": "display_data"
    }
   ],
   "source": [
    "c = chess_df[chess_df.its_weekend == 1].groupby('part_of_day').agg({'my_result': 'mean'}).reset_index().sort_values(by='my_result')\n",
    "c.my_result = c.my_result * 100\n",
    "c = c.rename(columns={'my_result': 'percent_of_wins'})\n",
    "plt.figure(figsize=(12, 3))\n",
    "plt.title('Процент побед в различный период времени в выходные')\n",
    "sns.barplot(x=c.percent_of_wins, y=c.part_of_day, orient='h');"
   ]
  },
  {
   "cell_type": "markdown",
   "metadata": {},
   "source": [
    "В выходные наиболее успешное время для меня - вечер"
   ]
  },
  {
   "cell_type": "code",
   "execution_count": 53,
   "metadata": {},
   "outputs": [
    {
     "data": {
      "image/png": "[encoded data removed]",
      "text/plain": [
       "<Figure size 864x216 with 1 Axes>"
      ]
     },
     "metadata": {
      "needs_background": "light"
     },
     "output_type": "display_data"
    }
   ],
   "source": [
    "d = chess_df[chess_df.its_weekend == 0].groupby('part_of_day').agg({'my_result': 'mean'}).reset_index().sort_values(by='my_result')\n",
    "d.my_result = d.my_result * 100\n",
    "d = d.rename(columns={'my_result': 'percent_of_wins'})\n",
    "plt.figure(figsize=(12, 3))\n",
    "plt.title('Процент побед по времени дня в будние дни')\n",
    "sns.barplot(x=d.percent_of_wins, y=d.part_of_day, orient='h');"
   ]
  },
  {
   "cell_type": "markdown",
   "metadata": {},
   "source": [
    "В рабочие дни ситуация немного другая. Вечер также саое успешное время дня. А вот после обеда статистика хуже, чем утром. В целом, разбиение на утро, день и вечер выглядит обоснованным, создаю переменную для дамми-кодирования"
   ]
  },
  {
   "cell_type": "markdown",
   "metadata": {},
   "source": [
    "#### Проанализировав полученные данные, я решил оставить данные part_of_day, только обработаю эту переменную dummy-кодированием, чтобы получить 3 категориальные переменные, в какое время я играл."
   ]
  },
  {
   "cell_type": "code",
   "execution_count": 54,
   "metadata": {},
   "outputs": [],
   "source": [
    "chess_df = pd.get_dummies(data=chess_df)"
   ]
  },
  {
   "cell_type": "code",
   "execution_count": 55,
   "metadata": {
    "scrolled": false
   },
   "outputs": [
    {
     "name": "stdout",
     "output_type": "stream",
     "text": [
      "Размерность основного датафрейма: (3690, 27)\n"
     ]
    },
    {
     "data": {
      "text/html": [
       "<div>\n",
       "<style scoped>\n",
       "    .dataframe tbody tr th:only-of-type {\n",
       "        vertical-align: middle;\n",
       "    }\n",
       "\n",
       "    .dataframe tbody tr th {\n",
       "        vertical-align: top;\n",
       "    }\n",
       "\n",
       "    .dataframe thead th {\n",
       "        text-align: right;\n",
       "    }\n",
       "</style>\n",
       "<table border=\"1\" class=\"dataframe\">\n",
       "  <thead>\n",
       "    <tr style=\"text-align: right;\">\n",
       "      <th></th>\n",
       "      <th>Date_Time</th>\n",
       "      <th>date_</th>\n",
       "      <th>my_result</th>\n",
       "      <th>my_color</th>\n",
       "      <th>event</th>\n",
       "      <th>my_rating</th>\n",
       "      <th>...</th>\n",
       "      <th>day_of_week</th>\n",
       "      <th>hour_of_game</th>\n",
       "      <th>its_weekend</th>\n",
       "      <th>part_of_day_afternoon</th>\n",
       "      <th>part_of_day_evening</th>\n",
       "      <th>part_of_day_morning</th>\n",
       "    </tr>\n",
       "  </thead>\n",
       "  <tbody>\n",
       "    <tr>\n",
       "      <th>0</th>\n",
       "      <td>2021-12-15 08:15:19</td>\n",
       "      <td>2021-12-15</td>\n",
       "      <td>0</td>\n",
       "      <td>0</td>\n",
       "      <td>0</td>\n",
       "      <td>2298</td>\n",
       "      <td>...</td>\n",
       "      <td>3</td>\n",
       "      <td>12</td>\n",
       "      <td>0</td>\n",
       "      <td>1</td>\n",
       "      <td>0</td>\n",
       "      <td>0</td>\n",
       "    </tr>\n",
       "    <tr>\n",
       "      <th>1</th>\n",
       "      <td>2021-12-15 08:12:19</td>\n",
       "      <td>2021-12-15</td>\n",
       "      <td>1</td>\n",
       "      <td>1</td>\n",
       "      <td>0</td>\n",
       "      <td>2291</td>\n",
       "      <td>...</td>\n",
       "      <td>3</td>\n",
       "      <td>12</td>\n",
       "      <td>0</td>\n",
       "      <td>1</td>\n",
       "      <td>0</td>\n",
       "      <td>0</td>\n",
       "    </tr>\n",
       "    <tr>\n",
       "      <th>2</th>\n",
       "      <td>2021-12-15 08:00:26</td>\n",
       "      <td>2021-12-15</td>\n",
       "      <td>0</td>\n",
       "      <td>0</td>\n",
       "      <td>0</td>\n",
       "      <td>2290</td>\n",
       "      <td>...</td>\n",
       "      <td>3</td>\n",
       "      <td>12</td>\n",
       "      <td>0</td>\n",
       "      <td>1</td>\n",
       "      <td>0</td>\n",
       "      <td>0</td>\n",
       "    </tr>\n",
       "    <tr>\n",
       "      <th>3</th>\n",
       "      <td>2021-12-14 18:47:54</td>\n",
       "      <td>2021-12-14</td>\n",
       "      <td>0</td>\n",
       "      <td>1</td>\n",
       "      <td>0</td>\n",
       "      <td>2296</td>\n",
       "      <td>...</td>\n",
       "      <td>2</td>\n",
       "      <td>22</td>\n",
       "      <td>0</td>\n",
       "      <td>0</td>\n",
       "      <td>1</td>\n",
       "      <td>0</td>\n",
       "    </tr>\n",
       "    <tr>\n",
       "      <th>4</th>\n",
       "      <td>2021-12-13 17:38:15</td>\n",
       "      <td>2021-12-13</td>\n",
       "      <td>0</td>\n",
       "      <td>0</td>\n",
       "      <td>0</td>\n",
       "      <td>2302</td>\n",
       "      <td>...</td>\n",
       "      <td>1</td>\n",
       "      <td>21</td>\n",
       "      <td>0</td>\n",
       "      <td>0</td>\n",
       "      <td>1</td>\n",
       "      <td>0</td>\n",
       "    </tr>\n",
       "  </tbody>\n",
       "</table>\n",
       "<p>5 rows × 27 columns</p>\n",
       "</div>"
      ],
      "text/plain": [
       "            Date_Time      date_  my_result  my_color  event  my_rating  ...  \\\n",
       "0 2021-12-15 08:15:19 2021-12-15          0         0      0       2298  ...   \n",
       "1 2021-12-15 08:12:19 2021-12-15          1         1      0       2291  ...   \n",
       "2 2021-12-15 08:00:26 2021-12-15          0         0      0       2290  ...   \n",
       "3 2021-12-14 18:47:54 2021-12-14          0         1      0       2296  ...   \n",
       "4 2021-12-13 17:38:15 2021-12-13          0         0      0       2302  ...   \n",
       "\n",
       "   day_of_week  hour_of_game  its_weekend  part_of_day_afternoon  \\\n",
       "0            3            12            0                      1   \n",
       "1            3            12            0                      1   \n",
       "2            3            12            0                      1   \n",
       "3            2            22            0                      0   \n",
       "4            1            21            0                      0   \n",
       "\n",
       "   part_of_day_evening  part_of_day_morning  \n",
       "0                    0                    0  \n",
       "1                    0                    0  \n",
       "2                    0                    0  \n",
       "3                    1                    0  \n",
       "4                    1                    0  \n",
       "\n",
       "[5 rows x 27 columns]"
      ]
     },
     "execution_count": 55,
     "metadata": {},
     "output_type": "execute_result"
    }
   ],
   "source": [
    "print('Размерность основного датафрейма:', chess_df.shape)\n",
    "chess_df.head()"
   ]
  },
  {
   "cell_type": "code",
   "execution_count": 56,
   "metadata": {},
   "outputs": [],
   "source": [
    "# chess_df.drop(columns=['hour_of_game', 'day_of_week'], inplace=True)"
   ]
  },
  {
   "cell_type": "markdown",
   "metadata": {},
   "source": [
    "#### Создаю переменные, которые содержат информацию: сколько партий я сыграл за последние 7 дней (last_7days_games) и какой процент побед в этих партиях (last_7days_win_rate)"
   ]
  },
  {
   "cell_type": "code",
   "execution_count": 57,
   "metadata": {},
   "outputs": [],
   "source": [
    "dated_X = chess_df.sort_values(by='Date_Time').set_index('date_') #создаю датафрейм с DateTime индексом\n",
    "#создаю датафрейм, где каждому дню соответствует, сколько партий я сыграл за последние 7 дней\n",
    "last_7d_stats = dated_X[['my_result']].resample('d').count().rolling(8, min_periods=1).sum() - dated_X[['my_result']].resample('d').count()\n",
    "my_wins = dated_X[['my_result']].loc[ dated_X['my_result'] == 1] #для подсчете моих побед\n",
    "#создаю датафрейм, где каждому дню соответствует, сколько партий я выиграл за последние 7 дней\n",
    "last_7d_wins = my_wins.resample('d').count().rolling(8, min_periods=1).sum() - my_wins.resample('d').count()\n",
    "#объединяю два датафрейма в один\n",
    "last_7d_stats = last_7d_stats.merge(last_7d_wins, left_index=True, right_index=True, how='inner')\n",
    "last_7d_stats = last_7d_stats.reset_index().rename(columns={'my_result_x': 'last_7days_games',\n",
    "                                                                 'my_result_y': 'last_7days_wins'})\n",
    "#далее подсчитываю процент выигранных партий за последние 7 дней - отношение кол-ва побед к кол-ву игр\n",
    "#для этого есть вспомогательная функция в библиотеке chess_lib - count_rate"
   ]
  },
  {
   "cell_type": "code",
   "execution_count": 58,
   "metadata": {
    "scrolled": false
   },
   "outputs": [
    {
     "name": "stdout",
     "output_type": "stream",
     "text": [
      "Размерность датафрейма статистики за 7 последних дней: (569, 4)\n"
     ]
    },
    {
     "data": {
      "text/html": [
       "<div>\n",
       "<style scoped>\n",
       "    .dataframe tbody tr th:only-of-type {\n",
       "        vertical-align: middle;\n",
       "    }\n",
       "\n",
       "    .dataframe tbody tr th {\n",
       "        vertical-align: top;\n",
       "    }\n",
       "\n",
       "    .dataframe thead th {\n",
       "        text-align: right;\n",
       "    }\n",
       "</style>\n",
       "<table border=\"1\" class=\"dataframe\">\n",
       "  <thead>\n",
       "    <tr style=\"text-align: right;\">\n",
       "      <th></th>\n",
       "      <th>date_</th>\n",
       "      <th>last_7days_games</th>\n",
       "      <th>last_7days_wins</th>\n",
       "      <th>last_7days_win_rate</th>\n",
       "    </tr>\n",
       "  </thead>\n",
       "  <tbody>\n",
       "    <tr>\n",
       "      <th>0</th>\n",
       "      <td>2020-05-26</td>\n",
       "      <td>0</td>\n",
       "      <td>0</td>\n",
       "      <td>0.000</td>\n",
       "    </tr>\n",
       "    <tr>\n",
       "      <th>1</th>\n",
       "      <td>2020-05-27</td>\n",
       "      <td>10</td>\n",
       "      <td>8</td>\n",
       "      <td>0.800</td>\n",
       "    </tr>\n",
       "    <tr>\n",
       "      <th>2</th>\n",
       "      <td>2020-05-28</td>\n",
       "      <td>15</td>\n",
       "      <td>10</td>\n",
       "      <td>0.667</td>\n",
       "    </tr>\n",
       "    <tr>\n",
       "      <th>3</th>\n",
       "      <td>2020-05-29</td>\n",
       "      <td>18</td>\n",
       "      <td>13</td>\n",
       "      <td>0.722</td>\n",
       "    </tr>\n",
       "    <tr>\n",
       "      <th>4</th>\n",
       "      <td>2020-05-30</td>\n",
       "      <td>31</td>\n",
       "      <td>20</td>\n",
       "      <td>0.645</td>\n",
       "    </tr>\n",
       "  </tbody>\n",
       "</table>\n",
       "</div>"
      ],
      "text/plain": [
       "       date_  last_7days_games  last_7days_wins  last_7days_win_rate\n",
       "0 2020-05-26                 0                0                0.000\n",
       "1 2020-05-27                10                8                0.800\n",
       "2 2020-05-28                15               10                0.667\n",
       "3 2020-05-29                18               13                0.722\n",
       "4 2020-05-30                31               20                0.645"
      ]
     },
     "execution_count": 58,
     "metadata": {},
     "output_type": "execute_result"
    }
   ],
   "source": [
    "last_7d_stats['last_7days_win_rate'] = count_rate(last_7d_stats.last_7days_wins, last_7d_stats.last_7days_games).astype('float32')\n",
    "last_7d_stats[['last_7days_games', 'last_7days_wins']] = last_7d_stats[['last_7days_games', 'last_7days_wins']].astype('uint16')\n",
    "print('Размерность датафрейма статистики за 7 последних дней:', last_7d_stats.shape)\n",
    "last_7d_stats.head()"
   ]
  },
  {
   "cell_type": "markdown",
   "metadata": {},
   "source": [
    "Данные статистики за последние 7 дней для каждой игры получены. Соединяем эти данные с основной таблицей"
   ]
  },
  {
   "cell_type": "code",
   "execution_count": 59,
   "metadata": {},
   "outputs": [],
   "source": [
    "chess_df = pd.merge(left=chess_df, right=last_7d_stats, on='date_', how='inner')"
   ]
  },
  {
   "cell_type": "code",
   "execution_count": 60,
   "metadata": {
    "scrolled": false
   },
   "outputs": [
    {
     "name": "stdout",
     "output_type": "stream",
     "text": [
      "Размерность основного датафрейма: (3690, 30)\n"
     ]
    },
    {
     "data": {
      "text/html": [
       "<div>\n",
       "<style scoped>\n",
       "    .dataframe tbody tr th:only-of-type {\n",
       "        vertical-align: middle;\n",
       "    }\n",
       "\n",
       "    .dataframe tbody tr th {\n",
       "        vertical-align: top;\n",
       "    }\n",
       "\n",
       "    .dataframe thead th {\n",
       "        text-align: right;\n",
       "    }\n",
       "</style>\n",
       "<table border=\"1\" class=\"dataframe\">\n",
       "  <thead>\n",
       "    <tr style=\"text-align: right;\">\n",
       "      <th></th>\n",
       "      <th>Date_Time</th>\n",
       "      <th>date_</th>\n",
       "      <th>my_result</th>\n",
       "      <th>my_color</th>\n",
       "      <th>event</th>\n",
       "      <th>my_rating</th>\n",
       "      <th>...</th>\n",
       "      <th>part_of_day_afternoon</th>\n",
       "      <th>part_of_day_evening</th>\n",
       "      <th>part_of_day_morning</th>\n",
       "      <th>last_7days_games</th>\n",
       "      <th>last_7days_wins</th>\n",
       "      <th>last_7days_win_rate</th>\n",
       "    </tr>\n",
       "  </thead>\n",
       "  <tbody>\n",
       "    <tr>\n",
       "      <th>0</th>\n",
       "      <td>2021-12-15 08:15:19</td>\n",
       "      <td>2021-12-15</td>\n",
       "      <td>0</td>\n",
       "      <td>0</td>\n",
       "      <td>0</td>\n",
       "      <td>2298</td>\n",
       "      <td>...</td>\n",
       "      <td>1</td>\n",
       "      <td>0</td>\n",
       "      <td>0</td>\n",
       "      <td>13</td>\n",
       "      <td>9</td>\n",
       "      <td>0.692</td>\n",
       "    </tr>\n",
       "    <tr>\n",
       "      <th>1</th>\n",
       "      <td>2021-12-15 08:12:19</td>\n",
       "      <td>2021-12-15</td>\n",
       "      <td>1</td>\n",
       "      <td>1</td>\n",
       "      <td>0</td>\n",
       "      <td>2291</td>\n",
       "      <td>...</td>\n",
       "      <td>1</td>\n",
       "      <td>0</td>\n",
       "      <td>0</td>\n",
       "      <td>13</td>\n",
       "      <td>9</td>\n",
       "      <td>0.692</td>\n",
       "    </tr>\n",
       "    <tr>\n",
       "      <th>2</th>\n",
       "      <td>2021-12-15 08:00:26</td>\n",
       "      <td>2021-12-15</td>\n",
       "      <td>0</td>\n",
       "      <td>0</td>\n",
       "      <td>0</td>\n",
       "      <td>2290</td>\n",
       "      <td>...</td>\n",
       "      <td>1</td>\n",
       "      <td>0</td>\n",
       "      <td>0</td>\n",
       "      <td>13</td>\n",
       "      <td>9</td>\n",
       "      <td>0.692</td>\n",
       "    </tr>\n",
       "    <tr>\n",
       "      <th>3</th>\n",
       "      <td>2021-12-14 18:47:54</td>\n",
       "      <td>2021-12-14</td>\n",
       "      <td>0</td>\n",
       "      <td>1</td>\n",
       "      <td>0</td>\n",
       "      <td>2296</td>\n",
       "      <td>...</td>\n",
       "      <td>0</td>\n",
       "      <td>1</td>\n",
       "      <td>0</td>\n",
       "      <td>18</td>\n",
       "      <td>10</td>\n",
       "      <td>0.556</td>\n",
       "    </tr>\n",
       "    <tr>\n",
       "      <th>4</th>\n",
       "      <td>2021-12-13 17:38:15</td>\n",
       "      <td>2021-12-13</td>\n",
       "      <td>0</td>\n",
       "      <td>0</td>\n",
       "      <td>0</td>\n",
       "      <td>2302</td>\n",
       "      <td>...</td>\n",
       "      <td>0</td>\n",
       "      <td>1</td>\n",
       "      <td>0</td>\n",
       "      <td>21</td>\n",
       "      <td>11</td>\n",
       "      <td>0.524</td>\n",
       "    </tr>\n",
       "  </tbody>\n",
       "</table>\n",
       "<p>5 rows × 30 columns</p>\n",
       "</div>"
      ],
      "text/plain": [
       "            Date_Time      date_  my_result  my_color  event  my_rating  ...  \\\n",
       "0 2021-12-15 08:15:19 2021-12-15          0         0      0       2298  ...   \n",
       "1 2021-12-15 08:12:19 2021-12-15          1         1      0       2291  ...   \n",
       "2 2021-12-15 08:00:26 2021-12-15          0         0      0       2290  ...   \n",
       "3 2021-12-14 18:47:54 2021-12-14          0         1      0       2296  ...   \n",
       "4 2021-12-13 17:38:15 2021-12-13          0         0      0       2302  ...   \n",
       "\n",
       "   part_of_day_afternoon  part_of_day_evening  part_of_day_morning  \\\n",
       "0                      1                    0                    0   \n",
       "1                      1                    0                    0   \n",
       "2                      1                    0                    0   \n",
       "3                      0                    1                    0   \n",
       "4                      0                    1                    0   \n",
       "\n",
       "   last_7days_games  last_7days_wins  last_7days_win_rate  \n",
       "0                13                9                0.692  \n",
       "1                13                9                0.692  \n",
       "2                13                9                0.692  \n",
       "3                18               10                0.556  \n",
       "4                21               11                0.524  \n",
       "\n",
       "[5 rows x 30 columns]"
      ]
     },
     "execution_count": 60,
     "metadata": {},
     "output_type": "execute_result"
    }
   ],
   "source": [
    "print('Размерность основного датафрейма:', chess_df.shape)\n",
    "chess_df.head()"
   ]
  },
  {
   "cell_type": "markdown",
   "metadata": {},
   "source": [
    "#### Создаю переменные, содержащие информацию о моей статистике за предыдущие партии, которые я сыграл в текущий день. count_today_games - сколько партий выграл сегодня до этого, win_rate_today_games - процент побед в текущий день"
   ]
  },
  {
   "cell_type": "code",
   "execution_count": 61,
   "metadata": {},
   "outputs": [],
   "source": [
    "dd = chess_df[['Date_Time', 'date_', 'my_result']] #промежуточный датафрейм\n",
    "list_count_today_games, list_count_today_wins= [], []\n",
    "for i, row in dd.iterrows():\n",
    "    #print(row)\n",
    "    subseries_games = dd[['Date_Time']].loc[(dd['Date_Time'] < row[0]) & (dd['date_'] == row[1])] #серия с играми за день\n",
    "    subseries_wins = dd[['Date_Time']].loc[(dd['Date_Time'] < row[0]) & (dd['date_'] == row[1]) & dd['my_result'] == 1] #с победами\n",
    "    list_count_today_games.append(subseries_games.shape[0]) #считаю количество игр за каждый день и добавляю в список\n",
    "    list_count_today_wins.append(subseries_wins.shape[0]) #аналогично для побед\n",
    "df_count_today = pd.DataFrame(data=np.array((list_count_today_games, list_count_today_wins)).T,\n",
    "                             columns=['count_today_games', 'win_today_games']) #создаю датафрейм со статистикой"
   ]
  },
  {
   "cell_type": "code",
   "execution_count": 62,
   "metadata": {
    "scrolled": false
   },
   "outputs": [
    {
     "name": "stdout",
     "output_type": "stream",
     "text": [
      "Размерность датафрейма статистики за текущий день: (3690, 3)\n"
     ]
    },
    {
     "data": {
      "text/html": [
       "<div>\n",
       "<style scoped>\n",
       "    .dataframe tbody tr th:only-of-type {\n",
       "        vertical-align: middle;\n",
       "    }\n",
       "\n",
       "    .dataframe tbody tr th {\n",
       "        vertical-align: top;\n",
       "    }\n",
       "\n",
       "    .dataframe thead th {\n",
       "        text-align: right;\n",
       "    }\n",
       "</style>\n",
       "<table border=\"1\" class=\"dataframe\">\n",
       "  <thead>\n",
       "    <tr style=\"text-align: right;\">\n",
       "      <th></th>\n",
       "      <th>count_today_games</th>\n",
       "      <th>win_today_games</th>\n",
       "      <th>win_rate_today_games</th>\n",
       "    </tr>\n",
       "  </thead>\n",
       "  <tbody>\n",
       "    <tr>\n",
       "      <th>0</th>\n",
       "      <td>2</td>\n",
       "      <td>1</td>\n",
       "      <td>0.500</td>\n",
       "    </tr>\n",
       "    <tr>\n",
       "      <th>1</th>\n",
       "      <td>1</td>\n",
       "      <td>0</td>\n",
       "      <td>0.000</td>\n",
       "    </tr>\n",
       "    <tr>\n",
       "      <th>2</th>\n",
       "      <td>0</td>\n",
       "      <td>0</td>\n",
       "      <td>0.000</td>\n",
       "    </tr>\n",
       "    <tr>\n",
       "      <th>3</th>\n",
       "      <td>0</td>\n",
       "      <td>0</td>\n",
       "      <td>0.000</td>\n",
       "    </tr>\n",
       "    <tr>\n",
       "      <th>4</th>\n",
       "      <td>0</td>\n",
       "      <td>0</td>\n",
       "      <td>0.000</td>\n",
       "    </tr>\n",
       "  </tbody>\n",
       "</table>\n",
       "</div>"
      ],
      "text/plain": [
       "   count_today_games  win_today_games  win_rate_today_games\n",
       "0                  2                1                 0.500\n",
       "1                  1                0                 0.000\n",
       "2                  0                0                 0.000\n",
       "3                  0                0                 0.000\n",
       "4                  0                0                 0.000"
      ]
     },
     "execution_count": 62,
     "metadata": {},
     "output_type": "execute_result"
    }
   ],
   "source": [
    "df_count_today['win_rate_today_games'] = count_rate(df_count_today.win_today_games, df_count_today.count_today_games).astype('float32')\n",
    "df_count_today[['count_today_games', 'win_today_games']] = df_count_today[['count_today_games', 'win_today_games']].astype('uint16')\n",
    "print('Размерность датафрейма статистики за текущий день:', df_count_today.shape)\n",
    "df_count_today.head()"
   ]
  },
  {
   "cell_type": "markdown",
   "metadata": {},
   "source": [
    "# Создать переменную разность между количеством побед и количеством поражений за неделю и за один день"
   ]
  },
  {
   "cell_type": "markdown",
   "metadata": {},
   "source": [
    "Датафрейм со статистикой за текущий день для каждой партии создан. Объединяем его с основным датафреймом!"
   ]
  },
  {
   "cell_type": "code",
   "execution_count": 63,
   "metadata": {},
   "outputs": [],
   "source": [
    "chess_df = pd.merge(left=chess_df, right=df_count_today, left_index=True, right_index=True, how='inner')"
   ]
  },
  {
   "cell_type": "code",
   "execution_count": 64,
   "metadata": {},
   "outputs": [
    {
     "name": "stdout",
     "output_type": "stream",
     "text": [
      "Размерность основного датафрейма: (3690, 33)\n"
     ]
    },
    {
     "data": {
      "text/html": [
       "<div>\n",
       "<style scoped>\n",
       "    .dataframe tbody tr th:only-of-type {\n",
       "        vertical-align: middle;\n",
       "    }\n",
       "\n",
       "    .dataframe tbody tr th {\n",
       "        vertical-align: top;\n",
       "    }\n",
       "\n",
       "    .dataframe thead th {\n",
       "        text-align: right;\n",
       "    }\n",
       "</style>\n",
       "<table border=\"1\" class=\"dataframe\">\n",
       "  <thead>\n",
       "    <tr style=\"text-align: right;\">\n",
       "      <th></th>\n",
       "      <th>Date_Time</th>\n",
       "      <th>date_</th>\n",
       "      <th>my_result</th>\n",
       "      <th>my_color</th>\n",
       "      <th>event</th>\n",
       "      <th>my_rating</th>\n",
       "      <th>...</th>\n",
       "      <th>last_7days_games</th>\n",
       "      <th>last_7days_wins</th>\n",
       "      <th>last_7days_win_rate</th>\n",
       "      <th>count_today_games</th>\n",
       "      <th>win_today_games</th>\n",
       "      <th>win_rate_today_games</th>\n",
       "    </tr>\n",
       "  </thead>\n",
       "  <tbody>\n",
       "    <tr>\n",
       "      <th>0</th>\n",
       "      <td>2021-12-15 08:15:19</td>\n",
       "      <td>2021-12-15</td>\n",
       "      <td>0</td>\n",
       "      <td>0</td>\n",
       "      <td>0</td>\n",
       "      <td>2298</td>\n",
       "      <td>...</td>\n",
       "      <td>13</td>\n",
       "      <td>9</td>\n",
       "      <td>0.692</td>\n",
       "      <td>2</td>\n",
       "      <td>1</td>\n",
       "      <td>0.500</td>\n",
       "    </tr>\n",
       "    <tr>\n",
       "      <th>1</th>\n",
       "      <td>2021-12-15 08:12:19</td>\n",
       "      <td>2021-12-15</td>\n",
       "      <td>1</td>\n",
       "      <td>1</td>\n",
       "      <td>0</td>\n",
       "      <td>2291</td>\n",
       "      <td>...</td>\n",
       "      <td>13</td>\n",
       "      <td>9</td>\n",
       "      <td>0.692</td>\n",
       "      <td>1</td>\n",
       "      <td>0</td>\n",
       "      <td>0.000</td>\n",
       "    </tr>\n",
       "    <tr>\n",
       "      <th>2</th>\n",
       "      <td>2021-12-15 08:00:26</td>\n",
       "      <td>2021-12-15</td>\n",
       "      <td>0</td>\n",
       "      <td>0</td>\n",
       "      <td>0</td>\n",
       "      <td>2290</td>\n",
       "      <td>...</td>\n",
       "      <td>13</td>\n",
       "      <td>9</td>\n",
       "      <td>0.692</td>\n",
       "      <td>0</td>\n",
       "      <td>0</td>\n",
       "      <td>0.000</td>\n",
       "    </tr>\n",
       "    <tr>\n",
       "      <th>3</th>\n",
       "      <td>2021-12-14 18:47:54</td>\n",
       "      <td>2021-12-14</td>\n",
       "      <td>0</td>\n",
       "      <td>1</td>\n",
       "      <td>0</td>\n",
       "      <td>2296</td>\n",
       "      <td>...</td>\n",
       "      <td>18</td>\n",
       "      <td>10</td>\n",
       "      <td>0.556</td>\n",
       "      <td>0</td>\n",
       "      <td>0</td>\n",
       "      <td>0.000</td>\n",
       "    </tr>\n",
       "    <tr>\n",
       "      <th>4</th>\n",
       "      <td>2021-12-13 17:38:15</td>\n",
       "      <td>2021-12-13</td>\n",
       "      <td>0</td>\n",
       "      <td>0</td>\n",
       "      <td>0</td>\n",
       "      <td>2302</td>\n",
       "      <td>...</td>\n",
       "      <td>21</td>\n",
       "      <td>11</td>\n",
       "      <td>0.524</td>\n",
       "      <td>0</td>\n",
       "      <td>0</td>\n",
       "      <td>0.000</td>\n",
       "    </tr>\n",
       "  </tbody>\n",
       "</table>\n",
       "<p>5 rows × 33 columns</p>\n",
       "</div>"
      ],
      "text/plain": [
       "            Date_Time      date_  my_result  my_color  event  my_rating  ...  \\\n",
       "0 2021-12-15 08:15:19 2021-12-15          0         0      0       2298  ...   \n",
       "1 2021-12-15 08:12:19 2021-12-15          1         1      0       2291  ...   \n",
       "2 2021-12-15 08:00:26 2021-12-15          0         0      0       2290  ...   \n",
       "3 2021-12-14 18:47:54 2021-12-14          0         1      0       2296  ...   \n",
       "4 2021-12-13 17:38:15 2021-12-13          0         0      0       2302  ...   \n",
       "\n",
       "   last_7days_games  last_7days_wins  last_7days_win_rate  count_today_games  \\\n",
       "0                13                9                0.692                  2   \n",
       "1                13                9                0.692                  1   \n",
       "2                13                9                0.692                  0   \n",
       "3                18               10                0.556                  0   \n",
       "4                21               11                0.524                  0   \n",
       "\n",
       "   win_today_games  win_rate_today_games  \n",
       "0                1                 0.500  \n",
       "1                0                 0.000  \n",
       "2                0                 0.000  \n",
       "3                0                 0.000  \n",
       "4                0                 0.000  \n",
       "\n",
       "[5 rows x 33 columns]"
      ]
     },
     "execution_count": 64,
     "metadata": {},
     "output_type": "execute_result"
    }
   ],
   "source": [
    "print('Размерность основного датафрейма:', chess_df.shape)\n",
    "chess_df.head()"
   ]
  },
  {
   "cell_type": "markdown",
   "metadata": {},
   "source": [
    "#### Удаляю из набора данных уже не нужные признаки времени Date_Time и date_"
   ]
  },
  {
   "cell_type": "code",
   "execution_count": 65,
   "metadata": {},
   "outputs": [],
   "source": [
    "chess_df.drop(columns=['Date_Time', 'date_'], inplace=True)"
   ]
  },
  {
   "cell_type": "code",
   "execution_count": 66,
   "metadata": {},
   "outputs": [
    {
     "name": "stdout",
     "output_type": "stream",
     "text": [
      "Размерность основного датафрейма: (3690, 31)\n"
     ]
    },
    {
     "data": {
      "text/html": [
       "<div>\n",
       "<style scoped>\n",
       "    .dataframe tbody tr th:only-of-type {\n",
       "        vertical-align: middle;\n",
       "    }\n",
       "\n",
       "    .dataframe tbody tr th {\n",
       "        vertical-align: top;\n",
       "    }\n",
       "\n",
       "    .dataframe thead th {\n",
       "        text-align: right;\n",
       "    }\n",
       "</style>\n",
       "<table border=\"1\" class=\"dataframe\">\n",
       "  <thead>\n",
       "    <tr style=\"text-align: right;\">\n",
       "      <th></th>\n",
       "      <th>my_result</th>\n",
       "      <th>my_color</th>\n",
       "      <th>event</th>\n",
       "      <th>my_rating</th>\n",
       "      <th>rating_diff</th>\n",
       "      <th>opp_rating</th>\n",
       "      <th>...</th>\n",
       "      <th>last_7days_games</th>\n",
       "      <th>last_7days_wins</th>\n",
       "      <th>last_7days_win_rate</th>\n",
       "      <th>count_today_games</th>\n",
       "      <th>win_today_games</th>\n",
       "      <th>win_rate_today_games</th>\n",
       "    </tr>\n",
       "  </thead>\n",
       "  <tbody>\n",
       "    <tr>\n",
       "      <th>0</th>\n",
       "      <td>0</td>\n",
       "      <td>0</td>\n",
       "      <td>0</td>\n",
       "      <td>2298</td>\n",
       "      <td>17</td>\n",
       "      <td>2281</td>\n",
       "      <td>...</td>\n",
       "      <td>13</td>\n",
       "      <td>9</td>\n",
       "      <td>0.692</td>\n",
       "      <td>2</td>\n",
       "      <td>1</td>\n",
       "      <td>0.500</td>\n",
       "    </tr>\n",
       "    <tr>\n",
       "      <th>1</th>\n",
       "      <td>1</td>\n",
       "      <td>1</td>\n",
       "      <td>0</td>\n",
       "      <td>2291</td>\n",
       "      <td>-56</td>\n",
       "      <td>2347</td>\n",
       "      <td>...</td>\n",
       "      <td>13</td>\n",
       "      <td>9</td>\n",
       "      <td>0.692</td>\n",
       "      <td>1</td>\n",
       "      <td>0</td>\n",
       "      <td>0.000</td>\n",
       "    </tr>\n",
       "    <tr>\n",
       "      <th>2</th>\n",
       "      <td>0</td>\n",
       "      <td>0</td>\n",
       "      <td>0</td>\n",
       "      <td>2290</td>\n",
       "      <td>-55</td>\n",
       "      <td>2345</td>\n",
       "      <td>...</td>\n",
       "      <td>13</td>\n",
       "      <td>9</td>\n",
       "      <td>0.692</td>\n",
       "      <td>0</td>\n",
       "      <td>0</td>\n",
       "      <td>0.000</td>\n",
       "    </tr>\n",
       "    <tr>\n",
       "      <th>3</th>\n",
       "      <td>0</td>\n",
       "      <td>1</td>\n",
       "      <td>0</td>\n",
       "      <td>2296</td>\n",
       "      <td>6</td>\n",
       "      <td>2290</td>\n",
       "      <td>...</td>\n",
       "      <td>18</td>\n",
       "      <td>10</td>\n",
       "      <td>0.556</td>\n",
       "      <td>0</td>\n",
       "      <td>0</td>\n",
       "      <td>0.000</td>\n",
       "    </tr>\n",
       "    <tr>\n",
       "      <th>4</th>\n",
       "      <td>0</td>\n",
       "      <td>0</td>\n",
       "      <td>0</td>\n",
       "      <td>2302</td>\n",
       "      <td>52</td>\n",
       "      <td>2250</td>\n",
       "      <td>...</td>\n",
       "      <td>21</td>\n",
       "      <td>11</td>\n",
       "      <td>0.524</td>\n",
       "      <td>0</td>\n",
       "      <td>0</td>\n",
       "      <td>0.000</td>\n",
       "    </tr>\n",
       "  </tbody>\n",
       "</table>\n",
       "<p>5 rows × 31 columns</p>\n",
       "</div>"
      ],
      "text/plain": [
       "   my_result  my_color  event  my_rating  rating_diff  opp_rating  ...  \\\n",
       "0          0         0      0       2298           17        2281  ...   \n",
       "1          1         1      0       2291          -56        2347  ...   \n",
       "2          0         0      0       2290          -55        2345  ...   \n",
       "3          0         1      0       2296            6        2290  ...   \n",
       "4          0         0      0       2302           52        2250  ...   \n",
       "\n",
       "   last_7days_games  last_7days_wins  last_7days_win_rate  count_today_games  \\\n",
       "0                13                9                0.692                  2   \n",
       "1                13                9                0.692                  1   \n",
       "2                13                9                0.692                  0   \n",
       "3                18               10                0.556                  0   \n",
       "4                21               11                0.524                  0   \n",
       "\n",
       "   win_today_games  win_rate_today_games  \n",
       "0                1                 0.500  \n",
       "1                0                 0.000  \n",
       "2                0                 0.000  \n",
       "3                0                 0.000  \n",
       "4                0                 0.000  \n",
       "\n",
       "[5 rows x 31 columns]"
      ]
     },
     "execution_count": 66,
     "metadata": {},
     "output_type": "execute_result"
    }
   ],
   "source": [
    "print('Размерность основного датафрейма:', chess_df.shape)\n",
    "chess_df.head()"
   ]
  },
  {
   "cell_type": "markdown",
   "metadata": {},
   "source": [
    "#### Анализ численных переменных (numeric variables)"
   ]
  },
  {
   "cell_type": "code",
   "execution_count": 67,
   "metadata": {},
   "outputs": [
    {
     "name": "stdout",
     "output_type": "stream",
     "text": [
      "В датасете всего 9 численных переменных\n"
     ]
    }
   ],
   "source": [
    "numeric = ['my_rating', 'rating_diff', 'opp_rating', 'last_7days_games', 'last_7days_wins', 'last_7days_win_rate',\\\n",
    "           'count_today_games', 'win_today_games', 'win_rate_today_games']\n",
    "print('В датасете всего %d численных переменных' % len(numeric))"
   ]
  },
  {
   "cell_type": "code",
   "execution_count": 68,
   "metadata": {},
   "outputs": [
    {
     "data": {
      "image/png": "[encoded data removed]",
      "text/plain": [
       "<Figure size 432x1080 with 9 Axes>"
      ]
     },
     "metadata": {
      "needs_background": "light"
     },
     "output_type": "display_data"
    }
   ],
   "source": [
    "f = pd.melt(chess_df, value_vars=numeric)\n",
    "g = sns.FacetGrid(f, col=\"variable\",  col_wrap=2, sharex=False, sharey=False)\n",
    "g = g.map(sns.distplot, \"value\")"
   ]
  },
  {
   "cell_type": "code",
   "execution_count": 87,
   "metadata": {},
   "outputs": [
    {
     "data": {
      "image/png": "[encoded data removed]",
      "text/plain": [
       "<Figure size 864x360 with 2 Axes>"
      ]
     },
     "metadata": {
      "needs_background": "light"
     },
     "output_type": "display_data"
    }
   ],
   "source": [
    "plt.figure(figsize=(12, 5))\n",
    "g = sns.heatmap(chess_df[numeric].corr(), annot=True, cmap=plt.cm.Blues)\n",
    "g.xaxis.set_ticks_position('top')\n",
    "g.xaxis.set_tick_params(rotation=90);"
   ]
  },
  {
   "cell_type": "markdown",
   "metadata": {},
   "source": [
    "#### Преобразования, которые я бы хотел применить к некоторым переменным:"
   ]
  },
  {
   "cell_type": "code",
   "execution_count": 76,
   "metadata": {},
   "outputs": [
    {
     "data": {
      "image/png": "[encoded data removed]",
      "text/plain": [
       "<Figure size 432x288 with 1 Axes>"
      ]
     },
     "metadata": {
      "needs_background": "light"
     },
     "output_type": "display_data"
    }
   ],
   "source": [
    "sns.distplot((chess_df['my_rating'] / chess_df['opp_rating']), kde=False, fit=norm);"
   ]
  },
  {
   "cell_type": "code",
   "execution_count": 77,
   "metadata": {},
   "outputs": [
    {
     "data": {
      "image/png": "[encoded data removed]",
      "text/plain": [
       "<Figure size 432x288 with 1 Axes>"
      ]
     },
     "metadata": {
      "needs_background": "light"
     },
     "output_type": "display_data"
    }
   ],
   "source": [
    "sns.distplot(np.log(chess_df['my_rating'] / chess_df['opp_rating']), kde=False, fit=norm);"
   ]
  },
  {
   "cell_type": "code",
   "execution_count": 85,
   "metadata": {},
   "outputs": [
    {
     "data": {
      "image/png": "[encoded data removed]",
      "text/plain": [
       "<Figure size 432x288 with 1 Axes>"
      ]
     },
     "metadata": {
      "needs_background": "light"
     },
     "output_type": "display_data"
    }
   ],
   "source": [
    "sns.distplot(np.power(chess_df['my_rating'] / chess_df['opp_rating'], 2), kde=False, fit=norm);"
   ]
  },
  {
   "cell_type": "code",
   "execution_count": 70,
   "metadata": {},
   "outputs": [
    {
     "data": {
      "image/png": "[encoded data removed]",
      "text/plain": [
       "<Figure size 432x288 with 1 Axes>"
      ]
     },
     "metadata": {
      "needs_background": "light"
     },
     "output_type": "display_data"
    }
   ],
   "source": [
    "sns.distplot(np.log1p(chess_df['last_7days_win_rate']), kde=False, fit=norm);"
   ]
  },
  {
   "cell_type": "code",
   "execution_count": 71,
   "metadata": {},
   "outputs": [
    {
     "data": {
      "image/png": "[encoded data removed]",
      "text/plain": [
       "<Figure size 432x288 with 1 Axes>"
      ]
     },
     "metadata": {
      "needs_background": "light"
     },
     "output_type": "display_data"
    }
   ],
   "source": [
    "sns.distplot((chess_df['rating_diff'] * np.abs(chess_df['rating_diff'])), kde=False, fit=norm);"
   ]
  },
  {
   "cell_type": "code",
   "execution_count": 72,
   "metadata": {},
   "outputs": [
    {
     "data": {
      "image/png": "[encoded data removed]",
      "text/plain": [
       "<Figure size 432x288 with 1 Axes>"
      ]
     },
     "metadata": {
      "needs_background": "light"
     },
     "output_type": "display_data"
    }
   ],
   "source": [
    "sns.distplot(np.power(chess_df['last_7days_win_rate'], 2), kde=False, fit=norm);"
   ]
  },
  {
   "cell_type": "code",
   "execution_count": 73,
   "metadata": {},
   "outputs": [
    {
     "data": {
      "image/png": "[encoded data removed]",
      "text/plain": [
       "<Figure size 432x288 with 1 Axes>"
      ]
     },
     "metadata": {
      "needs_background": "light"
     },
     "output_type": "display_data"
    }
   ],
   "source": [
    "sns.distplot(np.power(chess_df['win_rate_today_games'], 2), kde=False, fit=norm);"
   ]
  },
  {
   "cell_type": "markdown",
   "metadata": {},
   "source": [
    "#### Добавляю новые переменные в таблицу"
   ]
  },
  {
   "cell_type": "code",
   "execution_count": 88,
   "metadata": {},
   "outputs": [],
   "source": [
    "chess_df['me_opp_ratio'] = chess_df['my_rating'] / chess_df['opp_rating']\n",
    "chess_df['log_me_opp_ratio'] = np.log(chess_df['me_opp_ratio'])\n",
    "chess_df['quad_me_opp_ratio'] = np.power(chess_df['me_opp_ratio'], 2)\n",
    "chess_df['quad_rating_diff'] = chess_df['rating_diff'] * np.abs(chess_df['rating_diff'])\n",
    "chess_df['quad_last_7days_win_rate'] = np.power(chess_df['last_7days_win_rate'], 2)\n",
    "chess_df['quad_win_rate_today_games'] = np.power(chess_df['win_rate_today_games'], 2)"
   ]
  },
  {
   "cell_type": "code",
   "execution_count": 89,
   "metadata": {},
   "outputs": [
    {
     "data": {
      "text/html": [
       "<div>\n",
       "<style scoped>\n",
       "    .dataframe tbody tr th:only-of-type {\n",
       "        vertical-align: middle;\n",
       "    }\n",
       "\n",
       "    .dataframe tbody tr th {\n",
       "        vertical-align: top;\n",
       "    }\n",
       "\n",
       "    .dataframe thead th {\n",
       "        text-align: right;\n",
       "    }\n",
       "</style>\n",
       "<table border=\"1\" class=\"dataframe\">\n",
       "  <thead>\n",
       "    <tr style=\"text-align: right;\">\n",
       "      <th></th>\n",
       "      <th>my_result</th>\n",
       "      <th>my_color</th>\n",
       "      <th>event</th>\n",
       "      <th>my_rating</th>\n",
       "      <th>rating_diff</th>\n",
       "      <th>opp_rating</th>\n",
       "      <th>...</th>\n",
       "      <th>me_opp_ratio</th>\n",
       "      <th>log_me_opp_ratio</th>\n",
       "      <th>quad_me_opp_ratio</th>\n",
       "      <th>quad_rating_diff</th>\n",
       "      <th>quad_last_7days_win_rate</th>\n",
       "      <th>quad_win_rate_today_games</th>\n",
       "    </tr>\n",
       "  </thead>\n",
       "  <tbody>\n",
       "    <tr>\n",
       "      <th>count</th>\n",
       "      <td>3690.000</td>\n",
       "      <td>3690.000</td>\n",
       "      <td>3690.000</td>\n",
       "      <td>3690.000</td>\n",
       "      <td>3690.000</td>\n",
       "      <td>3690.000</td>\n",
       "      <td>...</td>\n",
       "      <td>3690.000</td>\n",
       "      <td>3690.000</td>\n",
       "      <td>3690.000</td>\n",
       "      <td>3690.000</td>\n",
       "      <td>3690.000</td>\n",
       "      <td>3690.000</td>\n",
       "    </tr>\n",
       "    <tr>\n",
       "      <th>mean</th>\n",
       "      <td>0.562</td>\n",
       "      <td>0.497</td>\n",
       "      <td>0.324</td>\n",
       "      <td>2244.528</td>\n",
       "      <td>92.671</td>\n",
       "      <td>2151.857</td>\n",
       "      <td>...</td>\n",
       "      <td>1.055</td>\n",
       "      <td>0.047</td>\n",
       "      <td>1.131</td>\n",
       "      <td>1049.824</td>\n",
       "      <td>0.321</td>\n",
       "      <td>0.363</td>\n",
       "    </tr>\n",
       "    <tr>\n",
       "      <th>std</th>\n",
       "      <td>0.496</td>\n",
       "      <td>0.500</td>\n",
       "      <td>0.468</td>\n",
       "      <td>108.620</td>\n",
       "      <td>209.804</td>\n",
       "      <td>219.297</td>\n",
       "      <td>...</td>\n",
       "      <td>0.135</td>\n",
       "      <td>0.109</td>\n",
       "      <td>0.360</td>\n",
       "      <td>12069.874</td>\n",
       "      <td>0.119</td>\n",
       "      <td>0.321</td>\n",
       "    </tr>\n",
       "    <tr>\n",
       "      <th>min</th>\n",
       "      <td>0.000</td>\n",
       "      <td>0.000</td>\n",
       "      <td>0.000</td>\n",
       "      <td>1500.000</td>\n",
       "      <td>-536.000</td>\n",
       "      <td>839.000</td>\n",
       "      <td>...</td>\n",
       "      <td>0.799</td>\n",
       "      <td>-0.224</td>\n",
       "      <td>0.638</td>\n",
       "      <td>-32703.000</td>\n",
       "      <td>0.000</td>\n",
       "      <td>0.000</td>\n",
       "    </tr>\n",
       "    <tr>\n",
       "      <th>25%</th>\n",
       "      <td>0.000</td>\n",
       "      <td>0.000</td>\n",
       "      <td>0.000</td>\n",
       "      <td>2187.000</td>\n",
       "      <td>-22.000</td>\n",
       "      <td>2070.000</td>\n",
       "      <td>...</td>\n",
       "      <td>0.990</td>\n",
       "      <td>-0.010</td>\n",
       "      <td>0.981</td>\n",
       "      <td>-2304.000</td>\n",
       "      <td>0.250</td>\n",
       "      <td>0.111</td>\n",
       "    </tr>\n",
       "    <tr>\n",
       "      <th>50%</th>\n",
       "      <td>1.000</td>\n",
       "      <td>0.000</td>\n",
       "      <td>0.000</td>\n",
       "      <td>2241.000</td>\n",
       "      <td>34.000</td>\n",
       "      <td>2199.000</td>\n",
       "      <td>...</td>\n",
       "      <td>1.015</td>\n",
       "      <td>0.015</td>\n",
       "      <td>1.031</td>\n",
       "      <td>196.000</td>\n",
       "      <td>0.307</td>\n",
       "      <td>0.284</td>\n",
       "    </tr>\n",
       "    <tr>\n",
       "      <th>75%</th>\n",
       "      <td>1.000</td>\n",
       "      <td>1.000</td>\n",
       "      <td>1.000</td>\n",
       "      <td>2316.000</td>\n",
       "      <td>132.000</td>\n",
       "      <td>2287.000</td>\n",
       "      <td>...</td>\n",
       "      <td>1.063</td>\n",
       "      <td>0.061</td>\n",
       "      <td>1.130</td>\n",
       "      <td>5625.000</td>\n",
       "      <td>0.391</td>\n",
       "      <td>0.510</td>\n",
       "    </tr>\n",
       "    <tr>\n",
       "      <th>max</th>\n",
       "      <td>1.000</td>\n",
       "      <td>1.000</td>\n",
       "      <td>1.000</td>\n",
       "      <td>2494.000</td>\n",
       "      <td>1516.000</td>\n",
       "      <td>2676.000</td>\n",
       "      <td>...</td>\n",
       "      <td>2.721</td>\n",
       "      <td>1.001</td>\n",
       "      <td>7.404</td>\n",
       "      <td>32761.000</td>\n",
       "      <td>1.000</td>\n",
       "      <td>1.000</td>\n",
       "    </tr>\n",
       "  </tbody>\n",
       "</table>\n",
       "<p>8 rows × 37 columns</p>\n",
       "</div>"
      ],
      "text/plain": [
       "       my_result  my_color    event  my_rating  rating_diff  opp_rating  ...  \\\n",
       "count   3690.000  3690.000 3690.000   3690.000     3690.000    3690.000  ...   \n",
       "mean       0.562     0.497    0.324   2244.528       92.671    2151.857  ...   \n",
       "std        0.496     0.500    0.468    108.620      209.804     219.297  ...   \n",
       "min        0.000     0.000    0.000   1500.000     -536.000     839.000  ...   \n",
       "25%        0.000     0.000    0.000   2187.000      -22.000    2070.000  ...   \n",
       "50%        1.000     0.000    0.000   2241.000       34.000    2199.000  ...   \n",
       "75%        1.000     1.000    1.000   2316.000      132.000    2287.000  ...   \n",
       "max        1.000     1.000    1.000   2494.000     1516.000    2676.000  ...   \n",
       "\n",
       "       me_opp_ratio  log_me_opp_ratio  quad_me_opp_ratio  quad_rating_diff  \\\n",
       "count      3690.000          3690.000           3690.000          3690.000   \n",
       "mean          1.055             0.047              1.131          1049.824   \n",
       "std           0.135             0.109              0.360         12069.874   \n",
       "min           0.799            -0.224              0.638        -32703.000   \n",
       "25%           0.990            -0.010              0.981         -2304.000   \n",
       "50%           1.015             0.015              1.031           196.000   \n",
       "75%           1.063             0.061              1.130          5625.000   \n",
       "max           2.721             1.001              7.404         32761.000   \n",
       "\n",
       "       quad_last_7days_win_rate  quad_win_rate_today_games  \n",
       "count                  3690.000                   3690.000  \n",
       "mean                      0.321                      0.363  \n",
       "std                       0.119                      0.321  \n",
       "min                       0.000                      0.000  \n",
       "25%                       0.250                      0.111  \n",
       "50%                       0.307                      0.284  \n",
       "75%                       0.391                      0.510  \n",
       "max                       1.000                      1.000  \n",
       "\n",
       "[8 rows x 37 columns]"
      ]
     },
     "execution_count": 89,
     "metadata": {},
     "output_type": "execute_result"
    }
   ],
   "source": [
    "chess_df.describe()"
   ]
  },
  {
   "cell_type": "code",
   "execution_count": 90,
   "metadata": {},
   "outputs": [
    {
     "data": {
      "text/plain": [
       "['my_rating',\n",
       " 'rating_diff',\n",
       " 'opp_rating',\n",
       " 'last_7days_games',\n",
       " 'last_7days_wins',\n",
       " 'last_7days_win_rate',\n",
       " 'count_today_games',\n",
       " 'win_today_games',\n",
       " 'win_rate_today_games',\n",
       " 'me_opp_ratio',\n",
       " 'log_me_opp_ratio',\n",
       " 'quad_me_opp_ratio',\n",
       " 'quad_rating_diff',\n",
       " 'quad_last_7days_win_rate',\n",
       " 'quad_win_rate_today_games']"
      ]
     },
     "execution_count": 90,
     "metadata": {},
     "output_type": "execute_result"
    }
   ],
   "source": [
    "numeric.extend(['me_opp_ratio', 'log_me_opp_ratio', 'quad_me_opp_ratio', 'quad_rating_diff',\\\n",
    "                'quad_last_7days_win_rate', 'quad_win_rate_today_games'])"
   ]
  },
  {
   "cell_type": "code",
   "execution_count": 95,
   "metadata": {},
   "outputs": [
    {
     "name": "stdout",
     "output_type": "stream",
     "text": [
      "<class 'pandas.core.frame.DataFrame'>\n",
      "Int64Index: 3690 entries, 0 to 3689\n",
      "Data columns (total 15 columns):\n",
      " #   Column                     Non-Null Count  Dtype  \n",
      "---  ------                     --------------  -----  \n",
      " 0   my_rating                  3690 non-null   uint16 \n",
      " 1   rating_diff                3690 non-null   int16  \n",
      " 2   opp_rating                 3690 non-null   uint16 \n",
      " 3   last_7days_games           3690 non-null   uint16 \n",
      " 4   last_7days_wins            3690 non-null   uint16 \n",
      " 5   last_7days_win_rate        3690 non-null   float32\n",
      " 6   count_today_games          3690 non-null   uint16 \n",
      " 7   win_today_games            3690 non-null   uint16 \n",
      " 8   win_rate_today_games       3690 non-null   float32\n",
      " 9   me_opp_ratio               3690 non-null   float64\n",
      " 10  log_me_opp_ratio           3690 non-null   float64\n",
      " 11  quad_me_opp_ratio          3690 non-null   float64\n",
      " 12  quad_rating_diff           3690 non-null   int16  \n",
      " 13  quad_last_7days_win_rate   3690 non-null   float32\n",
      " 14  quad_win_rate_today_games  3690 non-null   float32\n",
      "dtypes: float32(4), float64(3), int16(2), uint16(6)\n",
      "memory usage: 358.6 KB\n"
     ]
    }
   ],
   "source": [
    "chess_df[numeric].info()"
   ]
  },
  {
   "cell_type": "markdown",
   "metadata": {},
   "source": [
    "#### Смотрим корреляцию между числовыми переменными и целевой"
   ]
  },
  {
   "cell_type": "code",
   "execution_count": 97,
   "metadata": {},
   "outputs": [
    {
     "data": {
      "image/png": "[encoded data removed]",
      "text/plain": [
       "<Figure size 1008x432 with 2 Axes>"
      ]
     },
     "metadata": {
      "needs_background": "light"
     },
     "output_type": "display_data"
    }
   ],
   "source": [
    "vv = pd.concat([chess_df[numeric], chess_df['my_result']], axis=1)\n",
    "plt.figure(figsize=(14, 6))\n",
    "g = sns.heatmap(vv.corr(), annot=True, cmap=plt.cm.Blues)\n",
    "g.xaxis.set_ticks_position('top')\n",
    "g.xaxis.set_tick_params(rotation=90);"
   ]
  },
  {
   "cell_type": "markdown",
   "metadata": {},
   "source": [
    "Удаляю из таблицы следующие переменные:"
   ]
  },
  {
   "cell_type": "markdown",
   "metadata": {},
   "source": [
    "my_rating, last_7days_games - из-за низкой корреляции с целовой переменной. last_7days_games также имеет сильную корреляцию с last_7days_wins"
   ]
  },
  {
   "cell_type": "markdown",
   "metadata": {},
   "source": [
    "last_7days_win_rate - из-за высокой корреляции с quad_last_7days_win_rate. Переменные похожи между собой, но у первой корреляция с целевой переменной ниже, поэтому дропаем ее"
   ]
  },
  {
   "cell_type": "markdown",
   "metadata": {},
   "source": [
    "count_today_games - из-за высокой корреляции с win_today_games"
   ]
  },
  {
   "cell_type": "code",
   "execution_count": 98,
   "metadata": {},
   "outputs": [],
   "source": [
    "chess_df.drop(columns=['my_rating', 'last_7days_games', 'last_7days_win_rate', 'count_today_games'], inplace=True)"
   ]
  },
  {
   "cell_type": "markdown",
   "metadata": {},
   "source": [
    "Проверяем полученный датафрейм на типы данных и пропуски"
   ]
  },
  {
   "cell_type": "code",
   "execution_count": 99,
   "metadata": {},
   "outputs": [
    {
     "name": "stdout",
     "output_type": "stream",
     "text": [
      "<class 'pandas.core.frame.DataFrame'>\n",
      "Int64Index: 3690 entries, 0 to 3689\n",
      "Data columns (total 33 columns):\n",
      " #   Column                     Non-Null Count  Dtype  \n",
      "---  ------                     --------------  -----  \n",
      " 0   my_result                  3690 non-null   uint8  \n",
      " 1   my_color                   3690 non-null   uint8  \n",
      " 2   event                      3690 non-null   uint8  \n",
      " 3   rating_diff                3690 non-null   int16  \n",
      " 4   opp_rating                 3690 non-null   uint16 \n",
      " 5   t_ctrl_120+0               3690 non-null   uint8  \n",
      " 6   t_ctrl_120+1               3690 non-null   uint8  \n",
      " 7   t_ctrl_180+0               3690 non-null   uint8  \n",
      " 8   t_ctrl_180+1               3690 non-null   uint8  \n",
      " 9   t_ctrl_180+2               3690 non-null   uint8  \n",
      " 10  t_ctrl_300+0               3690 non-null   uint8  \n",
      " 11  t_ctrl_300+2               3690 non-null   uint8  \n",
      " 12  t_ctrl_300+3               3690 non-null   uint8  \n",
      " 13  t_ctrl_60+0                3690 non-null   uint8  \n",
      " 14  t_ctrl_60+1                3690 non-null   uint8  \n",
      " 15  t_ctrl_600+0               3690 non-null   uint8  \n",
      " 16  t_ctrl_600+5               3690 non-null   uint8  \n",
      " 17  time_control               3690 non-null   uint8  \n",
      " 18  day_of_week                3690 non-null   uint16 \n",
      " 19  hour_of_game               3690 non-null   uint16 \n",
      " 20  its_weekend                3690 non-null   uint8  \n",
      " 21  part_of_day_afternoon      3690 non-null   uint8  \n",
      " 22  part_of_day_evening        3690 non-null   uint8  \n",
      " 23  part_of_day_morning        3690 non-null   uint8  \n",
      " 24  last_7days_wins            3690 non-null   uint16 \n",
      " 25  win_today_games            3690 non-null   uint16 \n",
      " 26  win_rate_today_games       3690 non-null   float32\n",
      " 27  me_opp_ratio               3690 non-null   float64\n",
      " 28  log_me_opp_ratio           3690 non-null   float64\n",
      " 29  quad_me_opp_ratio          3690 non-null   float64\n",
      " 30  quad_rating_diff           3690 non-null   int16  \n",
      " 31  quad_last_7days_win_rate   3690 non-null   float32\n",
      " 32  quad_win_rate_today_games  3690 non-null   float32\n",
      "dtypes: float32(3), float64(3), int16(2), uint16(5), uint8(20)\n",
      "memory usage: 409.1 KB\n"
     ]
    }
   ],
   "source": [
    "chess_df.info()"
   ]
  },
  {
   "cell_type": "markdown",
   "metadata": {},
   "source": [
    "## 3. Создание тренировочного и тестового набора данных"
   ]
  },
  {
   "cell_type": "markdown",
   "metadata": {},
   "source": [
    "#### Разделяю основной датафрейм на вектор признаков (X) и вектор целевой переменной my_result (y)."
   ]
  },
  {
   "cell_type": "code",
   "execution_count": 100,
   "metadata": {},
   "outputs": [],
   "source": [
    "X = chess_df.drop(columns='my_result')\n",
    "y = chess_df.my_result"
   ]
  },
  {
   "cell_type": "code",
   "execution_count": 101,
   "metadata": {},
   "outputs": [
    {
     "name": "stdout",
     "output_type": "stream",
     "text": [
      "Размерности X и y:  (3690, 32) (3690,)\n"
     ]
    }
   ],
   "source": [
    "print('Размерности X и y: ', X.shape, y.shape)"
   ]
  },
  {
   "cell_type": "markdown",
   "metadata": {},
   "source": [
    "#### Разделяю данные на тренировочные и тестовые"
   ]
  },
  {
   "cell_type": "code",
   "execution_count": 102,
   "metadata": {},
   "outputs": [],
   "source": [
    "X_train, X_test, y_train, y_test = train_test_split(X, y, test_size=0.33, random_state=28, shuffle=True)"
   ]
  },
  {
   "cell_type": "code",
   "execution_count": 103,
   "metadata": {},
   "outputs": [
    {
     "name": "stdout",
     "output_type": "stream",
     "text": [
      "Размерность обучающего набора:  (2472, 32) (2472,)\n",
      "Размерность тестового набора:  (1218, 32) (1218,)\n"
     ]
    }
   ],
   "source": [
    "print('Размерность обучающего набора: ', X_train.shape, y_train.shape)\n",
    "print('Размерность тестового набора: ', X_test.shape, y_test.shape)"
   ]
  },
  {
   "cell_type": "markdown",
   "metadata": {},
   "source": [
    "#### Масштабирование численных переменных"
   ]
  },
  {
   "cell_type": "markdown",
   "metadata": {},
   "source": [
    "Поскольку я планирую воспользоваться логистической регрессией для предсказания результатов, желательно произвести масштабирование признаков. Произведем масштабирование для всех признаков, кроме бинарных. Поскольку бинарные признаки в таблице имеют тип данных uint8, я осуществляю обучение StandardScaler() только по признакам не типа uint8, а затем их добавляю к датафрейму X вместо соответствующих исходных признаков"
   ]
  },
  {
   "cell_type": "code",
   "execution_count": 105,
   "metadata": {},
   "outputs": [
    {
     "data": {
      "text/plain": [
       "Index(['rating_diff', 'opp_rating', 'day_of_week', 'hour_of_game',\n",
       "       'last_7days_wins', 'win_today_games', 'win_rate_today_games',\n",
       "       'me_opp_ratio', 'log_me_opp_ratio', 'quad_me_opp_ratio',\n",
       "       'quad_rating_diff', 'quad_last_7days_win_rate',\n",
       "       'quad_win_rate_today_games'],\n",
       "      dtype='object')"
      ]
     },
     "execution_count": 105,
     "metadata": {},
     "output_type": "execute_result"
    }
   ],
   "source": [
    "scaled = X_train.dtypes[X_train.dtypes != 'uint8'].index #признаки для масштабирования\n",
    "scaled"
   ]
  },
  {
   "cell_type": "code",
   "execution_count": 109,
   "metadata": {},
   "outputs": [
    {
     "data": {
      "text/html": [
       "<div>\n",
       "<style scoped>\n",
       "    .dataframe tbody tr th:only-of-type {\n",
       "        vertical-align: middle;\n",
       "    }\n",
       "\n",
       "    .dataframe tbody tr th {\n",
       "        vertical-align: top;\n",
       "    }\n",
       "\n",
       "    .dataframe thead th {\n",
       "        text-align: right;\n",
       "    }\n",
       "</style>\n",
       "<table border=\"1\" class=\"dataframe\">\n",
       "  <thead>\n",
       "    <tr style=\"text-align: right;\">\n",
       "      <th></th>\n",
       "      <th>rating_diff</th>\n",
       "      <th>opp_rating</th>\n",
       "      <th>day_of_week</th>\n",
       "      <th>hour_of_game</th>\n",
       "      <th>last_7days_wins</th>\n",
       "      <th>win_today_games</th>\n",
       "      <th>...</th>\n",
       "      <th>me_opp_ratio</th>\n",
       "      <th>log_me_opp_ratio</th>\n",
       "      <th>quad_me_opp_ratio</th>\n",
       "      <th>quad_rating_diff</th>\n",
       "      <th>quad_last_7days_win_rate</th>\n",
       "      <th>quad_win_rate_today_games</th>\n",
       "    </tr>\n",
       "  </thead>\n",
       "  <tbody>\n",
       "    <tr>\n",
       "      <th>415</th>\n",
       "      <td>-0.045</td>\n",
       "      <td>0.790</td>\n",
       "      <td>-0.158</td>\n",
       "      <td>0.953</td>\n",
       "      <td>1.078</td>\n",
       "      <td>1.427</td>\n",
       "      <td>...</td>\n",
       "      <td>-0.138</td>\n",
       "      <td>-0.106</td>\n",
       "      <td>-0.157</td>\n",
       "      <td>0.443</td>\n",
       "      <td>0.885</td>\n",
       "      <td>0.797</td>\n",
       "    </tr>\n",
       "    <tr>\n",
       "      <th>2796</th>\n",
       "      <td>-0.444</td>\n",
       "      <td>-0.259</td>\n",
       "      <td>-1.175</td>\n",
       "      <td>0.953</td>\n",
       "      <td>-0.694</td>\n",
       "      <td>0.151</td>\n",
       "      <td>...</td>\n",
       "      <td>-0.406</td>\n",
       "      <td>-0.432</td>\n",
       "      <td>-0.360</td>\n",
       "      <td>-0.081</td>\n",
       "      <td>-1.115</td>\n",
       "      <td>-0.665</td>\n",
       "    </tr>\n",
       "    <tr>\n",
       "      <th>1029</th>\n",
       "      <td>-0.104</td>\n",
       "      <td>1.023</td>\n",
       "      <td>-1.175</td>\n",
       "      <td>0.587</td>\n",
       "      <td>1.837</td>\n",
       "      <td>-0.487</td>\n",
       "      <td>...</td>\n",
       "      <td>-0.182</td>\n",
       "      <td>-0.158</td>\n",
       "      <td>-0.191</td>\n",
       "      <td>0.296</td>\n",
       "      <td>0.917</td>\n",
       "      <td>1.987</td>\n",
       "    </tr>\n",
       "    <tr>\n",
       "      <th>2880</th>\n",
       "      <td>-1.217</td>\n",
       "      <td>1.177</td>\n",
       "      <td>0.860</td>\n",
       "      <td>0.222</td>\n",
       "      <td>-0.757</td>\n",
       "      <td>-0.062</td>\n",
       "      <td>...</td>\n",
       "      <td>-0.903</td>\n",
       "      <td>-1.072</td>\n",
       "      <td>-0.719</td>\n",
       "      <td>-2.281</td>\n",
       "      <td>-1.632</td>\n",
       "      <td>-0.348</td>\n",
       "    </tr>\n",
       "    <tr>\n",
       "      <th>3347</th>\n",
       "      <td>-0.789</td>\n",
       "      <td>0.459</td>\n",
       "      <td>1.369</td>\n",
       "      <td>-0.326</td>\n",
       "      <td>-1.770</td>\n",
       "      <td>-0.487</td>\n",
       "      <td>...</td>\n",
       "      <td>-0.643</td>\n",
       "      <td>-0.732</td>\n",
       "      <td>-0.534</td>\n",
       "      <td>-0.540</td>\n",
       "      <td>-1.747</td>\n",
       "      <td>-0.348</td>\n",
       "    </tr>\n",
       "    <tr>\n",
       "      <th>...</th>\n",
       "      <td>...</td>\n",
       "      <td>...</td>\n",
       "      <td>...</td>\n",
       "      <td>...</td>\n",
       "      <td>...</td>\n",
       "      <td>...</td>\n",
       "      <td>...</td>\n",
       "      <td>...</td>\n",
       "      <td>...</td>\n",
       "      <td>...</td>\n",
       "      <td>...</td>\n",
       "      <td>...</td>\n",
       "      <td>...</td>\n",
       "    </tr>\n",
       "    <tr>\n",
       "      <th>3104</th>\n",
       "      <td>-0.580</td>\n",
       "      <td>0.543</td>\n",
       "      <td>-0.158</td>\n",
       "      <td>-0.691</td>\n",
       "      <td>0.065</td>\n",
       "      <td>0.576</td>\n",
       "      <td>...</td>\n",
       "      <td>-0.498</td>\n",
       "      <td>-0.548</td>\n",
       "      <td>-0.428</td>\n",
       "      <td>-0.161</td>\n",
       "      <td>0.183</td>\n",
       "      <td>-0.069</td>\n",
       "    </tr>\n",
       "    <tr>\n",
       "      <th>2036</th>\n",
       "      <td>-0.235</td>\n",
       "      <td>0.235</td>\n",
       "      <td>1.369</td>\n",
       "      <td>0.405</td>\n",
       "      <td>0.065</td>\n",
       "      <td>0.364</td>\n",
       "      <td>...</td>\n",
       "      <td>-0.258</td>\n",
       "      <td>-0.250</td>\n",
       "      <td>-0.249</td>\n",
       "      <td>0.054</td>\n",
       "      <td>-0.373</td>\n",
       "      <td>-0.202</td>\n",
       "    </tr>\n",
       "    <tr>\n",
       "      <th>1302</th>\n",
       "      <td>-0.677</td>\n",
       "      <td>0.962</td>\n",
       "      <td>1.369</td>\n",
       "      <td>0.770</td>\n",
       "      <td>0.635</td>\n",
       "      <td>1.427</td>\n",
       "      <td>...</td>\n",
       "      <td>-0.558</td>\n",
       "      <td>-0.623</td>\n",
       "      <td>-0.473</td>\n",
       "      <td>-0.298</td>\n",
       "      <td>0.586</td>\n",
       "      <td>0.347</td>\n",
       "    </tr>\n",
       "    <tr>\n",
       "      <th>1541</th>\n",
       "      <td>-1.237</td>\n",
       "      <td>1.512</td>\n",
       "      <td>-0.158</td>\n",
       "      <td>-0.874</td>\n",
       "      <td>2.027</td>\n",
       "      <td>-0.487</td>\n",
       "      <td>...</td>\n",
       "      <td>-0.900</td>\n",
       "      <td>-1.068</td>\n",
       "      <td>-0.717</td>\n",
       "      <td>-2.392</td>\n",
       "      <td>-0.587</td>\n",
       "      <td>-0.348</td>\n",
       "    </tr>\n",
       "    <tr>\n",
       "      <th>1281</th>\n",
       "      <td>-0.784</td>\n",
       "      <td>1.097</td>\n",
       "      <td>-1.175</td>\n",
       "      <td>-0.691</td>\n",
       "      <td>1.204</td>\n",
       "      <td>-0.275</td>\n",
       "      <td>...</td>\n",
       "      <td>-0.625</td>\n",
       "      <td>-0.709</td>\n",
       "      <td>-0.522</td>\n",
       "      <td>-0.527</td>\n",
       "      <td>0.798</td>\n",
       "      <td>1.987</td>\n",
       "    </tr>\n",
       "  </tbody>\n",
       "</table>\n",
       "<p>2472 rows × 13 columns</p>\n",
       "</div>"
      ],
      "text/plain": [
       "      rating_diff  opp_rating  day_of_week  hour_of_game  last_7days_wins  \\\n",
       "415        -0.045       0.790       -0.158         0.953            1.078   \n",
       "2796       -0.444      -0.259       -1.175         0.953           -0.694   \n",
       "1029       -0.104       1.023       -1.175         0.587            1.837   \n",
       "2880       -1.217       1.177        0.860         0.222           -0.757   \n",
       "3347       -0.789       0.459        1.369        -0.326           -1.770   \n",
       "...           ...         ...          ...           ...              ...   \n",
       "3104       -0.580       0.543       -0.158        -0.691            0.065   \n",
       "2036       -0.235       0.235        1.369         0.405            0.065   \n",
       "1302       -0.677       0.962        1.369         0.770            0.635   \n",
       "1541       -1.237       1.512       -0.158        -0.874            2.027   \n",
       "1281       -0.784       1.097       -1.175        -0.691            1.204   \n",
       "\n",
       "      win_today_games  ...  me_opp_ratio  log_me_opp_ratio  quad_me_opp_ratio  \\\n",
       "415             1.427  ...        -0.138            -0.106             -0.157   \n",
       "2796            0.151  ...        -0.406            -0.432             -0.360   \n",
       "1029           -0.487  ...        -0.182            -0.158             -0.191   \n",
       "2880           -0.062  ...        -0.903            -1.072             -0.719   \n",
       "3347           -0.487  ...        -0.643            -0.732             -0.534   \n",
       "...               ...  ...           ...               ...                ...   \n",
       "3104            0.576  ...        -0.498            -0.548             -0.428   \n",
       "2036            0.364  ...        -0.258            -0.250             -0.249   \n",
       "1302            1.427  ...        -0.558            -0.623             -0.473   \n",
       "1541           -0.487  ...        -0.900            -1.068             -0.717   \n",
       "1281           -0.275  ...        -0.625            -0.709             -0.522   \n",
       "\n",
       "      quad_rating_diff  quad_last_7days_win_rate  quad_win_rate_today_games  \n",
       "415              0.443                     0.885                      0.797  \n",
       "2796            -0.081                    -1.115                     -0.665  \n",
       "1029             0.296                     0.917                      1.987  \n",
       "2880            -2.281                    -1.632                     -0.348  \n",
       "3347            -0.540                    -1.747                     -0.348  \n",
       "...                ...                       ...                        ...  \n",
       "3104            -0.161                     0.183                     -0.069  \n",
       "2036             0.054                    -0.373                     -0.202  \n",
       "1302            -0.298                     0.586                      0.347  \n",
       "1541            -2.392                    -0.587                     -0.348  \n",
       "1281            -0.527                     0.798                      1.987  \n",
       "\n",
       "[2472 rows x 13 columns]"
      ]
     },
     "execution_count": 109,
     "metadata": {},
     "output_type": "execute_result"
    }
   ],
   "source": [
    "scaler = StandardScaler()\n",
    "X_train[scaled] = scaler.fit_transform(X_train[scaled])\n",
    "X_train.head()"
   ]
  },
  {
   "cell_type": "code",
   "execution_count": 111,
   "metadata": {},
   "outputs": [
    {
     "data": {
      "text/html": [
       "<div>\n",
       "<style scoped>\n",
       "    .dataframe tbody tr th:only-of-type {\n",
       "        vertical-align: middle;\n",
       "    }\n",
       "\n",
       "    .dataframe tbody tr th {\n",
       "        vertical-align: top;\n",
       "    }\n",
       "\n",
       "    .dataframe thead th {\n",
       "        text-align: right;\n",
       "    }\n",
       "</style>\n",
       "<table border=\"1\" class=\"dataframe\">\n",
       "  <thead>\n",
       "    <tr style=\"text-align: right;\">\n",
       "      <th></th>\n",
       "      <th>my_color</th>\n",
       "      <th>event</th>\n",
       "      <th>rating_diff</th>\n",
       "      <th>opp_rating</th>\n",
       "      <th>t_ctrl_120+0</th>\n",
       "      <th>t_ctrl_120+1</th>\n",
       "      <th>...</th>\n",
       "      <th>me_opp_ratio</th>\n",
       "      <th>log_me_opp_ratio</th>\n",
       "      <th>quad_me_opp_ratio</th>\n",
       "      <th>quad_rating_diff</th>\n",
       "      <th>quad_last_7days_win_rate</th>\n",
       "      <th>quad_win_rate_today_games</th>\n",
       "    </tr>\n",
       "  </thead>\n",
       "  <tbody>\n",
       "    <tr>\n",
       "      <th>2107</th>\n",
       "      <td>0</td>\n",
       "      <td>1</td>\n",
       "      <td>-0.186</td>\n",
       "      <td>0.179</td>\n",
       "      <td>0</td>\n",
       "      <td>0</td>\n",
       "      <td>...</td>\n",
       "      <td>-0.223</td>\n",
       "      <td>-0.208</td>\n",
       "      <td>-0.222</td>\n",
       "      <td>0.129</td>\n",
       "      <td>-0.276</td>\n",
       "      <td>-0.348</td>\n",
       "    </tr>\n",
       "    <tr>\n",
       "      <th>858</th>\n",
       "      <td>1</td>\n",
       "      <td>0</td>\n",
       "      <td>-1.037</td>\n",
       "      <td>1.242</td>\n",
       "      <td>0</td>\n",
       "      <td>0</td>\n",
       "      <td>...</td>\n",
       "      <td>-0.784</td>\n",
       "      <td>-0.915</td>\n",
       "      <td>-0.636</td>\n",
       "      <td>-1.391</td>\n",
       "      <td>-1.435</td>\n",
       "      <td>0.866</td>\n",
       "    </tr>\n",
       "    <tr>\n",
       "      <th>2223</th>\n",
       "      <td>1</td>\n",
       "      <td>0</td>\n",
       "      <td>-0.274</td>\n",
       "      <td>0.389</td>\n",
       "      <td>0</td>\n",
       "      <td>0</td>\n",
       "      <td>...</td>\n",
       "      <td>-0.287</td>\n",
       "      <td>-0.286</td>\n",
       "      <td>-0.271</td>\n",
       "      <td>0.006</td>\n",
       "      <td>0.411</td>\n",
       "      <td>-0.872</td>\n",
       "    </tr>\n",
       "    <tr>\n",
       "      <th>596</th>\n",
       "      <td>0</td>\n",
       "      <td>0</td>\n",
       "      <td>-0.391</td>\n",
       "      <td>0.850</td>\n",
       "      <td>0</td>\n",
       "      <td>0</td>\n",
       "      <td>...</td>\n",
       "      <td>-0.369</td>\n",
       "      <td>-0.387</td>\n",
       "      <td>-0.333</td>\n",
       "      <td>-0.075</td>\n",
       "      <td>0.798</td>\n",
       "      <td>1.987</td>\n",
       "    </tr>\n",
       "    <tr>\n",
       "      <th>2848</th>\n",
       "      <td>0</td>\n",
       "      <td>0</td>\n",
       "      <td>-0.736</td>\n",
       "      <td>0.160</td>\n",
       "      <td>0</td>\n",
       "      <td>1</td>\n",
       "      <td>...</td>\n",
       "      <td>-0.612</td>\n",
       "      <td>-0.692</td>\n",
       "      <td>-0.512</td>\n",
       "      <td>-0.413</td>\n",
       "      <td>-0.998</td>\n",
       "      <td>-1.003</td>\n",
       "    </tr>\n",
       "  </tbody>\n",
       "</table>\n",
       "<p>5 rows × 32 columns</p>\n",
       "</div>"
      ],
      "text/plain": [
       "      my_color  event  rating_diff  opp_rating  t_ctrl_120+0  t_ctrl_120+1  \\\n",
       "2107         0      1       -0.186       0.179             0             0   \n",
       "858          1      0       -1.037       1.242             0             0   \n",
       "2223         1      0       -0.274       0.389             0             0   \n",
       "596          0      0       -0.391       0.850             0             0   \n",
       "2848         0      0       -0.736       0.160             0             1   \n",
       "\n",
       "      ...  me_opp_ratio  log_me_opp_ratio  quad_me_opp_ratio  \\\n",
       "2107  ...        -0.223            -0.208             -0.222   \n",
       "858   ...        -0.784            -0.915             -0.636   \n",
       "2223  ...        -0.287            -0.286             -0.271   \n",
       "596   ...        -0.369            -0.387             -0.333   \n",
       "2848  ...        -0.612            -0.692             -0.512   \n",
       "\n",
       "      quad_rating_diff  quad_last_7days_win_rate  quad_win_rate_today_games  \n",
       "2107             0.129                    -0.276                     -0.348  \n",
       "858             -1.391                    -1.435                      0.866  \n",
       "2223             0.006                     0.411                     -0.872  \n",
       "596             -0.075                     0.798                      1.987  \n",
       "2848            -0.413                    -0.998                     -1.003  \n",
       "\n",
       "[5 rows x 32 columns]"
      ]
     },
     "execution_count": 111,
     "metadata": {},
     "output_type": "execute_result"
    }
   ],
   "source": [
    "X_test[scaled] = scaler.transform(X_test[scaled])\n",
    "X_test.head()"
   ]
  },
  {
   "cell_type": "markdown",
   "metadata": {},
   "source": [
    "Данные готовы! Давайте обучим логистическую регрессию и попробуем найти наилучший классификатор"
   ]
  },
  {
   "cell_type": "code",
   "execution_count": 112,
   "metadata": {},
   "outputs": [
    {
     "name": "stdout",
     "output_type": "stream",
     "text": [
      "Размерность обучающего набора:  (2472, 32) (2472,)\n",
      "Размерность тестового набора:  (1218, 32) (1218,)\n"
     ]
    }
   ],
   "source": [
    "print('Размерность обучающего набора: ', X_train.shape, y_train.shape)\n",
    "print('Размерность тестового набора: ', X_test.shape, y_test.shape)"
   ]
  },
  {
   "cell_type": "markdown",
   "metadata": {},
   "source": [
    "## 4.Обучение моделей"
   ]
  },
  {
   "cell_type": "markdown",
   "metadata": {},
   "source": [
    "#### Логистическая регрессия с L2-регуляризацией"
   ]
  },
  {
   "cell_type": "code",
   "execution_count": 157,
   "metadata": {},
   "outputs": [
    {
     "name": "stdout",
     "output_type": "stream",
     "text": [
      "Наилучший параметр С = 0.100000.\n",
      "Значения accuracy для X_train:\n",
      "0.654126213592233 \n",
      "\n",
      "Значения accuracy для X_test:\n",
      "0.6543513957307061 \n",
      "\n"
     ]
    }
   ],
   "source": [
    "clf_l2 = LogisticRegressionCV(Cs=9, cv=5, random_state=28, penalty='l2', solver='lbfgs').fit(X_train, y_train)\n",
    "print('Наилучший параметр С = %f.\\nЗначения accuracy для X_train:' % clf_l2.C_)\n",
    "print(accuracy_score(y_train, clf_l2.predict(X_train)), '\\n')\n",
    "print('Значения accuracy для X_test:')\n",
    "print(accuracy_score(y_test, clf_l2.predict(X_test)), '\\n')"
   ]
  },
  {
   "cell_type": "markdown",
   "metadata": {},
   "source": [
    "Значения весов переменных при обучении:"
   ]
  },
  {
   "cell_type": "code",
   "execution_count": 194,
   "metadata": {},
   "outputs": [
    {
     "data": {
      "text/html": [
       "<div>\n",
       "<style scoped>\n",
       "    .dataframe tbody tr th:only-of-type {\n",
       "        vertical-align: middle;\n",
       "    }\n",
       "\n",
       "    .dataframe tbody tr th {\n",
       "        vertical-align: top;\n",
       "    }\n",
       "\n",
       "    .dataframe thead th {\n",
       "        text-align: right;\n",
       "    }\n",
       "</style>\n",
       "<table border=\"1\" class=\"dataframe\">\n",
       "  <thead>\n",
       "    <tr style=\"text-align: right;\">\n",
       "      <th></th>\n",
       "      <th>Variable</th>\n",
       "      <th>Weight</th>\n",
       "    </tr>\n",
       "  </thead>\n",
       "  <tbody>\n",
       "    <tr>\n",
       "      <th>3</th>\n",
       "      <td>opp_rating</td>\n",
       "      <td>0.434</td>\n",
       "    </tr>\n",
       "    <tr>\n",
       "      <th>2</th>\n",
       "      <td>rating_diff</td>\n",
       "      <td>0.257</td>\n",
       "    </tr>\n",
       "    <tr>\n",
       "      <th>1</th>\n",
       "      <td>event</td>\n",
       "      <td>0.202</td>\n",
       "    </tr>\n",
       "    <tr>\n",
       "      <th>27</th>\n",
       "      <td>log_me_opp_ratio</td>\n",
       "      <td>0.198</td>\n",
       "    </tr>\n",
       "    <tr>\n",
       "      <th>31</th>\n",
       "      <td>quad_win_rate_today_games</td>\n",
       "      <td>0.189</td>\n",
       "    </tr>\n",
       "    <tr>\n",
       "      <th>19</th>\n",
       "      <td>its_weekend</td>\n",
       "      <td>0.184</td>\n",
       "    </tr>\n",
       "    <tr>\n",
       "      <th>14</th>\n",
       "      <td>t_ctrl_600+0</td>\n",
       "      <td>0.153</td>\n",
       "    </tr>\n",
       "    <tr>\n",
       "      <th>16</th>\n",
       "      <td>time_control</td>\n",
       "      <td>0.145</td>\n",
       "    </tr>\n",
       "    <tr>\n",
       "      <th>0</th>\n",
       "      <td>my_color</td>\n",
       "      <td>0.131</td>\n",
       "    </tr>\n",
       "    <tr>\n",
       "      <th>26</th>\n",
       "      <td>me_opp_ratio</td>\n",
       "      <td>0.122</td>\n",
       "    </tr>\n",
       "    <tr>\n",
       "      <th>8</th>\n",
       "      <td>t_ctrl_180+2</td>\n",
       "      <td>0.121</td>\n",
       "    </tr>\n",
       "    <tr>\n",
       "      <th>9</th>\n",
       "      <td>t_ctrl_300+0</td>\n",
       "      <td>0.113</td>\n",
       "    </tr>\n",
       "    <tr>\n",
       "      <th>12</th>\n",
       "      <td>t_ctrl_60+0</td>\n",
       "      <td>0.105</td>\n",
       "    </tr>\n",
       "    <tr>\n",
       "      <th>10</th>\n",
       "      <td>t_ctrl_300+2</td>\n",
       "      <td>0.095</td>\n",
       "    </tr>\n",
       "    <tr>\n",
       "      <th>25</th>\n",
       "      <td>win_rate_today_games</td>\n",
       "      <td>0.087</td>\n",
       "    </tr>\n",
       "    <tr>\n",
       "      <th>23</th>\n",
       "      <td>last_7days_wins</td>\n",
       "      <td>0.066</td>\n",
       "    </tr>\n",
       "    <tr>\n",
       "      <th>18</th>\n",
       "      <td>hour_of_game</td>\n",
       "      <td>0.064</td>\n",
       "    </tr>\n",
       "    <tr>\n",
       "      <th>29</th>\n",
       "      <td>quad_rating_diff</td>\n",
       "      <td>0.061</td>\n",
       "    </tr>\n",
       "    <tr>\n",
       "      <th>7</th>\n",
       "      <td>t_ctrl_180+1</td>\n",
       "      <td>0.060</td>\n",
       "    </tr>\n",
       "    <tr>\n",
       "      <th>15</th>\n",
       "      <td>t_ctrl_600+5</td>\n",
       "      <td>0.053</td>\n",
       "    </tr>\n",
       "    <tr>\n",
       "      <th>17</th>\n",
       "      <td>day_of_week</td>\n",
       "      <td>0.052</td>\n",
       "    </tr>\n",
       "    <tr>\n",
       "      <th>20</th>\n",
       "      <td>part_of_day_afternoon</td>\n",
       "      <td>0.050</td>\n",
       "    </tr>\n",
       "    <tr>\n",
       "      <th>21</th>\n",
       "      <td>part_of_day_evening</td>\n",
       "      <td>0.049</td>\n",
       "    </tr>\n",
       "    <tr>\n",
       "      <th>28</th>\n",
       "      <td>quad_me_opp_ratio</td>\n",
       "      <td>0.045</td>\n",
       "    </tr>\n",
       "    <tr>\n",
       "      <th>13</th>\n",
       "      <td>t_ctrl_60+1</td>\n",
       "      <td>0.036</td>\n",
       "    </tr>\n",
       "    <tr>\n",
       "      <th>4</th>\n",
       "      <td>t_ctrl_120+0</td>\n",
       "      <td>0.035</td>\n",
       "    </tr>\n",
       "    <tr>\n",
       "      <th>5</th>\n",
       "      <td>t_ctrl_120+1</td>\n",
       "      <td>0.034</td>\n",
       "    </tr>\n",
       "    <tr>\n",
       "      <th>6</th>\n",
       "      <td>t_ctrl_180+0</td>\n",
       "      <td>0.024</td>\n",
       "    </tr>\n",
       "    <tr>\n",
       "      <th>30</th>\n",
       "      <td>quad_last_7days_win_rate</td>\n",
       "      <td>0.012</td>\n",
       "    </tr>\n",
       "    <tr>\n",
       "      <th>24</th>\n",
       "      <td>win_today_games</td>\n",
       "      <td>0.004</td>\n",
       "    </tr>\n",
       "    <tr>\n",
       "      <th>22</th>\n",
       "      <td>part_of_day_morning</td>\n",
       "      <td>0.001</td>\n",
       "    </tr>\n",
       "    <tr>\n",
       "      <th>11</th>\n",
       "      <td>t_ctrl_300+3</td>\n",
       "      <td>0.001</td>\n",
       "    </tr>\n",
       "  </tbody>\n",
       "</table>\n",
       "</div>"
      ],
      "text/plain": [
       "                     Variable  Weight\n",
       "3                  opp_rating   0.434\n",
       "2                 rating_diff   0.257\n",
       "1                       event   0.202\n",
       "27           log_me_opp_ratio   0.198\n",
       "31  quad_win_rate_today_games   0.189\n",
       "19                its_weekend   0.184\n",
       "14               t_ctrl_600+0   0.153\n",
       "16               time_control   0.145\n",
       "0                    my_color   0.131\n",
       "26               me_opp_ratio   0.122\n",
       "8                t_ctrl_180+2   0.121\n",
       "9                t_ctrl_300+0   0.113\n",
       "12                t_ctrl_60+0   0.105\n",
       "10               t_ctrl_300+2   0.095\n",
       "25       win_rate_today_games   0.087\n",
       "23            last_7days_wins   0.066\n",
       "18               hour_of_game   0.064\n",
       "29           quad_rating_diff   0.061\n",
       "7                t_ctrl_180+1   0.060\n",
       "15               t_ctrl_600+5   0.053\n",
       "17                day_of_week   0.052\n",
       "20      part_of_day_afternoon   0.050\n",
       "21        part_of_day_evening   0.049\n",
       "28          quad_me_opp_ratio   0.045\n",
       "13                t_ctrl_60+1   0.036\n",
       "4                t_ctrl_120+0   0.035\n",
       "5                t_ctrl_120+1   0.034\n",
       "6                t_ctrl_180+0   0.024\n",
       "30   quad_last_7days_win_rate   0.012\n",
       "24            win_today_games   0.004\n",
       "22        part_of_day_morning   0.001\n",
       "11               t_ctrl_300+3   0.001"
      ]
     },
     "execution_count": 194,
     "metadata": {},
     "output_type": "execute_result"
    }
   ],
   "source": [
    "weights = pd.DataFrame(data=np.array([list(X_train.columns), clf_l2.coef_.flatten()]).T, columns=['Variable', 'Weight'])\n",
    "weights['Weight'] = weights['Weight'].astype('float32').round(3).abs()\n",
    "weights.sort_values(by='Weight', ascending=False)"
   ]
  },
  {
   "cell_type": "markdown",
   "metadata": {},
   "source": [
    "#### Логистическая регрессия с L1-регуляризацией"
   ]
  },
  {
   "cell_type": "code",
   "execution_count": 158,
   "metadata": {},
   "outputs": [
    {
     "name": "stdout",
     "output_type": "stream",
     "text": [
      "Наилучший параметр С = 10.000000.\n",
      "Значения accuracy для X_train:\n",
      "0.6557443365695793 \n",
      "\n",
      "Значения accuracy для X_test:\n",
      "0.6444991789819376 \n",
      "\n"
     ]
    }
   ],
   "source": [
    "clf_l1 = LogisticRegressionCV(Cs=9, cv=5, random_state=28, penalty='l1', solver='liblinear').fit(X_train, y_train)\n",
    "print('Наилучший параметр С = %f.\\nЗначения accuracy для X_train:' % clf_l1.C_)\n",
    "print(accuracy_score(y_train, clf_l1.predict(X_train)), '\\n')\n",
    "print('Значения accuracy для X_test:')\n",
    "print(accuracy_score(y_test, clf_l1.predict(X_test)), '\\n')"
   ]
  },
  {
   "cell_type": "markdown",
   "metadata": {},
   "source": [
    "Значения весов переменных при обучении:"
   ]
  },
  {
   "cell_type": "code",
   "execution_count": 195,
   "metadata": {},
   "outputs": [
    {
     "data": {
      "text/html": [
       "<div>\n",
       "<style scoped>\n",
       "    .dataframe tbody tr th:only-of-type {\n",
       "        vertical-align: middle;\n",
       "    }\n",
       "\n",
       "    .dataframe tbody tr th {\n",
       "        vertical-align: top;\n",
       "    }\n",
       "\n",
       "    .dataframe thead th {\n",
       "        text-align: right;\n",
       "    }\n",
       "</style>\n",
       "<table border=\"1\" class=\"dataframe\">\n",
       "  <thead>\n",
       "    <tr style=\"text-align: right;\">\n",
       "      <th></th>\n",
       "      <th>Variable</th>\n",
       "      <th>Weight</th>\n",
       "    </tr>\n",
       "  </thead>\n",
       "  <tbody>\n",
       "    <tr>\n",
       "      <th>10</th>\n",
       "      <td>t_ctrl_300+2</td>\n",
       "      <td>3.413</td>\n",
       "    </tr>\n",
       "    <tr>\n",
       "      <th>15</th>\n",
       "      <td>t_ctrl_600+5</td>\n",
       "      <td>2.352</td>\n",
       "    </tr>\n",
       "    <tr>\n",
       "      <th>3</th>\n",
       "      <td>opp_rating</td>\n",
       "      <td>0.479</td>\n",
       "    </tr>\n",
       "    <tr>\n",
       "      <th>27</th>\n",
       "      <td>log_me_opp_ratio</td>\n",
       "      <td>0.380</td>\n",
       "    </tr>\n",
       "    <tr>\n",
       "      <th>2</th>\n",
       "      <td>rating_diff</td>\n",
       "      <td>0.321</td>\n",
       "    </tr>\n",
       "    <tr>\n",
       "      <th>1</th>\n",
       "      <td>event</td>\n",
       "      <td>0.266</td>\n",
       "    </tr>\n",
       "    <tr>\n",
       "      <th>31</th>\n",
       "      <td>quad_win_rate_today_games</td>\n",
       "      <td>0.246</td>\n",
       "    </tr>\n",
       "    <tr>\n",
       "      <th>19</th>\n",
       "      <td>its_weekend</td>\n",
       "      <td>0.227</td>\n",
       "    </tr>\n",
       "    <tr>\n",
       "      <th>14</th>\n",
       "      <td>t_ctrl_600+0</td>\n",
       "      <td>0.224</td>\n",
       "    </tr>\n",
       "    <tr>\n",
       "      <th>12</th>\n",
       "      <td>t_ctrl_60+0</td>\n",
       "      <td>0.204</td>\n",
       "    </tr>\n",
       "    <tr>\n",
       "      <th>16</th>\n",
       "      <td>time_control</td>\n",
       "      <td>0.174</td>\n",
       "    </tr>\n",
       "    <tr>\n",
       "      <th>28</th>\n",
       "      <td>quad_me_opp_ratio</td>\n",
       "      <td>0.164</td>\n",
       "    </tr>\n",
       "    <tr>\n",
       "      <th>7</th>\n",
       "      <td>t_ctrl_180+1</td>\n",
       "      <td>0.160</td>\n",
       "    </tr>\n",
       "    <tr>\n",
       "      <th>0</th>\n",
       "      <td>my_color</td>\n",
       "      <td>0.147</td>\n",
       "    </tr>\n",
       "    <tr>\n",
       "      <th>25</th>\n",
       "      <td>win_rate_today_games</td>\n",
       "      <td>0.145</td>\n",
       "    </tr>\n",
       "    <tr>\n",
       "      <th>9</th>\n",
       "      <td>t_ctrl_300+0</td>\n",
       "      <td>0.107</td>\n",
       "    </tr>\n",
       "    <tr>\n",
       "      <th>8</th>\n",
       "      <td>t_ctrl_180+2</td>\n",
       "      <td>0.092</td>\n",
       "    </tr>\n",
       "    <tr>\n",
       "      <th>23</th>\n",
       "      <td>last_7days_wins</td>\n",
       "      <td>0.074</td>\n",
       "    </tr>\n",
       "    <tr>\n",
       "      <th>21</th>\n",
       "      <td>part_of_day_evening</td>\n",
       "      <td>0.069</td>\n",
       "    </tr>\n",
       "    <tr>\n",
       "      <th>17</th>\n",
       "      <td>day_of_week</td>\n",
       "      <td>0.068</td>\n",
       "    </tr>\n",
       "    <tr>\n",
       "      <th>18</th>\n",
       "      <td>hour_of_game</td>\n",
       "      <td>0.066</td>\n",
       "    </tr>\n",
       "    <tr>\n",
       "      <th>6</th>\n",
       "      <td>t_ctrl_180+0</td>\n",
       "      <td>0.065</td>\n",
       "    </tr>\n",
       "    <tr>\n",
       "      <th>4</th>\n",
       "      <td>t_ctrl_120+0</td>\n",
       "      <td>0.059</td>\n",
       "    </tr>\n",
       "    <tr>\n",
       "      <th>29</th>\n",
       "      <td>quad_rating_diff</td>\n",
       "      <td>0.052</td>\n",
       "    </tr>\n",
       "    <tr>\n",
       "      <th>20</th>\n",
       "      <td>part_of_day_afternoon</td>\n",
       "      <td>0.036</td>\n",
       "    </tr>\n",
       "    <tr>\n",
       "      <th>30</th>\n",
       "      <td>quad_last_7days_win_rate</td>\n",
       "      <td>0.010</td>\n",
       "    </tr>\n",
       "    <tr>\n",
       "      <th>24</th>\n",
       "      <td>win_today_games</td>\n",
       "      <td>0.006</td>\n",
       "    </tr>\n",
       "    <tr>\n",
       "      <th>5</th>\n",
       "      <td>t_ctrl_120+1</td>\n",
       "      <td>0.000</td>\n",
       "    </tr>\n",
       "    <tr>\n",
       "      <th>22</th>\n",
       "      <td>part_of_day_morning</td>\n",
       "      <td>0.000</td>\n",
       "    </tr>\n",
       "    <tr>\n",
       "      <th>26</th>\n",
       "      <td>me_opp_ratio</td>\n",
       "      <td>0.000</td>\n",
       "    </tr>\n",
       "    <tr>\n",
       "      <th>13</th>\n",
       "      <td>t_ctrl_60+1</td>\n",
       "      <td>0.000</td>\n",
       "    </tr>\n",
       "    <tr>\n",
       "      <th>11</th>\n",
       "      <td>t_ctrl_300+3</td>\n",
       "      <td>0.000</td>\n",
       "    </tr>\n",
       "  </tbody>\n",
       "</table>\n",
       "</div>"
      ],
      "text/plain": [
       "                     Variable  Weight\n",
       "10               t_ctrl_300+2   3.413\n",
       "15               t_ctrl_600+5   2.352\n",
       "3                  opp_rating   0.479\n",
       "27           log_me_opp_ratio   0.380\n",
       "2                 rating_diff   0.321\n",
       "1                       event   0.266\n",
       "31  quad_win_rate_today_games   0.246\n",
       "19                its_weekend   0.227\n",
       "14               t_ctrl_600+0   0.224\n",
       "12                t_ctrl_60+0   0.204\n",
       "16               time_control   0.174\n",
       "28          quad_me_opp_ratio   0.164\n",
       "7                t_ctrl_180+1   0.160\n",
       "0                    my_color   0.147\n",
       "25       win_rate_today_games   0.145\n",
       "9                t_ctrl_300+0   0.107\n",
       "8                t_ctrl_180+2   0.092\n",
       "23            last_7days_wins   0.074\n",
       "21        part_of_day_evening   0.069\n",
       "17                day_of_week   0.068\n",
       "18               hour_of_game   0.066\n",
       "6                t_ctrl_180+0   0.065\n",
       "4                t_ctrl_120+0   0.059\n",
       "29           quad_rating_diff   0.052\n",
       "20      part_of_day_afternoon   0.036\n",
       "30   quad_last_7days_win_rate   0.010\n",
       "24            win_today_games   0.006\n",
       "5                t_ctrl_120+1   0.000\n",
       "22        part_of_day_morning   0.000\n",
       "26               me_opp_ratio   0.000\n",
       "13                t_ctrl_60+1   0.000\n",
       "11               t_ctrl_300+3   0.000"
      ]
     },
     "execution_count": 195,
     "metadata": {},
     "output_type": "execute_result"
    }
   ],
   "source": [
    "weights = pd.DataFrame(data=np.array([list(X_train.columns), clf_l1.coef_.flatten()]).T, columns=['Variable', 'Weight'])\n",
    "weights['Weight'] = weights['Weight'].astype('float32').round(3).abs()\n",
    "weights.sort_values(by='Weight', ascending=False)"
   ]
  },
  {
   "cell_type": "markdown",
   "metadata": {},
   "source": [
    "#### Наилучшая точность на тестовых данных у логистической регрессии с параметрами: L2-регуляризация, C=0.1."
   ]
  },
  {
   "cell_type": "markdown",
   "metadata": {},
   "source": [
    "#### accuracy score (для X_test)= 0.654 "
   ]
  },
  {
   "cell_type": "markdown",
   "metadata": {},
   "source": [
    "## Заключение"
   ]
  },
  {
   "cell_type": "markdown",
   "metadata": {},
   "source": [
    "Данный проект был направлен на решение вопроса - возможно ли предсказать результат моей партии на сайте lichess.org, имея базу данных моих предыдущих партий на этом сайте? Ответ - можно, и доля правильно предсказанных ответов 65 %. Для предсказания вероятности результата использовалась логистическая регрессия, т.к. она идеально подходит для вычисления вероятностей класса. Учитывая непредсказуемость блиц-партий онлайн, 65% правильных предугадываний, считаю, довольно неплохой результат. Для достижения такого показателя, была проделана следующая работа:"
   ]
  },
  {
   "cell_type": "markdown",
   "metadata": {},
   "source": [
    "- Выгружена база партий, из которой был создан первичный набор данных"
   ]
  },
  {
   "cell_type": "markdown",
   "metadata": {},
   "source": [
    "- Проведен анализ данных (EDA) для формирования информативных признаков (фичей) для построения тренировочного набора данных"
   ]
  },
  {
   "cell_type": "markdown",
   "metadata": {},
   "source": [
    "- На основе анализа были построены обучающий и тестовый набор данных"
   ]
  },
  {
   "cell_type": "markdown",
   "metadata": {},
   "source": [
    "- Проведено обучение логистической регрессии с поиском наилучшего классификатора по параметру accuracy score на кросс-валидации."
   ]
  },
  {
   "cell_type": "markdown",
   "metadata": {},
   "source": [
    "#### Спасибо, что дочитали до конца!"
   ]
  },
  {
   "cell_type": "markdown",
   "metadata": {},
   "source": [
    "### Данные, полученные в результате этого анализа, легли в основу программы \"Шахматный Нострадамус\". Открывай его скорей, и ты, возможно, узнаешь вероятность своей победы в шахматной партии..."
   ]
  }
 ],
 "metadata": {
  "kernelspec": {
   "display_name": "Python 3",
   "language": "python",
   "name": "python3"
  },
  "language_info": {
   "codemirror_mode": {
    "name": "ipython",
    "version": 3
   },
   "file_extension": ".py",
   "mimetype": "text/x-python",
   "name": "python",
   "nbconvert_exporter": "python",
   "pygments_lexer": "ipython3",
   "version": "3.8.2"
  }
 },
 "nbformat": 4,
 "nbformat_minor": 4
}
